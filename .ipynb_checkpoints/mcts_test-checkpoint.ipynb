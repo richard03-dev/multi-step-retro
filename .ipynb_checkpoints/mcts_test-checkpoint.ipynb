{
 "cells": [
  {
   "cell_type": "code",
   "execution_count": 1,
   "metadata": {},
   "outputs": [
    {
     "name": "stderr",
     "output_type": "stream",
     "text": [
      "/home/rjsilves/.local/lib/python3.9/site-packages/pandas/core/computation/expressions.py:21: UserWarning: Pandas requires version '2.8.4' or newer of 'numexpr' (version '2.8.3' currently installed).\n",
      "  from pandas.core.computation.check import NUMEXPR_INSTALLED\n",
      "/home/rjsilves/.local/lib/python3.9/site-packages/pandas/core/arrays/masked.py:60: UserWarning: Pandas requires version '1.3.6' or newer of 'bottleneck' (version '1.3.5' currently installed).\n",
      "  from pandas.core import (\n",
      "100%|██████████| 1000/1000 [01:21<00:00, 12.33it/s]\n"
     ]
    },
    {
     "name": "stdout",
     "output_type": "stream",
     "text": [
      "Time taken (s):  81.08462238311768\n",
      "Reaction name: Ketone reduction, Score: 1.0543966155957896\n",
      "Chem C[C@@H](N)C(=O)c1ccccc1, Score: 1.9, visits: 11, solution: True\n",
      " \n",
      "Reaction name: Ketone amination, Score: 1.1208020577623934\n",
      "Chem CC(=O)[C@H](O)c1ccccc1, Score: 4.75, visits: 14, solution: True\n",
      " \n",
      "Reaction name: Imine reduction, Score: 1.0338489451859145\n",
      "Chem CC(=N)[C@H](O)c1ccccc1, Score: 0.0, visits: 8, solution: False\n",
      " \n",
      "Reaction name: Amide hydrolysis (NH), Score: 1.0097026079608635\n",
      "Chem CC(=O)N[C@H](C)[C@H](O)c1ccccc1, Score: 0.85, visits: 10, solution: False\n",
      " \n",
      "Reaction name: Phosphate hydrolysis, Score: 1.0778841289400352\n",
      "Chem C[C@@H](N)[C@H](OP(=O)(O)O)c1ccccc1, Score: 2.8049999999999997, visits: 12, solution: False\n",
      " \n",
      "Reaction name: Imine reduction, Score: 1.070249910929137\n",
      "Chem CC(=N)[C@H](O)c1ccccc1, Score: 0.85975, visits: 9, solution: False\n",
      " \n",
      "Reaction name: Ester hydrolysis (OH), Score: 1.0338489451859145\n",
      "Chem CCC(=O)O[C@H](c1ccccc1)[C@@H](C)N, Score: 0.0, visits: 8, solution: False\n",
      " \n"
     ]
    }
   ],
   "source": [
    "import sqlite3\n",
    "import pandas as pd\n",
    "import numpy as np\n",
    "import time\n",
    "from utils import *\n",
    "from ReactNode import ReactNode\n",
    "from ChemNode import ChemNode\n",
    "from ChemNode import ChemNode\n",
    "from MCTS import MCTS\n",
    "from tree_utils import *\n",
    "\n",
    "conn = sqlite3.connect('buyable.db')\n",
    "buyable = conn.cursor()\n",
    "retrobiocat = pd.read_pickle(\"data/final_test_retrobiocat.pkl\")\n",
    "analyzer = Retrosim()\n",
    "\n",
    "smile = \"C#C[C@]1([C@H](C[C@@H](O1)N2C=NC3=C(N=C(N=C32)F)N)O)CO\"\n",
    "root = ChemNode(smile, 0, None, buyable, retrobiocat, analyzer, None)\n",
    "\n",
    "mcts = MCTS(root)\n",
    "\n",
    "start = time.time()\n",
    "mcts.MCTS(1000)\n",
    "print(\"Time taken (s): \", time.time()-start)\n",
    "\n",
    "for react in root.reactions:\n",
    "    print(f'Reaction name: {react.reaction_name}, Score: {react.get_mcts_value()}')\n",
    "    for precursor in react.precursors:\n",
    "        print(f'Chem {precursor.smiles}, Score: {precursor.score}, visits: {precursor.visits}, solution: {precursor.solution}')\n",
    "    print(\" \")\n",
    "    \n",
    "prune_tree(root)\n",
    "paths = generate_paths(root)"
   ]
  },
  {
   "cell_type": "code",
   "execution_count": 2,
   "metadata": {},
   "outputs": [
    {
     "data": {
      "text/plain": [
       "False"
      ]
     },
     "execution_count": 2,
     "metadata": {},
     "output_type": "execute_result"
    }
   ],
   "source": [
    "root.solution"
   ]
  },
  {
   "cell_type": "code",
   "execution_count": 4,
   "metadata": {},
   "outputs": [
    {
     "name": "stdout",
     "output_type": "stream",
     "text": [
      "There are 4 paths found.\n"
     ]
    },
    {
     "name": "stdin",
     "output_type": "stream",
     "text": [
      "Enter a number (1-4) to explore a path or type 'exit' to quit:  1\n"
     ]
    },
    {
     "name": "stdout",
     "output_type": "stream",
     "text": [
      "\n",
      "This is path 1 of 4\n",
      "--------------------\n",
      "Target Compound: C[C@@H](N)[C@H](O)c1ccccc1\n"
     ]
    },
    {
     "data": {
      "image/svg+xml": [
       "<svg xmlns=\"http://www.w3.org/2000/svg\" xmlns:rdkit=\"http://www.rdkit.org/xml\" xmlns:xlink=\"http://www.w3.org/1999/xlink\" version=\"1.1\" baseProfile=\"full\" xml:space=\"preserve\" width=\"400px\" height=\"400px\" viewBox=\"0 0 400 400\">\n",
       "<!-- END OF HEADER -->\n",
       "<rect style=\"opacity:1.0;fill:#FFFFFF;stroke:none\" width=\"400.0\" height=\"400.0\" x=\"0.0\" y=\"0.0\"> </rect>\n",
       "<path class=\"bond-0 atom-1 atom-0\" d=\"M 97.5,171.4 L 22.7,195.3 L 20.0,183.9 Z\" style=\"fill:#000000;fill-rule:evenodd;fill-opacity:1;stroke:#000000;stroke-width:0.5px;stroke-linecap:butt;stroke-linejoin:miter;stroke-opacity:1;\"/>\n",
       "<path class=\"bond-1 atom-1 atom-2\" d=\"M 97.5,171.4 L 106.6,140.6\" style=\"fill:none;fill-rule:evenodd;stroke:#000000;stroke-width:2.0px;stroke-linecap:butt;stroke-linejoin:miter;stroke-opacity:1\"/>\n",
       "<path class=\"bond-1 atom-1 atom-2\" d=\"M 106.6,140.6 L 115.7,109.9\" style=\"fill:none;fill-rule:evenodd;stroke:#0000FF;stroke-width:2.0px;stroke-linecap:butt;stroke-linejoin:miter;stroke-opacity:1\"/>\n",
       "<path class=\"bond-2 atom-1 atom-3\" d=\"M 97.5,171.4 L 151.5,228.2\" style=\"fill:none;fill-rule:evenodd;stroke:#000000;stroke-width:2.0px;stroke-linecap:butt;stroke-linejoin:miter;stroke-opacity:1\"/>\n",
       "<path class=\"bond-3 atom-3 atom-4\" d=\"M 151.5,228.2 L 145.6,258.4 L 140.0,256.7 Z\" style=\"fill:#000000;fill-rule:evenodd;fill-opacity:1;stroke:#000000;stroke-width:0.5px;stroke-linecap:butt;stroke-linejoin:miter;stroke-opacity:1;\"/>\n",
       "<path class=\"bond-3 atom-3 atom-4\" d=\"M 145.6,258.4 L 128.4,285.2 L 139.7,288.6 Z\" style=\"fill:#FF0000;fill-rule:evenodd;fill-opacity:1;stroke:#FF0000;stroke-width:0.5px;stroke-linecap:butt;stroke-linejoin:miter;stroke-opacity:1;\"/>\n",
       "<path class=\"bond-3 atom-3 atom-4\" d=\"M 145.6,258.4 L 140.0,256.7 L 128.4,285.2 Z\" style=\"fill:#FF0000;fill-rule:evenodd;fill-opacity:1;stroke:#FF0000;stroke-width:0.5px;stroke-linecap:butt;stroke-linejoin:miter;stroke-opacity:1;\"/>\n",
       "<path class=\"bond-4 atom-3 atom-5\" d=\"M 151.5,228.2 L 227.6,209.9\" style=\"fill:none;fill-rule:evenodd;stroke:#000000;stroke-width:2.0px;stroke-linecap:butt;stroke-linejoin:miter;stroke-opacity:1\"/>\n",
       "<path class=\"bond-5 atom-5 atom-6\" d=\"M 227.6,209.9 L 249.9,134.8\" style=\"fill:none;fill-rule:evenodd;stroke:#000000;stroke-width:2.0px;stroke-linecap:butt;stroke-linejoin:miter;stroke-opacity:1\"/>\n",
       "<path class=\"bond-5 atom-5 atom-6\" d=\"M 240.8,206.7 L 259.2,144.6\" style=\"fill:none;fill-rule:evenodd;stroke:#000000;stroke-width:2.0px;stroke-linecap:butt;stroke-linejoin:miter;stroke-opacity:1\"/>\n",
       "<path class=\"bond-6 atom-6 atom-7\" d=\"M 249.9,134.8 L 326.1,116.5\" style=\"fill:none;fill-rule:evenodd;stroke:#000000;stroke-width:2.0px;stroke-linecap:butt;stroke-linejoin:miter;stroke-opacity:1\"/>\n",
       "<path class=\"bond-7 atom-7 atom-8\" d=\"M 326.1,116.5 L 380.0,173.3\" style=\"fill:none;fill-rule:evenodd;stroke:#000000;stroke-width:2.0px;stroke-linecap:butt;stroke-linejoin:miter;stroke-opacity:1\"/>\n",
       "<path class=\"bond-7 atom-7 atom-8\" d=\"M 322.2,129.5 L 366.8,176.5\" style=\"fill:none;fill-rule:evenodd;stroke:#000000;stroke-width:2.0px;stroke-linecap:butt;stroke-linejoin:miter;stroke-opacity:1\"/>\n",
       "<path class=\"bond-8 atom-8 atom-9\" d=\"M 380.0,173.3 L 357.7,248.4\" style=\"fill:none;fill-rule:evenodd;stroke:#000000;stroke-width:2.0px;stroke-linecap:butt;stroke-linejoin:miter;stroke-opacity:1\"/>\n",
       "<path class=\"bond-9 atom-9 atom-10\" d=\"M 357.7,248.4 L 281.6,266.7\" style=\"fill:none;fill-rule:evenodd;stroke:#000000;stroke-width:2.0px;stroke-linecap:butt;stroke-linejoin:miter;stroke-opacity:1\"/>\n",
       "<path class=\"bond-9 atom-9 atom-10\" d=\"M 348.4,238.6 L 285.4,253.7\" style=\"fill:none;fill-rule:evenodd;stroke:#000000;stroke-width:2.0px;stroke-linecap:butt;stroke-linejoin:miter;stroke-opacity:1\"/>\n",
       "<path class=\"bond-10 atom-10 atom-5\" d=\"M 281.6,266.7 L 227.6,209.9\" style=\"fill:none;fill-rule:evenodd;stroke:#000000;stroke-width:2.0px;stroke-linecap:butt;stroke-linejoin:miter;stroke-opacity:1\"/>\n",
       "<path d=\"M 98.0,169.8 L 97.5,171.4 L 100.2,174.2\" style=\"fill:none;stroke:#000000;stroke-width:2.0px;stroke-linecap:butt;stroke-linejoin:miter;stroke-opacity:1;\"/>\n",
       "<path d=\"M 148.8,225.3 L 151.5,228.2 L 155.3,227.3\" style=\"fill:none;stroke:#000000;stroke-width:2.0px;stroke-linecap:butt;stroke-linejoin:miter;stroke-opacity:1;\"/>\n",
       "<path d=\"M 248.8,138.5 L 249.9,134.8 L 253.7,133.9\" style=\"fill:none;stroke:#000000;stroke-width:2.0px;stroke-linecap:butt;stroke-linejoin:miter;stroke-opacity:1;\"/>\n",
       "<path d=\"M 322.3,117.4 L 326.1,116.5 L 328.8,119.3\" style=\"fill:none;stroke:#000000;stroke-width:2.0px;stroke-linecap:butt;stroke-linejoin:miter;stroke-opacity:1;\"/>\n",
       "<path d=\"M 377.3,170.5 L 380.0,173.3 L 378.9,177.1\" style=\"fill:none;stroke:#000000;stroke-width:2.0px;stroke-linecap:butt;stroke-linejoin:miter;stroke-opacity:1;\"/>\n",
       "<path d=\"M 358.9,244.7 L 357.7,248.4 L 353.9,249.4\" style=\"fill:none;stroke:#000000;stroke-width:2.0px;stroke-linecap:butt;stroke-linejoin:miter;stroke-opacity:1;\"/>\n",
       "<path d=\"M 285.4,265.8 L 281.6,266.7 L 278.9,263.9\" style=\"fill:none;stroke:#000000;stroke-width:2.0px;stroke-linecap:butt;stroke-linejoin:miter;stroke-opacity:1;\"/>\n",
       "<path class=\"atom-2\" d=\"M 114.9 85.1 L 122.2 96.9 Q 122.9 98.1, 124.0 100.2 Q 125.2 102.3, 125.3 102.4 L 125.3 85.1 L 128.2 85.1 L 128.2 107.3 L 125.2 107.3 L 117.4 94.5 Q 116.5 93.0, 115.5 91.3 Q 114.6 89.5, 114.3 89.0 L 114.3 107.3 L 111.4 107.3 L 111.4 85.1 L 114.9 85.1 \" fill=\"#0000FF\"/>\n",
       "<path class=\"atom-2\" d=\"M 132.5 85.1 L 135.5 85.1 L 135.5 94.6 L 146.8 94.6 L 146.8 85.1 L 149.8 85.1 L 149.8 107.3 L 146.8 107.3 L 146.8 97.1 L 135.5 97.1 L 135.5 107.3 L 132.5 107.3 L 132.5 85.1 \" fill=\"#0000FF\"/>\n",
       "<path class=\"atom-2\" d=\"M 154.2 106.6 Q 154.7 105.2, 156.0 104.4 Q 157.3 103.6, 159.0 103.6 Q 161.2 103.6, 162.5 104.8 Q 163.7 106.0, 163.7 108.1 Q 163.7 110.3, 162.1 112.3 Q 160.5 114.4, 157.2 116.8 L 164.0 116.8 L 164.0 118.4 L 154.1 118.4 L 154.1 117.0 Q 156.8 115.1, 158.5 113.6 Q 160.1 112.2, 160.9 110.9 Q 161.7 109.6, 161.7 108.2 Q 161.7 106.8, 161.0 106.1 Q 160.3 105.3, 159.0 105.3 Q 157.9 105.3, 157.1 105.7 Q 156.3 106.2, 155.7 107.3 L 154.2 106.6 \" fill=\"#0000FF\"/>\n",
       "<path class=\"atom-4\" d=\"M 119.0 303.4 Q 119.0 298.0, 121.7 295.1 Q 124.3 292.1, 129.2 292.1 Q 134.1 292.1, 136.8 295.1 Q 139.4 298.0, 139.4 303.4 Q 139.4 308.7, 136.7 311.8 Q 134.1 314.9, 129.2 314.9 Q 124.3 314.9, 121.7 311.8 Q 119.0 308.8, 119.0 303.4 M 129.2 312.3 Q 132.6 312.3, 134.4 310.1 Q 136.3 307.8, 136.3 303.4 Q 136.3 299.0, 134.4 296.8 Q 132.6 294.6, 129.2 294.6 Q 125.8 294.6, 124.0 296.8 Q 122.2 299.0, 122.2 303.4 Q 122.2 307.8, 124.0 310.1 Q 125.8 312.3, 129.2 312.3 \" fill=\"#FF0000\"/>\n",
       "<path class=\"atom-4\" d=\"M 142.9 292.3 L 145.9 292.3 L 145.9 301.8 L 157.2 301.8 L 157.2 292.3 L 160.2 292.3 L 160.2 314.5 L 157.2 314.5 L 157.2 304.3 L 145.9 304.3 L 145.9 314.5 L 142.9 314.5 L 142.9 292.3 \" fill=\"#FF0000\"/>\n",
       "</svg>"
      ],
      "text/plain": [
       "<IPython.core.display.SVG object>"
      ]
     },
     "metadata": {},
     "output_type": "display_data"
    },
    {
     "name": "stdout",
     "output_type": "stream",
     "text": [
      "\n",
      "These are the buyable compounds needed for this pathway:\n",
      "Buyable Compound 1: CC(=O)C(=O)c1ccccc1\n"
     ]
    },
    {
     "data": {
      "image/svg+xml": [
       "<svg xmlns=\"http://www.w3.org/2000/svg\" xmlns:rdkit=\"http://www.rdkit.org/xml\" xmlns:xlink=\"http://www.w3.org/1999/xlink\" version=\"1.1\" baseProfile=\"full\" xml:space=\"preserve\" width=\"400px\" height=\"400px\" viewBox=\"0 0 400 400\">\n",
       "<!-- END OF HEADER -->\n",
       "<rect style=\"opacity:1.0;fill:#FFFFFF;stroke:none\" width=\"400.0\" height=\"400.0\" x=\"0.0\" y=\"0.0\"> </rect>\n",
       "<path class=\"bond-0 atom-0 atom-1\" d=\"M 20.0,189.7 L 96.5,171.3\" style=\"fill:none;fill-rule:evenodd;stroke:#000000;stroke-width:2.0px;stroke-linecap:butt;stroke-linejoin:miter;stroke-opacity:1\"/>\n",
       "<path class=\"bond-1 atom-1 atom-2\" d=\"M 101.2,176.2 L 110.7,144.0\" style=\"fill:none;fill-rule:evenodd;stroke:#000000;stroke-width:2.0px;stroke-linecap:butt;stroke-linejoin:miter;stroke-opacity:1\"/>\n",
       "<path class=\"bond-1 atom-1 atom-2\" d=\"M 110.7,144.0 L 120.3,111.8\" style=\"fill:none;fill-rule:evenodd;stroke:#FF0000;stroke-width:2.0px;stroke-linecap:butt;stroke-linejoin:miter;stroke-opacity:1\"/>\n",
       "<path class=\"bond-1 atom-1 atom-2\" d=\"M 89.8,172.9 L 99.4,140.7\" style=\"fill:none;fill-rule:evenodd;stroke:#000000;stroke-width:2.0px;stroke-linecap:butt;stroke-linejoin:miter;stroke-opacity:1\"/>\n",
       "<path class=\"bond-1 atom-1 atom-2\" d=\"M 99.4,140.7 L 108.9,108.4\" style=\"fill:none;fill-rule:evenodd;stroke:#FF0000;stroke-width:2.0px;stroke-linecap:butt;stroke-linejoin:miter;stroke-opacity:1\"/>\n",
       "<path class=\"bond-2 atom-1 atom-3\" d=\"M 96.5,171.3 L 150.6,228.3\" style=\"fill:none;fill-rule:evenodd;stroke:#000000;stroke-width:2.0px;stroke-linecap:butt;stroke-linejoin:miter;stroke-opacity:1\"/>\n",
       "<path class=\"bond-3 atom-3 atom-4\" d=\"M 145.9,223.4 L 136.3,255.8\" style=\"fill:none;fill-rule:evenodd;stroke:#000000;stroke-width:2.0px;stroke-linecap:butt;stroke-linejoin:miter;stroke-opacity:1\"/>\n",
       "<path class=\"bond-3 atom-3 atom-4\" d=\"M 136.3,255.8 L 126.7,288.2\" style=\"fill:none;fill-rule:evenodd;stroke:#FF0000;stroke-width:2.0px;stroke-linecap:butt;stroke-linejoin:miter;stroke-opacity:1\"/>\n",
       "<path class=\"bond-3 atom-3 atom-4\" d=\"M 157.2,226.8 L 147.6,259.2\" style=\"fill:none;fill-rule:evenodd;stroke:#000000;stroke-width:2.0px;stroke-linecap:butt;stroke-linejoin:miter;stroke-opacity:1\"/>\n",
       "<path class=\"bond-3 atom-3 atom-4\" d=\"M 147.6,259.2 L 138.0,291.6\" style=\"fill:none;fill-rule:evenodd;stroke:#FF0000;stroke-width:2.0px;stroke-linecap:butt;stroke-linejoin:miter;stroke-opacity:1\"/>\n",
       "<path class=\"bond-4 atom-3 atom-5\" d=\"M 150.6,228.3 L 227.1,210.0\" style=\"fill:none;fill-rule:evenodd;stroke:#000000;stroke-width:2.0px;stroke-linecap:butt;stroke-linejoin:miter;stroke-opacity:1\"/>\n",
       "<path class=\"bond-5 atom-5 atom-6\" d=\"M 227.1,210.0 L 249.4,134.6\" style=\"fill:none;fill-rule:evenodd;stroke:#000000;stroke-width:2.0px;stroke-linecap:butt;stroke-linejoin:miter;stroke-opacity:1\"/>\n",
       "<path class=\"bond-5 atom-5 atom-6\" d=\"M 240.3,206.8 L 258.8,144.5\" style=\"fill:none;fill-rule:evenodd;stroke:#000000;stroke-width:2.0px;stroke-linecap:butt;stroke-linejoin:miter;stroke-opacity:1\"/>\n",
       "<path class=\"bond-6 atom-6 atom-7\" d=\"M 249.4,134.6 L 325.9,116.2\" style=\"fill:none;fill-rule:evenodd;stroke:#000000;stroke-width:2.0px;stroke-linecap:butt;stroke-linejoin:miter;stroke-opacity:1\"/>\n",
       "<path class=\"bond-7 atom-7 atom-8\" d=\"M 325.9,116.2 L 380.0,173.3\" style=\"fill:none;fill-rule:evenodd;stroke:#000000;stroke-width:2.0px;stroke-linecap:butt;stroke-linejoin:miter;stroke-opacity:1\"/>\n",
       "<path class=\"bond-7 atom-7 atom-8\" d=\"M 322.0,129.3 L 366.8,176.5\" style=\"fill:none;fill-rule:evenodd;stroke:#000000;stroke-width:2.0px;stroke-linecap:butt;stroke-linejoin:miter;stroke-opacity:1\"/>\n",
       "<path class=\"bond-8 atom-8 atom-9\" d=\"M 380.0,173.3 L 357.7,248.7\" style=\"fill:none;fill-rule:evenodd;stroke:#000000;stroke-width:2.0px;stroke-linecap:butt;stroke-linejoin:miter;stroke-opacity:1\"/>\n",
       "<path class=\"bond-9 atom-9 atom-10\" d=\"M 357.7,248.7 L 281.2,267.0\" style=\"fill:none;fill-rule:evenodd;stroke:#000000;stroke-width:2.0px;stroke-linecap:butt;stroke-linejoin:miter;stroke-opacity:1\"/>\n",
       "<path class=\"bond-9 atom-9 atom-10\" d=\"M 348.3,238.8 L 285.1,254.0\" style=\"fill:none;fill-rule:evenodd;stroke:#000000;stroke-width:2.0px;stroke-linecap:butt;stroke-linejoin:miter;stroke-opacity:1\"/>\n",
       "<path class=\"bond-10 atom-10 atom-5\" d=\"M 281.2,267.0 L 227.1,210.0\" style=\"fill:none;fill-rule:evenodd;stroke:#000000;stroke-width:2.0px;stroke-linecap:butt;stroke-linejoin:miter;stroke-opacity:1\"/>\n",
       "<path d=\"M 92.6,172.2 L 96.5,171.3 L 99.2,174.2\" style=\"fill:none;stroke:#000000;stroke-width:2.0px;stroke-linecap:butt;stroke-linejoin:miter;stroke-opacity:1;\"/>\n",
       "<path d=\"M 147.9,225.5 L 150.6,228.3 L 154.4,227.4\" style=\"fill:none;stroke:#000000;stroke-width:2.0px;stroke-linecap:butt;stroke-linejoin:miter;stroke-opacity:1;\"/>\n",
       "<path d=\"M 248.3,138.4 L 249.4,134.6 L 253.2,133.7\" style=\"fill:none;stroke:#000000;stroke-width:2.0px;stroke-linecap:butt;stroke-linejoin:miter;stroke-opacity:1;\"/>\n",
       "<path d=\"M 322.0,117.2 L 325.9,116.2 L 328.6,119.1\" style=\"fill:none;stroke:#000000;stroke-width:2.0px;stroke-linecap:butt;stroke-linejoin:miter;stroke-opacity:1;\"/>\n",
       "<path d=\"M 377.3,170.4 L 380.0,173.3 L 378.9,177.1\" style=\"fill:none;stroke:#000000;stroke-width:2.0px;stroke-linecap:butt;stroke-linejoin:miter;stroke-opacity:1;\"/>\n",
       "<path d=\"M 358.8,244.9 L 357.7,248.7 L 353.8,249.6\" style=\"fill:none;stroke:#000000;stroke-width:2.0px;stroke-linecap:butt;stroke-linejoin:miter;stroke-opacity:1;\"/>\n",
       "<path d=\"M 285.0,266.1 L 281.2,267.0 L 278.5,264.2\" style=\"fill:none;stroke:#000000;stroke-width:2.0px;stroke-linecap:butt;stroke-linejoin:miter;stroke-opacity:1;\"/>\n",
       "<path class=\"atom-2\" d=\"M 108.6 96.0 Q 108.6 90.6, 111.2 87.6 Q 113.9 84.6, 118.8 84.6 Q 123.7 84.6, 126.4 87.6 Q 129.0 90.6, 129.0 96.0 Q 129.0 101.4, 126.4 104.5 Q 123.7 107.5, 118.8 107.5 Q 113.9 107.5, 111.2 104.5 Q 108.6 101.4, 108.6 96.0 M 118.8 105.0 Q 122.2 105.0, 124.0 102.7 Q 125.9 100.4, 125.9 96.0 Q 125.9 91.6, 124.0 89.4 Q 122.2 87.2, 118.8 87.2 Q 115.4 87.2, 113.6 89.4 Q 111.7 91.6, 111.7 96.0 Q 111.7 100.5, 113.6 102.7 Q 115.4 105.0, 118.8 105.0 \" fill=\"#FF0000\"/>\n",
       "<path class=\"atom-4\" d=\"M 118.0 303.8 Q 118.0 298.5, 120.7 295.5 Q 123.3 292.5, 128.3 292.5 Q 133.2 292.5, 135.8 295.5 Q 138.5 298.5, 138.5 303.8 Q 138.5 309.2, 135.8 312.3 Q 133.1 315.4, 128.3 315.4 Q 123.4 315.4, 120.7 312.3 Q 118.0 309.3, 118.0 303.8 M 128.3 312.8 Q 131.7 312.8, 133.5 310.6 Q 135.3 308.3, 135.3 303.8 Q 135.3 299.4, 133.5 297.2 Q 131.7 295.0, 128.3 295.0 Q 124.9 295.0, 123.0 297.2 Q 121.2 299.4, 121.2 303.8 Q 121.2 308.3, 123.0 310.6 Q 124.9 312.8, 128.3 312.8 \" fill=\"#FF0000\"/>\n",
       "</svg>"
      ],
      "text/plain": [
       "<IPython.core.display.SVG object>"
      ]
     },
     "metadata": {},
     "output_type": "display_data"
    },
    {
     "name": "stdout",
     "output_type": "stream",
     "text": [
      "\n",
      "Reaction 1: Ketone amination\n",
      "Reaction SMILES: CC(=O)C(=O)c1ccccc1>>C[C@@H](N)C(=O)c1ccccc1\n"
     ]
    },
    {
     "data": {
      "image/svg+xml": [
       "<svg xmlns=\"http://www.w3.org/2000/svg\" xmlns:rdkit=\"http://www.rdkit.org/xml\" xmlns:xlink=\"http://www.w3.org/1999/xlink\" version=\"1.1\" baseProfile=\"full\" xml:space=\"preserve\" width=\"800px\" height=\"200px\" viewBox=\"0 0 800 200\">\n",
       "<!-- END OF HEADER -->\n",
       "<rect style=\"opacity:1.0;fill:#FFFFFF;stroke:none\" width=\"800.0\" height=\"200.0\" x=\"0.0\" y=\"0.0\"> </rect>\n",
       "<path class=\"bond-0 atom-0 atom-1\" d=\"M 68.3,92.3 L 125.1,78.7\" style=\"fill:none;fill-rule:evenodd;stroke:#000000;stroke-width:2.0px;stroke-linecap:butt;stroke-linejoin:miter;stroke-opacity:1\"/>\n",
       "<path class=\"bond-1 atom-1 atom-2\" d=\"M 128.6,82.4 L 135.7,58.4\" style=\"fill:none;fill-rule:evenodd;stroke:#000000;stroke-width:2.0px;stroke-linecap:butt;stroke-linejoin:miter;stroke-opacity:1\"/>\n",
       "<path class=\"bond-1 atom-1 atom-2\" d=\"M 135.7,58.4 L 142.8,34.5\" style=\"fill:none;fill-rule:evenodd;stroke:#FF0000;stroke-width:2.0px;stroke-linecap:butt;stroke-linejoin:miter;stroke-opacity:1\"/>\n",
       "<path class=\"bond-1 atom-1 atom-2\" d=\"M 120.2,79.9 L 127.3,55.9\" style=\"fill:none;fill-rule:evenodd;stroke:#000000;stroke-width:2.0px;stroke-linecap:butt;stroke-linejoin:miter;stroke-opacity:1\"/>\n",
       "<path class=\"bond-1 atom-1 atom-2\" d=\"M 127.3,55.9 L 134.4,32.0\" style=\"fill:none;fill-rule:evenodd;stroke:#FF0000;stroke-width:2.0px;stroke-linecap:butt;stroke-linejoin:miter;stroke-opacity:1\"/>\n",
       "<path class=\"bond-2 atom-1 atom-3\" d=\"M 125.1,78.7 L 165.3,121.1\" style=\"fill:none;fill-rule:evenodd;stroke:#000000;stroke-width:2.0px;stroke-linecap:butt;stroke-linejoin:miter;stroke-opacity:1\"/>\n",
       "<path class=\"bond-3 atom-3 atom-4\" d=\"M 161.8,117.4 L 154.7,141.4\" style=\"fill:none;fill-rule:evenodd;stroke:#000000;stroke-width:2.0px;stroke-linecap:butt;stroke-linejoin:miter;stroke-opacity:1\"/>\n",
       "<path class=\"bond-3 atom-3 atom-4\" d=\"M 154.7,141.4 L 147.6,165.5\" style=\"fill:none;fill-rule:evenodd;stroke:#FF0000;stroke-width:2.0px;stroke-linecap:butt;stroke-linejoin:miter;stroke-opacity:1\"/>\n",
       "<path class=\"bond-3 atom-3 atom-4\" d=\"M 170.2,119.9 L 163.1,143.9\" style=\"fill:none;fill-rule:evenodd;stroke:#000000;stroke-width:2.0px;stroke-linecap:butt;stroke-linejoin:miter;stroke-opacity:1\"/>\n",
       "<path class=\"bond-3 atom-3 atom-4\" d=\"M 163.1,143.9 L 156.0,168.0\" style=\"fill:none;fill-rule:evenodd;stroke:#FF0000;stroke-width:2.0px;stroke-linecap:butt;stroke-linejoin:miter;stroke-opacity:1\"/>\n",
       "<path class=\"bond-4 atom-3 atom-5\" d=\"M 165.3,121.1 L 222.1,107.4\" style=\"fill:none;fill-rule:evenodd;stroke:#000000;stroke-width:2.0px;stroke-linecap:butt;stroke-linejoin:miter;stroke-opacity:1\"/>\n",
       "<path class=\"bond-5 atom-5 atom-6\" d=\"M 222.1,107.4 L 238.7,51.4\" style=\"fill:none;fill-rule:evenodd;stroke:#000000;stroke-width:2.0px;stroke-linecap:butt;stroke-linejoin:miter;stroke-opacity:1\"/>\n",
       "<path class=\"bond-5 atom-5 atom-6\" d=\"M 231.9,105.1 L 245.6,58.8\" style=\"fill:none;fill-rule:evenodd;stroke:#000000;stroke-width:2.0px;stroke-linecap:butt;stroke-linejoin:miter;stroke-opacity:1\"/>\n",
       "<path class=\"bond-6 atom-6 atom-7\" d=\"M 238.7,51.4 L 295.5,37.8\" style=\"fill:none;fill-rule:evenodd;stroke:#000000;stroke-width:2.0px;stroke-linecap:butt;stroke-linejoin:miter;stroke-opacity:1\"/>\n",
       "<path class=\"bond-7 atom-7 atom-8\" d=\"M 295.5,37.8 L 335.7,80.2\" style=\"fill:none;fill-rule:evenodd;stroke:#000000;stroke-width:2.0px;stroke-linecap:butt;stroke-linejoin:miter;stroke-opacity:1\"/>\n",
       "<path class=\"bond-7 atom-7 atom-8\" d=\"M 292.6,47.5 L 325.8,82.5\" style=\"fill:none;fill-rule:evenodd;stroke:#000000;stroke-width:2.0px;stroke-linecap:butt;stroke-linejoin:miter;stroke-opacity:1\"/>\n",
       "<path class=\"bond-8 atom-8 atom-9\" d=\"M 335.7,80.2 L 319.1,136.2\" style=\"fill:none;fill-rule:evenodd;stroke:#000000;stroke-width:2.0px;stroke-linecap:butt;stroke-linejoin:miter;stroke-opacity:1\"/>\n",
       "<path class=\"bond-9 atom-9 atom-10\" d=\"M 319.1,136.2 L 262.3,149.8\" style=\"fill:none;fill-rule:evenodd;stroke:#000000;stroke-width:2.0px;stroke-linecap:butt;stroke-linejoin:miter;stroke-opacity:1\"/>\n",
       "<path class=\"bond-9 atom-9 atom-10\" d=\"M 312.1,128.8 L 265.2,140.1\" style=\"fill:none;fill-rule:evenodd;stroke:#000000;stroke-width:2.0px;stroke-linecap:butt;stroke-linejoin:miter;stroke-opacity:1\"/>\n",
       "<path class=\"bond-10 atom-10 atom-5\" d=\"M 262.3,149.8 L 222.1,107.4\" style=\"fill:none;fill-rule:evenodd;stroke:#000000;stroke-width:2.0px;stroke-linecap:butt;stroke-linejoin:miter;stroke-opacity:1\"/>\n",
       "<path d=\"M 122.3,79.4 L 125.1,78.7 L 127.1,80.8\" style=\"fill:none;stroke:#000000;stroke-width:2.0px;stroke-linecap:butt;stroke-linejoin:miter;stroke-opacity:1;\"/>\n",
       "<path d=\"M 163.3,118.9 L 165.3,121.1 L 168.2,120.4\" style=\"fill:none;stroke:#000000;stroke-width:2.0px;stroke-linecap:butt;stroke-linejoin:miter;stroke-opacity:1;\"/>\n",
       "<path d=\"M 237.9,54.2 L 238.7,51.4 L 241.5,50.8\" style=\"fill:none;stroke:#000000;stroke-width:2.0px;stroke-linecap:butt;stroke-linejoin:miter;stroke-opacity:1;\"/>\n",
       "<path d=\"M 292.6,38.5 L 295.5,37.8 L 297.5,39.9\" style=\"fill:none;stroke:#000000;stroke-width:2.0px;stroke-linecap:butt;stroke-linejoin:miter;stroke-opacity:1;\"/>\n",
       "<path d=\"M 333.6,78.0 L 335.7,80.2 L 334.8,83.0\" style=\"fill:none;stroke:#000000;stroke-width:2.0px;stroke-linecap:butt;stroke-linejoin:miter;stroke-opacity:1;\"/>\n",
       "<path d=\"M 319.9,133.4 L 319.1,136.2 L 316.2,136.8\" style=\"fill:none;stroke:#000000;stroke-width:2.0px;stroke-linecap:butt;stroke-linejoin:miter;stroke-opacity:1;\"/>\n",
       "<path d=\"M 265.1,149.1 L 262.3,149.8 L 260.3,147.7\" style=\"fill:none;stroke:#000000;stroke-width:2.0px;stroke-linecap:butt;stroke-linejoin:miter;stroke-opacity:1;\"/>\n",
       "<path class=\"atom-2\" d=\"M 134.1 22.8 Q 134.1 18.8, 136.1 16.6 Q 138.0 14.3, 141.7 14.3 Q 145.4 14.3, 147.3 16.6 Q 149.3 18.8, 149.3 22.8 Q 149.3 26.8, 147.3 29.1 Q 145.3 31.3, 141.7 31.3 Q 138.1 31.3, 136.1 29.1 Q 134.1 26.8, 134.1 22.8 M 141.7 29.5 Q 144.2 29.5, 145.6 27.8 Q 147.0 26.1, 147.0 22.8 Q 147.0 19.5, 145.6 17.9 Q 144.2 16.2, 141.7 16.2 Q 139.2 16.2, 137.8 17.8 Q 136.5 19.5, 136.5 22.8 Q 136.5 26.1, 137.8 27.8 Q 139.2 29.5, 141.7 29.5 \" fill=\"#FF0000\"/>\n",
       "<path class=\"atom-4\" d=\"M 141.1 177.1 Q 141.1 173.1, 143.1 170.9 Q 145.1 168.7, 148.7 168.7 Q 152.4 168.7, 154.4 170.9 Q 156.3 173.1, 156.3 177.1 Q 156.3 181.1, 154.3 183.4 Q 152.4 185.7, 148.7 185.7 Q 145.1 185.7, 143.1 183.4 Q 141.1 181.1, 141.1 177.1 M 148.7 183.8 Q 151.3 183.8, 152.6 182.1 Q 154.0 180.4, 154.0 177.1 Q 154.0 173.8, 152.6 172.2 Q 151.3 170.5, 148.7 170.5 Q 146.2 170.5, 144.8 172.2 Q 143.5 173.8, 143.5 177.1 Q 143.5 180.4, 144.8 182.1 Q 146.2 183.8, 148.7 183.8 \" fill=\"#FF0000\"/>\n",
       "<path class=\"bond-11 atom-12 atom-11\" d=\"M 522.1,78.6 L 466.4,96.5 L 464.3,88.0 Z\" style=\"fill:#000000;fill-rule:evenodd;fill-opacity:1;stroke:#000000;stroke-width:0.5px;stroke-linecap:butt;stroke-linejoin:miter;stroke-opacity:1;\"/>\n",
       "<path class=\"bond-12 atom-12 atom-13\" d=\"M 522.1,78.6 L 528.9,55.7\" style=\"fill:none;fill-rule:evenodd;stroke:#000000;stroke-width:2.0px;stroke-linecap:butt;stroke-linejoin:miter;stroke-opacity:1\"/>\n",
       "<path class=\"bond-12 atom-12 atom-13\" d=\"M 528.9,55.7 L 535.7,32.9\" style=\"fill:none;fill-rule:evenodd;stroke:#0000FF;stroke-width:2.0px;stroke-linecap:butt;stroke-linejoin:miter;stroke-opacity:1\"/>\n",
       "<path class=\"bond-13 atom-12 atom-14\" d=\"M 522.1,78.6 L 562.3,121.0\" style=\"fill:none;fill-rule:evenodd;stroke:#000000;stroke-width:2.0px;stroke-linecap:butt;stroke-linejoin:miter;stroke-opacity:1\"/>\n",
       "<path class=\"bond-14 atom-14 atom-15\" d=\"M 558.8,117.3 L 551.7,141.4\" style=\"fill:none;fill-rule:evenodd;stroke:#000000;stroke-width:2.0px;stroke-linecap:butt;stroke-linejoin:miter;stroke-opacity:1\"/>\n",
       "<path class=\"bond-14 atom-14 atom-15\" d=\"M 551.7,141.4 L 544.6,165.5\" style=\"fill:none;fill-rule:evenodd;stroke:#FF0000;stroke-width:2.0px;stroke-linecap:butt;stroke-linejoin:miter;stroke-opacity:1\"/>\n",
       "<path class=\"bond-14 atom-14 atom-15\" d=\"M 567.2,119.8 L 560.1,143.9\" style=\"fill:none;fill-rule:evenodd;stroke:#000000;stroke-width:2.0px;stroke-linecap:butt;stroke-linejoin:miter;stroke-opacity:1\"/>\n",
       "<path class=\"bond-14 atom-14 atom-15\" d=\"M 560.1,143.9 L 553.0,167.9\" style=\"fill:none;fill-rule:evenodd;stroke:#FF0000;stroke-width:2.0px;stroke-linecap:butt;stroke-linejoin:miter;stroke-opacity:1\"/>\n",
       "<path class=\"bond-15 atom-14 atom-16\" d=\"M 562.3,121.0 L 619.1,107.4\" style=\"fill:none;fill-rule:evenodd;stroke:#000000;stroke-width:2.0px;stroke-linecap:butt;stroke-linejoin:miter;stroke-opacity:1\"/>\n",
       "<path class=\"bond-16 atom-16 atom-17\" d=\"M 619.1,107.4 L 635.7,51.4\" style=\"fill:none;fill-rule:evenodd;stroke:#000000;stroke-width:2.0px;stroke-linecap:butt;stroke-linejoin:miter;stroke-opacity:1\"/>\n",
       "<path class=\"bond-16 atom-16 atom-17\" d=\"M 628.9,105.0 L 642.7,58.7\" style=\"fill:none;fill-rule:evenodd;stroke:#000000;stroke-width:2.0px;stroke-linecap:butt;stroke-linejoin:miter;stroke-opacity:1\"/>\n",
       "<path class=\"bond-17 atom-17 atom-18\" d=\"M 635.7,51.4 L 692.5,37.8\" style=\"fill:none;fill-rule:evenodd;stroke:#000000;stroke-width:2.0px;stroke-linecap:butt;stroke-linejoin:miter;stroke-opacity:1\"/>\n",
       "<path class=\"bond-18 atom-18 atom-19\" d=\"M 692.5,37.8 L 732.7,80.1\" style=\"fill:none;fill-rule:evenodd;stroke:#000000;stroke-width:2.0px;stroke-linecap:butt;stroke-linejoin:miter;stroke-opacity:1\"/>\n",
       "<path class=\"bond-18 atom-18 atom-19\" d=\"M 689.6,47.5 L 722.8,82.5\" style=\"fill:none;fill-rule:evenodd;stroke:#000000;stroke-width:2.0px;stroke-linecap:butt;stroke-linejoin:miter;stroke-opacity:1\"/>\n",
       "<path class=\"bond-19 atom-19 atom-20\" d=\"M 732.7,80.1 L 716.1,136.1\" style=\"fill:none;fill-rule:evenodd;stroke:#000000;stroke-width:2.0px;stroke-linecap:butt;stroke-linejoin:miter;stroke-opacity:1\"/>\n",
       "<path class=\"bond-20 atom-20 atom-21\" d=\"M 716.1,136.1 L 659.3,149.7\" style=\"fill:none;fill-rule:evenodd;stroke:#000000;stroke-width:2.0px;stroke-linecap:butt;stroke-linejoin:miter;stroke-opacity:1\"/>\n",
       "<path class=\"bond-20 atom-20 atom-21\" d=\"M 709.1,128.8 L 662.2,140.0\" style=\"fill:none;fill-rule:evenodd;stroke:#000000;stroke-width:2.0px;stroke-linecap:butt;stroke-linejoin:miter;stroke-opacity:1\"/>\n",
       "<path class=\"bond-21 atom-21 atom-16\" d=\"M 659.3,149.7 L 619.1,107.4\" style=\"fill:none;fill-rule:evenodd;stroke:#000000;stroke-width:2.0px;stroke-linecap:butt;stroke-linejoin:miter;stroke-opacity:1\"/>\n",
       "<path d=\"M 522.5,77.5 L 522.1,78.6 L 524.1,80.8\" style=\"fill:none;stroke:#000000;stroke-width:2.0px;stroke-linecap:butt;stroke-linejoin:miter;stroke-opacity:1;\"/>\n",
       "<path d=\"M 560.3,118.9 L 562.3,121.0 L 565.2,120.3\" style=\"fill:none;stroke:#000000;stroke-width:2.0px;stroke-linecap:butt;stroke-linejoin:miter;stroke-opacity:1;\"/>\n",
       "<path d=\"M 634.9,54.2 L 635.7,51.4 L 638.5,50.7\" style=\"fill:none;stroke:#000000;stroke-width:2.0px;stroke-linecap:butt;stroke-linejoin:miter;stroke-opacity:1;\"/>\n",
       "<path d=\"M 689.6,38.4 L 692.5,37.8 L 694.5,39.9\" style=\"fill:none;stroke:#000000;stroke-width:2.0px;stroke-linecap:butt;stroke-linejoin:miter;stroke-opacity:1;\"/>\n",
       "<path d=\"M 730.7,78.0 L 732.7,80.1 L 731.8,82.9\" style=\"fill:none;stroke:#000000;stroke-width:2.0px;stroke-linecap:butt;stroke-linejoin:miter;stroke-opacity:1;\"/>\n",
       "<path d=\"M 716.9,133.3 L 716.1,136.1 L 713.2,136.8\" style=\"fill:none;stroke:#000000;stroke-width:2.0px;stroke-linecap:butt;stroke-linejoin:miter;stroke-opacity:1;\"/>\n",
       "<path d=\"M 662.1,149.1 L 659.3,149.7 L 657.3,147.6\" style=\"fill:none;stroke:#000000;stroke-width:2.0px;stroke-linecap:butt;stroke-linejoin:miter;stroke-opacity:1;\"/>\n",
       "<path class=\"atom-2\" d=\"M 535.1 14.4 L 540.5 23.1 Q 541.0 24.0, 541.9 25.6 Q 542.7 27.1, 542.8 27.2 L 542.8 14.4 L 545.0 14.4 L 545.0 30.9 L 542.7 30.9 L 536.9 21.3 Q 536.2 20.2, 535.5 18.9 Q 534.8 17.7, 534.6 17.3 L 534.6 30.9 L 532.4 30.9 L 532.4 14.4 L 535.1 14.4 \" fill=\"#0000FF\"/>\n",
       "<path class=\"atom-2\" d=\"M 548.2 14.4 L 550.4 14.4 L 550.4 21.4 L 558.8 21.4 L 558.8 14.4 L 561.1 14.4 L 561.1 30.9 L 558.8 30.9 L 558.8 23.3 L 550.4 23.3 L 550.4 30.9 L 548.2 30.9 L 548.2 14.4 \" fill=\"#0000FF\"/>\n",
       "<path class=\"atom-2\" d=\"M 564.3 30.3 Q 564.7 29.3, 565.7 28.7 Q 566.6 28.2, 568.0 28.2 Q 569.6 28.2, 570.5 29.1 Q 571.5 29.9, 571.5 31.5 Q 571.5 33.2, 570.3 34.7 Q 569.1 36.2, 566.6 38.0 L 571.7 38.0 L 571.7 39.2 L 564.3 39.2 L 564.3 38.2 Q 566.3 36.7, 567.5 35.6 Q 568.8 34.6, 569.3 33.6 Q 569.9 32.6, 569.9 31.6 Q 569.9 30.6, 569.4 30.0 Q 568.9 29.4, 568.0 29.4 Q 567.1 29.4, 566.5 29.7 Q 565.9 30.1, 565.5 30.9 L 564.3 30.3 \" fill=\"#0000FF\"/>\n",
       "<path class=\"atom-4\" d=\"M 538.1 177.0 Q 538.1 173.1, 540.1 170.8 Q 542.1 168.6, 545.7 168.6 Q 549.4 168.6, 551.4 170.8 Q 553.3 173.1, 553.3 177.0 Q 553.3 181.1, 551.3 183.3 Q 549.4 185.6, 545.7 185.6 Q 542.1 185.6, 540.1 183.3 Q 538.1 181.1, 538.1 177.0 M 545.7 183.7 Q 548.3 183.7, 549.6 182.1 Q 551.0 180.4, 551.0 177.0 Q 551.0 173.8, 549.6 172.2 Q 548.3 170.5, 545.7 170.5 Q 543.2 170.5, 541.8 172.1 Q 540.5 173.8, 540.5 177.0 Q 540.5 180.4, 541.8 182.1 Q 543.2 183.7, 545.7 183.7 \" fill=\"#FF0000\"/>\n",
       "<path d=\"M 357.0,100.0 L 443.0,100.0\" style=\"fill:none;fill-rule:evenodd;stroke:#000000;stroke-width:2.0px;stroke-linecap:butt;stroke-linejoin:miter;stroke-opacity:1\"/>\n",
       "<path d=\"M 443.0,100.0 L 438.0,102.9\" style=\"fill:none;fill-rule:evenodd;stroke:#000000;stroke-width:2.0px;stroke-linecap:butt;stroke-linejoin:miter;stroke-opacity:1\"/>\n",
       "<path d=\"M 443.0,100.0 L 438.0,97.1\" style=\"fill:none;fill-rule:evenodd;stroke:#000000;stroke-width:2.0px;stroke-linecap:butt;stroke-linejoin:miter;stroke-opacity:1\"/>\n",
       "</svg>"
      ],
      "text/plain": [
       "<IPython.core.display.SVG object>"
      ]
     },
     "metadata": {},
     "output_type": "display_data"
    },
    {
     "name": "stdout",
     "output_type": "stream",
     "text": [
      "\n",
      "Reaction 2: Ketone reduction\n",
      "Reaction SMILES: C[C@@H](N)C(=O)c1ccccc1>>C[C@@H](N)[C@H](O)c1ccccc1\n"
     ]
    },
    {
     "data": {
      "image/svg+xml": [
       "<svg xmlns=\"http://www.w3.org/2000/svg\" xmlns:rdkit=\"http://www.rdkit.org/xml\" xmlns:xlink=\"http://www.w3.org/1999/xlink\" version=\"1.1\" baseProfile=\"full\" xml:space=\"preserve\" width=\"800px\" height=\"200px\" viewBox=\"0 0 800 200\">\n",
       "<!-- END OF HEADER -->\n",
       "<rect style=\"opacity:1.0;fill:#FFFFFF;stroke:none\" width=\"800.0\" height=\"200.0\" x=\"0.0\" y=\"0.0\"> </rect>\n",
       "<path class=\"bond-0 atom-1 atom-0\" d=\"M 126.0,78.7 L 70.5,96.6 L 68.5,88.1 Z\" style=\"fill:#000000;fill-rule:evenodd;fill-opacity:1;stroke:#000000;stroke-width:0.5px;stroke-linecap:butt;stroke-linejoin:miter;stroke-opacity:1;\"/>\n",
       "<path class=\"bond-1 atom-1 atom-2\" d=\"M 126.0,78.7 L 132.8,56.0\" style=\"fill:none;fill-rule:evenodd;stroke:#000000;stroke-width:2.0px;stroke-linecap:butt;stroke-linejoin:miter;stroke-opacity:1\"/>\n",
       "<path class=\"bond-1 atom-1 atom-2\" d=\"M 132.8,56.0 L 139.5,33.2\" style=\"fill:none;fill-rule:evenodd;stroke:#0000FF;stroke-width:2.0px;stroke-linecap:butt;stroke-linejoin:miter;stroke-opacity:1\"/>\n",
       "<path class=\"bond-2 atom-1 atom-3\" d=\"M 126.0,78.7 L 166.0,120.9\" style=\"fill:none;fill-rule:evenodd;stroke:#000000;stroke-width:2.0px;stroke-linecap:butt;stroke-linejoin:miter;stroke-opacity:1\"/>\n",
       "<path class=\"bond-3 atom-3 atom-4\" d=\"M 162.5,117.3 L 155.4,141.2\" style=\"fill:none;fill-rule:evenodd;stroke:#000000;stroke-width:2.0px;stroke-linecap:butt;stroke-linejoin:miter;stroke-opacity:1\"/>\n",
       "<path class=\"bond-3 atom-3 atom-4\" d=\"M 155.4,141.2 L 148.4,165.1\" style=\"fill:none;fill-rule:evenodd;stroke:#FF0000;stroke-width:2.0px;stroke-linecap:butt;stroke-linejoin:miter;stroke-opacity:1\"/>\n",
       "<path class=\"bond-3 atom-3 atom-4\" d=\"M 170.9,119.7 L 163.8,143.7\" style=\"fill:none;fill-rule:evenodd;stroke:#000000;stroke-width:2.0px;stroke-linecap:butt;stroke-linejoin:miter;stroke-opacity:1\"/>\n",
       "<path class=\"bond-3 atom-3 atom-4\" d=\"M 163.8,143.7 L 156.7,167.6\" style=\"fill:none;fill-rule:evenodd;stroke:#FF0000;stroke-width:2.0px;stroke-linecap:butt;stroke-linejoin:miter;stroke-opacity:1\"/>\n",
       "<path class=\"bond-4 atom-3 atom-5\" d=\"M 166.0,120.9 L 222.5,107.3\" style=\"fill:none;fill-rule:evenodd;stroke:#000000;stroke-width:2.0px;stroke-linecap:butt;stroke-linejoin:miter;stroke-opacity:1\"/>\n",
       "<path class=\"bond-5 atom-5 atom-6\" d=\"M 222.5,107.3 L 239.0,51.6\" style=\"fill:none;fill-rule:evenodd;stroke:#000000;stroke-width:2.0px;stroke-linecap:butt;stroke-linejoin:miter;stroke-opacity:1\"/>\n",
       "<path class=\"bond-5 atom-5 atom-6\" d=\"M 232.3,105.0 L 245.9,58.9\" style=\"fill:none;fill-rule:evenodd;stroke:#000000;stroke-width:2.0px;stroke-linecap:butt;stroke-linejoin:miter;stroke-opacity:1\"/>\n",
       "<path class=\"bond-6 atom-6 atom-7\" d=\"M 239.0,51.6 L 295.5,38.1\" style=\"fill:none;fill-rule:evenodd;stroke:#000000;stroke-width:2.0px;stroke-linecap:butt;stroke-linejoin:miter;stroke-opacity:1\"/>\n",
       "<path class=\"bond-7 atom-7 atom-8\" d=\"M 295.5,38.1 L 335.5,80.2\" style=\"fill:none;fill-rule:evenodd;stroke:#000000;stroke-width:2.0px;stroke-linecap:butt;stroke-linejoin:miter;stroke-opacity:1\"/>\n",
       "<path class=\"bond-7 atom-7 atom-8\" d=\"M 292.7,47.7 L 325.7,82.6\" style=\"fill:none;fill-rule:evenodd;stroke:#000000;stroke-width:2.0px;stroke-linecap:butt;stroke-linejoin:miter;stroke-opacity:1\"/>\n",
       "<path class=\"bond-8 atom-8 atom-9\" d=\"M 335.5,80.2 L 319.0,135.9\" style=\"fill:none;fill-rule:evenodd;stroke:#000000;stroke-width:2.0px;stroke-linecap:butt;stroke-linejoin:miter;stroke-opacity:1\"/>\n",
       "<path class=\"bond-9 atom-9 atom-10\" d=\"M 319.0,135.9 L 262.5,149.5\" style=\"fill:none;fill-rule:evenodd;stroke:#000000;stroke-width:2.0px;stroke-linecap:butt;stroke-linejoin:miter;stroke-opacity:1\"/>\n",
       "<path class=\"bond-9 atom-9 atom-10\" d=\"M 312.1,128.6 L 265.4,139.8\" style=\"fill:none;fill-rule:evenodd;stroke:#000000;stroke-width:2.0px;stroke-linecap:butt;stroke-linejoin:miter;stroke-opacity:1\"/>\n",
       "<path class=\"bond-10 atom-10 atom-5\" d=\"M 262.5,149.5 L 222.5,107.3\" style=\"fill:none;fill-rule:evenodd;stroke:#000000;stroke-width:2.0px;stroke-linecap:butt;stroke-linejoin:miter;stroke-opacity:1\"/>\n",
       "<path d=\"M 126.3,77.6 L 126.0,78.7 L 128.0,80.9\" style=\"fill:none;stroke:#000000;stroke-width:2.0px;stroke-linecap:butt;stroke-linejoin:miter;stroke-opacity:1;\"/>\n",
       "<path d=\"M 164.0,118.8 L 166.0,120.9 L 168.8,120.2\" style=\"fill:none;stroke:#000000;stroke-width:2.0px;stroke-linecap:butt;stroke-linejoin:miter;stroke-opacity:1;\"/>\n",
       "<path d=\"M 238.2,54.4 L 239.0,51.6 L 241.8,50.9\" style=\"fill:none;stroke:#000000;stroke-width:2.0px;stroke-linecap:butt;stroke-linejoin:miter;stroke-opacity:1;\"/>\n",
       "<path d=\"M 292.7,38.7 L 295.5,38.1 L 297.5,40.2\" style=\"fill:none;stroke:#000000;stroke-width:2.0px;stroke-linecap:butt;stroke-linejoin:miter;stroke-opacity:1;\"/>\n",
       "<path d=\"M 333.5,78.1 L 335.5,80.2 L 334.7,83.0\" style=\"fill:none;stroke:#000000;stroke-width:2.0px;stroke-linecap:butt;stroke-linejoin:miter;stroke-opacity:1;\"/>\n",
       "<path d=\"M 319.8,133.1 L 319.0,135.9 L 316.2,136.6\" style=\"fill:none;stroke:#000000;stroke-width:2.0px;stroke-linecap:butt;stroke-linejoin:miter;stroke-opacity:1;\"/>\n",
       "<path d=\"M 265.3,148.8 L 262.5,149.5 L 260.5,147.4\" style=\"fill:none;stroke:#000000;stroke-width:2.0px;stroke-linecap:butt;stroke-linejoin:miter;stroke-opacity:1;\"/>\n",
       "<path class=\"atom-2\" d=\"M 138.9 14.8 L 144.3 23.5 Q 144.8 24.4, 145.7 25.9 Q 146.5 27.5, 146.6 27.6 L 146.6 14.8 L 148.8 14.8 L 148.8 31.3 L 146.5 31.3 L 140.7 21.7 Q 140.0 20.6, 139.3 19.3 Q 138.6 18.1, 138.4 17.7 L 138.4 31.3 L 136.3 31.3 L 136.3 14.8 L 138.9 14.8 \" fill=\"#0000FF\"/>\n",
       "<path class=\"atom-2\" d=\"M 151.9 14.8 L 154.1 14.8 L 154.1 21.8 L 162.5 21.8 L 162.5 14.8 L 164.8 14.8 L 164.8 31.3 L 162.5 31.3 L 162.5 23.7 L 154.1 23.7 L 154.1 31.3 L 151.9 31.3 L 151.9 14.8 \" fill=\"#0000FF\"/>\n",
       "<path class=\"atom-2\" d=\"M 168.0 30.7 Q 168.4 29.7, 169.3 29.1 Q 170.3 28.5, 171.6 28.5 Q 173.3 28.5, 174.2 29.4 Q 175.1 30.3, 175.1 31.9 Q 175.1 33.5, 173.9 35.0 Q 172.7 36.5, 170.3 38.3 L 175.3 38.3 L 175.3 39.5 L 168.0 39.5 L 168.0 38.5 Q 170.0 37.0, 171.2 35.9 Q 172.4 34.9, 173.0 33.9 Q 173.6 32.9, 173.6 31.9 Q 173.6 30.9, 173.0 30.3 Q 172.5 29.7, 171.6 29.7 Q 170.7 29.7, 170.2 30.1 Q 169.6 30.4, 169.2 31.2 L 168.0 30.7 \" fill=\"#0000FF\"/>\n",
       "<path class=\"atom-4\" d=\"M 141.9 176.7 Q 141.9 172.7, 143.9 170.5 Q 145.8 168.3, 149.5 168.3 Q 153.1 168.3, 155.1 170.5 Q 157.1 172.7, 157.1 176.7 Q 157.1 180.7, 155.1 182.9 Q 153.1 185.2, 149.5 185.2 Q 145.9 185.2, 143.9 182.9 Q 141.9 180.7, 141.9 176.7 M 149.5 183.3 Q 152.0 183.3, 153.4 181.7 Q 154.7 180.0, 154.7 176.7 Q 154.7 173.4, 153.4 171.8 Q 152.0 170.2, 149.5 170.2 Q 147.0 170.2, 145.6 171.8 Q 144.3 173.4, 144.3 176.7 Q 144.3 180.0, 145.6 181.7 Q 147.0 183.3, 149.5 183.3 \" fill=\"#FF0000\"/>\n",
       "<path class=\"bond-11 atom-12 atom-11\" d=\"M 522.0,78.7 L 466.5,96.6 L 464.5,88.1 Z\" style=\"fill:#000000;fill-rule:evenodd;fill-opacity:1;stroke:#000000;stroke-width:0.5px;stroke-linecap:butt;stroke-linejoin:miter;stroke-opacity:1;\"/>\n",
       "<path class=\"bond-12 atom-12 atom-13\" d=\"M 522.0,78.7 L 528.8,56.0\" style=\"fill:none;fill-rule:evenodd;stroke:#000000;stroke-width:2.0px;stroke-linecap:butt;stroke-linejoin:miter;stroke-opacity:1\"/>\n",
       "<path class=\"bond-12 atom-12 atom-13\" d=\"M 528.8,56.0 L 535.5,33.2\" style=\"fill:none;fill-rule:evenodd;stroke:#0000FF;stroke-width:2.0px;stroke-linecap:butt;stroke-linejoin:miter;stroke-opacity:1\"/>\n",
       "<path class=\"bond-13 atom-12 atom-14\" d=\"M 522.0,78.7 L 562.0,120.9\" style=\"fill:none;fill-rule:evenodd;stroke:#000000;stroke-width:2.0px;stroke-linecap:butt;stroke-linejoin:miter;stroke-opacity:1\"/>\n",
       "<path class=\"bond-14 atom-14 atom-15\" d=\"M 562.0,120.9 L 557.6,143.3 L 553.5,142.1 Z\" style=\"fill:#000000;fill-rule:evenodd;fill-opacity:1;stroke:#000000;stroke-width:0.5px;stroke-linecap:butt;stroke-linejoin:miter;stroke-opacity:1;\"/>\n",
       "<path class=\"bond-14 atom-14 atom-15\" d=\"M 557.6,143.3 L 544.9,163.2 L 553.3,165.7 Z\" style=\"fill:#FF0000;fill-rule:evenodd;fill-opacity:1;stroke:#FF0000;stroke-width:0.5px;stroke-linecap:butt;stroke-linejoin:miter;stroke-opacity:1;\"/>\n",
       "<path class=\"bond-14 atom-14 atom-15\" d=\"M 557.6,143.3 L 553.5,142.1 L 544.9,163.2 Z\" style=\"fill:#FF0000;fill-rule:evenodd;fill-opacity:1;stroke:#FF0000;stroke-width:0.5px;stroke-linecap:butt;stroke-linejoin:miter;stroke-opacity:1;\"/>\n",
       "<path class=\"bond-15 atom-14 atom-16\" d=\"M 562.0,120.9 L 618.5,107.3\" style=\"fill:none;fill-rule:evenodd;stroke:#000000;stroke-width:2.0px;stroke-linecap:butt;stroke-linejoin:miter;stroke-opacity:1\"/>\n",
       "<path class=\"bond-16 atom-16 atom-17\" d=\"M 618.5,107.3 L 635.0,51.6\" style=\"fill:none;fill-rule:evenodd;stroke:#000000;stroke-width:2.0px;stroke-linecap:butt;stroke-linejoin:miter;stroke-opacity:1\"/>\n",
       "<path class=\"bond-16 atom-16 atom-17\" d=\"M 628.3,105.0 L 641.9,58.9\" style=\"fill:none;fill-rule:evenodd;stroke:#000000;stroke-width:2.0px;stroke-linecap:butt;stroke-linejoin:miter;stroke-opacity:1\"/>\n",
       "<path class=\"bond-17 atom-17 atom-18\" d=\"M 635.0,51.6 L 691.5,38.1\" style=\"fill:none;fill-rule:evenodd;stroke:#000000;stroke-width:2.0px;stroke-linecap:butt;stroke-linejoin:miter;stroke-opacity:1\"/>\n",
       "<path class=\"bond-18 atom-18 atom-19\" d=\"M 691.5,38.1 L 731.5,80.2\" style=\"fill:none;fill-rule:evenodd;stroke:#000000;stroke-width:2.0px;stroke-linecap:butt;stroke-linejoin:miter;stroke-opacity:1\"/>\n",
       "<path class=\"bond-18 atom-18 atom-19\" d=\"M 688.7,47.7 L 721.7,82.6\" style=\"fill:none;fill-rule:evenodd;stroke:#000000;stroke-width:2.0px;stroke-linecap:butt;stroke-linejoin:miter;stroke-opacity:1\"/>\n",
       "<path class=\"bond-19 atom-19 atom-20\" d=\"M 731.5,80.2 L 715.0,135.9\" style=\"fill:none;fill-rule:evenodd;stroke:#000000;stroke-width:2.0px;stroke-linecap:butt;stroke-linejoin:miter;stroke-opacity:1\"/>\n",
       "<path class=\"bond-20 atom-20 atom-21\" d=\"M 715.0,135.9 L 658.5,149.5\" style=\"fill:none;fill-rule:evenodd;stroke:#000000;stroke-width:2.0px;stroke-linecap:butt;stroke-linejoin:miter;stroke-opacity:1\"/>\n",
       "<path class=\"bond-20 atom-20 atom-21\" d=\"M 708.1,128.6 L 661.4,139.8\" style=\"fill:none;fill-rule:evenodd;stroke:#000000;stroke-width:2.0px;stroke-linecap:butt;stroke-linejoin:miter;stroke-opacity:1\"/>\n",
       "<path class=\"bond-21 atom-21 atom-16\" d=\"M 658.5,149.5 L 618.5,107.3\" style=\"fill:none;fill-rule:evenodd;stroke:#000000;stroke-width:2.0px;stroke-linecap:butt;stroke-linejoin:miter;stroke-opacity:1\"/>\n",
       "<path d=\"M 522.3,77.6 L 522.0,78.7 L 524.0,80.9\" style=\"fill:none;stroke:#000000;stroke-width:2.0px;stroke-linecap:butt;stroke-linejoin:miter;stroke-opacity:1;\"/>\n",
       "<path d=\"M 560.0,118.8 L 562.0,120.9 L 564.8,120.2\" style=\"fill:none;stroke:#000000;stroke-width:2.0px;stroke-linecap:butt;stroke-linejoin:miter;stroke-opacity:1;\"/>\n",
       "<path d=\"M 634.2,54.4 L 635.0,51.6 L 637.8,50.9\" style=\"fill:none;stroke:#000000;stroke-width:2.0px;stroke-linecap:butt;stroke-linejoin:miter;stroke-opacity:1;\"/>\n",
       "<path d=\"M 688.7,38.7 L 691.5,38.1 L 693.5,40.2\" style=\"fill:none;stroke:#000000;stroke-width:2.0px;stroke-linecap:butt;stroke-linejoin:miter;stroke-opacity:1;\"/>\n",
       "<path d=\"M 729.5,78.1 L 731.5,80.2 L 730.7,83.0\" style=\"fill:none;stroke:#000000;stroke-width:2.0px;stroke-linecap:butt;stroke-linejoin:miter;stroke-opacity:1;\"/>\n",
       "<path d=\"M 715.8,133.1 L 715.0,135.9 L 712.2,136.6\" style=\"fill:none;stroke:#000000;stroke-width:2.0px;stroke-linecap:butt;stroke-linejoin:miter;stroke-opacity:1;\"/>\n",
       "<path d=\"M 661.3,148.8 L 658.5,149.5 L 656.5,147.4\" style=\"fill:none;stroke:#000000;stroke-width:2.0px;stroke-linecap:butt;stroke-linejoin:miter;stroke-opacity:1;\"/>\n",
       "<path class=\"atom-2\" d=\"M 534.9 14.8 L 540.3 23.5 Q 540.8 24.4, 541.7 25.9 Q 542.5 27.5, 542.6 27.6 L 542.6 14.8 L 544.8 14.8 L 544.8 31.3 L 542.5 31.3 L 536.7 21.7 Q 536.0 20.6, 535.3 19.3 Q 534.6 18.1, 534.4 17.7 L 534.4 31.3 L 532.3 31.3 L 532.3 14.8 L 534.9 14.8 \" fill=\"#0000FF\"/>\n",
       "<path class=\"atom-2\" d=\"M 547.9 14.8 L 550.1 14.8 L 550.1 21.8 L 558.5 21.8 L 558.5 14.8 L 560.8 14.8 L 560.8 31.3 L 558.5 31.3 L 558.5 23.7 L 550.1 23.7 L 550.1 31.3 L 547.9 31.3 L 547.9 14.8 \" fill=\"#0000FF\"/>\n",
       "<path class=\"atom-2\" d=\"M 564.0 30.7 Q 564.4 29.7, 565.3 29.1 Q 566.3 28.5, 567.6 28.5 Q 569.3 28.5, 570.2 29.4 Q 571.1 30.3, 571.1 31.9 Q 571.1 33.5, 569.9 35.0 Q 568.7 36.5, 566.3 38.3 L 571.3 38.3 L 571.3 39.5 L 564.0 39.5 L 564.0 38.5 Q 566.0 37.0, 567.2 35.9 Q 568.4 34.9, 569.0 33.9 Q 569.6 32.9, 569.6 31.9 Q 569.6 30.9, 569.0 30.3 Q 568.5 29.7, 567.6 29.7 Q 566.7 29.7, 566.2 30.1 Q 565.6 30.4, 565.2 31.2 L 564.0 30.7 \" fill=\"#0000FF\"/>\n",
       "<path class=\"atom-4\" d=\"M 537.9 176.7 Q 537.9 172.7, 539.9 170.5 Q 541.8 168.3, 545.5 168.3 Q 549.1 168.3, 551.1 170.5 Q 553.1 172.7, 553.1 176.7 Q 553.1 180.7, 551.1 182.9 Q 549.1 185.2, 545.5 185.2 Q 541.9 185.2, 539.9 182.9 Q 537.9 180.7, 537.9 176.7 M 545.5 183.3 Q 548.0 183.3, 549.4 181.7 Q 550.7 180.0, 550.7 176.7 Q 550.7 173.4, 549.4 171.8 Q 548.0 170.2, 545.5 170.2 Q 543.0 170.2, 541.6 171.8 Q 540.3 173.4, 540.3 176.7 Q 540.3 180.0, 541.6 181.7 Q 543.0 183.3, 545.5 183.3 \" fill=\"#FF0000\"/>\n",
       "<path class=\"atom-4\" d=\"M 555.6 168.5 L 557.8 168.5 L 557.8 175.5 L 566.3 175.5 L 566.3 168.5 L 568.5 168.5 L 568.5 184.9 L 566.3 184.9 L 566.3 177.3 L 557.8 177.3 L 557.8 184.9 L 555.6 184.9 L 555.6 168.5 \" fill=\"#FF0000\"/>\n",
       "<path d=\"M 357.0,100.0 L 443.0,100.0\" style=\"fill:none;fill-rule:evenodd;stroke:#000000;stroke-width:2.0px;stroke-linecap:butt;stroke-linejoin:miter;stroke-opacity:1\"/>\n",
       "<path d=\"M 443.0,100.0 L 438.0,102.9\" style=\"fill:none;fill-rule:evenodd;stroke:#000000;stroke-width:2.0px;stroke-linecap:butt;stroke-linejoin:miter;stroke-opacity:1\"/>\n",
       "<path d=\"M 443.0,100.0 L 438.0,97.1\" style=\"fill:none;fill-rule:evenodd;stroke:#000000;stroke-width:2.0px;stroke-linecap:butt;stroke-linejoin:miter;stroke-opacity:1\"/>\n",
       "</svg>"
      ],
      "text/plain": [
       "<IPython.core.display.SVG object>"
      ]
     },
     "metadata": {},
     "output_type": "display_data"
    },
    {
     "name": "stdout",
     "output_type": "stream",
     "text": [
      "-------------------------------------------------------------------------------------------------------------------------------------------------\n"
     ]
    },
    {
     "name": "stdin",
     "output_type": "stream",
     "text": [
      "Enter a number (1-4) to explore a path or type 'exit' to quit:  2\n"
     ]
    },
    {
     "name": "stdout",
     "output_type": "stream",
     "text": [
      "\n",
      "This is path 2 of 4\n",
      "--------------------\n",
      "Target Compound: C[C@@H](N)[C@H](O)c1ccccc1\n"
     ]
    },
    {
     "data": {
      "image/svg+xml": [
       "<svg xmlns=\"http://www.w3.org/2000/svg\" xmlns:rdkit=\"http://www.rdkit.org/xml\" xmlns:xlink=\"http://www.w3.org/1999/xlink\" version=\"1.1\" baseProfile=\"full\" xml:space=\"preserve\" width=\"400px\" height=\"400px\" viewBox=\"0 0 400 400\">\n",
       "<!-- END OF HEADER -->\n",
       "<rect style=\"opacity:1.0;fill:#FFFFFF;stroke:none\" width=\"400.0\" height=\"400.0\" x=\"0.0\" y=\"0.0\"> </rect>\n",
       "<path class=\"bond-0 atom-1 atom-0\" d=\"M 97.5,171.4 L 22.7,195.3 L 20.0,183.9 Z\" style=\"fill:#000000;fill-rule:evenodd;fill-opacity:1;stroke:#000000;stroke-width:0.5px;stroke-linecap:butt;stroke-linejoin:miter;stroke-opacity:1;\"/>\n",
       "<path class=\"bond-1 atom-1 atom-2\" d=\"M 97.5,171.4 L 106.6,140.6\" style=\"fill:none;fill-rule:evenodd;stroke:#000000;stroke-width:2.0px;stroke-linecap:butt;stroke-linejoin:miter;stroke-opacity:1\"/>\n",
       "<path class=\"bond-1 atom-1 atom-2\" d=\"M 106.6,140.6 L 115.7,109.9\" style=\"fill:none;fill-rule:evenodd;stroke:#0000FF;stroke-width:2.0px;stroke-linecap:butt;stroke-linejoin:miter;stroke-opacity:1\"/>\n",
       "<path class=\"bond-2 atom-1 atom-3\" d=\"M 97.5,171.4 L 151.5,228.2\" style=\"fill:none;fill-rule:evenodd;stroke:#000000;stroke-width:2.0px;stroke-linecap:butt;stroke-linejoin:miter;stroke-opacity:1\"/>\n",
       "<path class=\"bond-3 atom-3 atom-4\" d=\"M 151.5,228.2 L 145.6,258.4 L 140.0,256.7 Z\" style=\"fill:#000000;fill-rule:evenodd;fill-opacity:1;stroke:#000000;stroke-width:0.5px;stroke-linecap:butt;stroke-linejoin:miter;stroke-opacity:1;\"/>\n",
       "<path class=\"bond-3 atom-3 atom-4\" d=\"M 145.6,258.4 L 128.4,285.2 L 139.7,288.6 Z\" style=\"fill:#FF0000;fill-rule:evenodd;fill-opacity:1;stroke:#FF0000;stroke-width:0.5px;stroke-linecap:butt;stroke-linejoin:miter;stroke-opacity:1;\"/>\n",
       "<path class=\"bond-3 atom-3 atom-4\" d=\"M 145.6,258.4 L 140.0,256.7 L 128.4,285.2 Z\" style=\"fill:#FF0000;fill-rule:evenodd;fill-opacity:1;stroke:#FF0000;stroke-width:0.5px;stroke-linecap:butt;stroke-linejoin:miter;stroke-opacity:1;\"/>\n",
       "<path class=\"bond-4 atom-3 atom-5\" d=\"M 151.5,228.2 L 227.6,209.9\" style=\"fill:none;fill-rule:evenodd;stroke:#000000;stroke-width:2.0px;stroke-linecap:butt;stroke-linejoin:miter;stroke-opacity:1\"/>\n",
       "<path class=\"bond-5 atom-5 atom-6\" d=\"M 227.6,209.9 L 249.9,134.8\" style=\"fill:none;fill-rule:evenodd;stroke:#000000;stroke-width:2.0px;stroke-linecap:butt;stroke-linejoin:miter;stroke-opacity:1\"/>\n",
       "<path class=\"bond-5 atom-5 atom-6\" d=\"M 240.8,206.7 L 259.2,144.6\" style=\"fill:none;fill-rule:evenodd;stroke:#000000;stroke-width:2.0px;stroke-linecap:butt;stroke-linejoin:miter;stroke-opacity:1\"/>\n",
       "<path class=\"bond-6 atom-6 atom-7\" d=\"M 249.9,134.8 L 326.1,116.5\" style=\"fill:none;fill-rule:evenodd;stroke:#000000;stroke-width:2.0px;stroke-linecap:butt;stroke-linejoin:miter;stroke-opacity:1\"/>\n",
       "<path class=\"bond-7 atom-7 atom-8\" d=\"M 326.1,116.5 L 380.0,173.3\" style=\"fill:none;fill-rule:evenodd;stroke:#000000;stroke-width:2.0px;stroke-linecap:butt;stroke-linejoin:miter;stroke-opacity:1\"/>\n",
       "<path class=\"bond-7 atom-7 atom-8\" d=\"M 322.2,129.5 L 366.8,176.5\" style=\"fill:none;fill-rule:evenodd;stroke:#000000;stroke-width:2.0px;stroke-linecap:butt;stroke-linejoin:miter;stroke-opacity:1\"/>\n",
       "<path class=\"bond-8 atom-8 atom-9\" d=\"M 380.0,173.3 L 357.7,248.4\" style=\"fill:none;fill-rule:evenodd;stroke:#000000;stroke-width:2.0px;stroke-linecap:butt;stroke-linejoin:miter;stroke-opacity:1\"/>\n",
       "<path class=\"bond-9 atom-9 atom-10\" d=\"M 357.7,248.4 L 281.6,266.7\" style=\"fill:none;fill-rule:evenodd;stroke:#000000;stroke-width:2.0px;stroke-linecap:butt;stroke-linejoin:miter;stroke-opacity:1\"/>\n",
       "<path class=\"bond-9 atom-9 atom-10\" d=\"M 348.4,238.6 L 285.4,253.7\" style=\"fill:none;fill-rule:evenodd;stroke:#000000;stroke-width:2.0px;stroke-linecap:butt;stroke-linejoin:miter;stroke-opacity:1\"/>\n",
       "<path class=\"bond-10 atom-10 atom-5\" d=\"M 281.6,266.7 L 227.6,209.9\" style=\"fill:none;fill-rule:evenodd;stroke:#000000;stroke-width:2.0px;stroke-linecap:butt;stroke-linejoin:miter;stroke-opacity:1\"/>\n",
       "<path d=\"M 98.0,169.8 L 97.5,171.4 L 100.2,174.2\" style=\"fill:none;stroke:#000000;stroke-width:2.0px;stroke-linecap:butt;stroke-linejoin:miter;stroke-opacity:1;\"/>\n",
       "<path d=\"M 148.8,225.3 L 151.5,228.2 L 155.3,227.3\" style=\"fill:none;stroke:#000000;stroke-width:2.0px;stroke-linecap:butt;stroke-linejoin:miter;stroke-opacity:1;\"/>\n",
       "<path d=\"M 248.8,138.5 L 249.9,134.8 L 253.7,133.9\" style=\"fill:none;stroke:#000000;stroke-width:2.0px;stroke-linecap:butt;stroke-linejoin:miter;stroke-opacity:1;\"/>\n",
       "<path d=\"M 322.3,117.4 L 326.1,116.5 L 328.8,119.3\" style=\"fill:none;stroke:#000000;stroke-width:2.0px;stroke-linecap:butt;stroke-linejoin:miter;stroke-opacity:1;\"/>\n",
       "<path d=\"M 377.3,170.5 L 380.0,173.3 L 378.9,177.1\" style=\"fill:none;stroke:#000000;stroke-width:2.0px;stroke-linecap:butt;stroke-linejoin:miter;stroke-opacity:1;\"/>\n",
       "<path d=\"M 358.9,244.7 L 357.7,248.4 L 353.9,249.4\" style=\"fill:none;stroke:#000000;stroke-width:2.0px;stroke-linecap:butt;stroke-linejoin:miter;stroke-opacity:1;\"/>\n",
       "<path d=\"M 285.4,265.8 L 281.6,266.7 L 278.9,263.9\" style=\"fill:none;stroke:#000000;stroke-width:2.0px;stroke-linecap:butt;stroke-linejoin:miter;stroke-opacity:1;\"/>\n",
       "<path class=\"atom-2\" d=\"M 114.9 85.1 L 122.2 96.9 Q 122.9 98.1, 124.0 100.2 Q 125.2 102.3, 125.3 102.4 L 125.3 85.1 L 128.2 85.1 L 128.2 107.3 L 125.2 107.3 L 117.4 94.5 Q 116.5 93.0, 115.5 91.3 Q 114.6 89.5, 114.3 89.0 L 114.3 107.3 L 111.4 107.3 L 111.4 85.1 L 114.9 85.1 \" fill=\"#0000FF\"/>\n",
       "<path class=\"atom-2\" d=\"M 132.5 85.1 L 135.5 85.1 L 135.5 94.6 L 146.8 94.6 L 146.8 85.1 L 149.8 85.1 L 149.8 107.3 L 146.8 107.3 L 146.8 97.1 L 135.5 97.1 L 135.5 107.3 L 132.5 107.3 L 132.5 85.1 \" fill=\"#0000FF\"/>\n",
       "<path class=\"atom-2\" d=\"M 154.2 106.6 Q 154.7 105.2, 156.0 104.4 Q 157.3 103.6, 159.0 103.6 Q 161.2 103.6, 162.5 104.8 Q 163.7 106.0, 163.7 108.1 Q 163.7 110.3, 162.1 112.3 Q 160.5 114.4, 157.2 116.8 L 164.0 116.8 L 164.0 118.4 L 154.1 118.4 L 154.1 117.0 Q 156.8 115.1, 158.5 113.6 Q 160.1 112.2, 160.9 110.9 Q 161.7 109.6, 161.7 108.2 Q 161.7 106.8, 161.0 106.1 Q 160.3 105.3, 159.0 105.3 Q 157.9 105.3, 157.1 105.7 Q 156.3 106.2, 155.7 107.3 L 154.2 106.6 \" fill=\"#0000FF\"/>\n",
       "<path class=\"atom-4\" d=\"M 119.0 303.4 Q 119.0 298.0, 121.7 295.1 Q 124.3 292.1, 129.2 292.1 Q 134.1 292.1, 136.8 295.1 Q 139.4 298.0, 139.4 303.4 Q 139.4 308.7, 136.7 311.8 Q 134.1 314.9, 129.2 314.9 Q 124.3 314.9, 121.7 311.8 Q 119.0 308.8, 119.0 303.4 M 129.2 312.3 Q 132.6 312.3, 134.4 310.1 Q 136.3 307.8, 136.3 303.4 Q 136.3 299.0, 134.4 296.8 Q 132.6 294.6, 129.2 294.6 Q 125.8 294.6, 124.0 296.8 Q 122.2 299.0, 122.2 303.4 Q 122.2 307.8, 124.0 310.1 Q 125.8 312.3, 129.2 312.3 \" fill=\"#FF0000\"/>\n",
       "<path class=\"atom-4\" d=\"M 142.9 292.3 L 145.9 292.3 L 145.9 301.8 L 157.2 301.8 L 157.2 292.3 L 160.2 292.3 L 160.2 314.5 L 157.2 314.5 L 157.2 304.3 L 145.9 304.3 L 145.9 314.5 L 142.9 314.5 L 142.9 292.3 \" fill=\"#FF0000\"/>\n",
       "</svg>"
      ],
      "text/plain": [
       "<IPython.core.display.SVG object>"
      ]
     },
     "metadata": {},
     "output_type": "display_data"
    },
    {
     "name": "stdout",
     "output_type": "stream",
     "text": [
      "\n",
      "These are the buyable compounds needed for this pathway:\n",
      "Buyable Compound 1: CC(=O)C(=O)c1ccccc1\n"
     ]
    },
    {
     "data": {
      "image/svg+xml": [
       "<svg xmlns=\"http://www.w3.org/2000/svg\" xmlns:rdkit=\"http://www.rdkit.org/xml\" xmlns:xlink=\"http://www.w3.org/1999/xlink\" version=\"1.1\" baseProfile=\"full\" xml:space=\"preserve\" width=\"400px\" height=\"400px\" viewBox=\"0 0 400 400\">\n",
       "<!-- END OF HEADER -->\n",
       "<rect style=\"opacity:1.0;fill:#FFFFFF;stroke:none\" width=\"400.0\" height=\"400.0\" x=\"0.0\" y=\"0.0\"> </rect>\n",
       "<path class=\"bond-0 atom-0 atom-1\" d=\"M 20.0,189.7 L 96.5,171.3\" style=\"fill:none;fill-rule:evenodd;stroke:#000000;stroke-width:2.0px;stroke-linecap:butt;stroke-linejoin:miter;stroke-opacity:1\"/>\n",
       "<path class=\"bond-1 atom-1 atom-2\" d=\"M 101.2,176.2 L 110.7,144.0\" style=\"fill:none;fill-rule:evenodd;stroke:#000000;stroke-width:2.0px;stroke-linecap:butt;stroke-linejoin:miter;stroke-opacity:1\"/>\n",
       "<path class=\"bond-1 atom-1 atom-2\" d=\"M 110.7,144.0 L 120.3,111.8\" style=\"fill:none;fill-rule:evenodd;stroke:#FF0000;stroke-width:2.0px;stroke-linecap:butt;stroke-linejoin:miter;stroke-opacity:1\"/>\n",
       "<path class=\"bond-1 atom-1 atom-2\" d=\"M 89.8,172.9 L 99.4,140.7\" style=\"fill:none;fill-rule:evenodd;stroke:#000000;stroke-width:2.0px;stroke-linecap:butt;stroke-linejoin:miter;stroke-opacity:1\"/>\n",
       "<path class=\"bond-1 atom-1 atom-2\" d=\"M 99.4,140.7 L 108.9,108.4\" style=\"fill:none;fill-rule:evenodd;stroke:#FF0000;stroke-width:2.0px;stroke-linecap:butt;stroke-linejoin:miter;stroke-opacity:1\"/>\n",
       "<path class=\"bond-2 atom-1 atom-3\" d=\"M 96.5,171.3 L 150.6,228.3\" style=\"fill:none;fill-rule:evenodd;stroke:#000000;stroke-width:2.0px;stroke-linecap:butt;stroke-linejoin:miter;stroke-opacity:1\"/>\n",
       "<path class=\"bond-3 atom-3 atom-4\" d=\"M 145.9,223.4 L 136.3,255.8\" style=\"fill:none;fill-rule:evenodd;stroke:#000000;stroke-width:2.0px;stroke-linecap:butt;stroke-linejoin:miter;stroke-opacity:1\"/>\n",
       "<path class=\"bond-3 atom-3 atom-4\" d=\"M 136.3,255.8 L 126.7,288.2\" style=\"fill:none;fill-rule:evenodd;stroke:#FF0000;stroke-width:2.0px;stroke-linecap:butt;stroke-linejoin:miter;stroke-opacity:1\"/>\n",
       "<path class=\"bond-3 atom-3 atom-4\" d=\"M 157.2,226.8 L 147.6,259.2\" style=\"fill:none;fill-rule:evenodd;stroke:#000000;stroke-width:2.0px;stroke-linecap:butt;stroke-linejoin:miter;stroke-opacity:1\"/>\n",
       "<path class=\"bond-3 atom-3 atom-4\" d=\"M 147.6,259.2 L 138.0,291.6\" style=\"fill:none;fill-rule:evenodd;stroke:#FF0000;stroke-width:2.0px;stroke-linecap:butt;stroke-linejoin:miter;stroke-opacity:1\"/>\n",
       "<path class=\"bond-4 atom-3 atom-5\" d=\"M 150.6,228.3 L 227.1,210.0\" style=\"fill:none;fill-rule:evenodd;stroke:#000000;stroke-width:2.0px;stroke-linecap:butt;stroke-linejoin:miter;stroke-opacity:1\"/>\n",
       "<path class=\"bond-5 atom-5 atom-6\" d=\"M 227.1,210.0 L 249.4,134.6\" style=\"fill:none;fill-rule:evenodd;stroke:#000000;stroke-width:2.0px;stroke-linecap:butt;stroke-linejoin:miter;stroke-opacity:1\"/>\n",
       "<path class=\"bond-5 atom-5 atom-6\" d=\"M 240.3,206.8 L 258.8,144.5\" style=\"fill:none;fill-rule:evenodd;stroke:#000000;stroke-width:2.0px;stroke-linecap:butt;stroke-linejoin:miter;stroke-opacity:1\"/>\n",
       "<path class=\"bond-6 atom-6 atom-7\" d=\"M 249.4,134.6 L 325.9,116.2\" style=\"fill:none;fill-rule:evenodd;stroke:#000000;stroke-width:2.0px;stroke-linecap:butt;stroke-linejoin:miter;stroke-opacity:1\"/>\n",
       "<path class=\"bond-7 atom-7 atom-8\" d=\"M 325.9,116.2 L 380.0,173.3\" style=\"fill:none;fill-rule:evenodd;stroke:#000000;stroke-width:2.0px;stroke-linecap:butt;stroke-linejoin:miter;stroke-opacity:1\"/>\n",
       "<path class=\"bond-7 atom-7 atom-8\" d=\"M 322.0,129.3 L 366.8,176.5\" style=\"fill:none;fill-rule:evenodd;stroke:#000000;stroke-width:2.0px;stroke-linecap:butt;stroke-linejoin:miter;stroke-opacity:1\"/>\n",
       "<path class=\"bond-8 atom-8 atom-9\" d=\"M 380.0,173.3 L 357.7,248.7\" style=\"fill:none;fill-rule:evenodd;stroke:#000000;stroke-width:2.0px;stroke-linecap:butt;stroke-linejoin:miter;stroke-opacity:1\"/>\n",
       "<path class=\"bond-9 atom-9 atom-10\" d=\"M 357.7,248.7 L 281.2,267.0\" style=\"fill:none;fill-rule:evenodd;stroke:#000000;stroke-width:2.0px;stroke-linecap:butt;stroke-linejoin:miter;stroke-opacity:1\"/>\n",
       "<path class=\"bond-9 atom-9 atom-10\" d=\"M 348.3,238.8 L 285.1,254.0\" style=\"fill:none;fill-rule:evenodd;stroke:#000000;stroke-width:2.0px;stroke-linecap:butt;stroke-linejoin:miter;stroke-opacity:1\"/>\n",
       "<path class=\"bond-10 atom-10 atom-5\" d=\"M 281.2,267.0 L 227.1,210.0\" style=\"fill:none;fill-rule:evenodd;stroke:#000000;stroke-width:2.0px;stroke-linecap:butt;stroke-linejoin:miter;stroke-opacity:1\"/>\n",
       "<path d=\"M 92.6,172.2 L 96.5,171.3 L 99.2,174.2\" style=\"fill:none;stroke:#000000;stroke-width:2.0px;stroke-linecap:butt;stroke-linejoin:miter;stroke-opacity:1;\"/>\n",
       "<path d=\"M 147.9,225.5 L 150.6,228.3 L 154.4,227.4\" style=\"fill:none;stroke:#000000;stroke-width:2.0px;stroke-linecap:butt;stroke-linejoin:miter;stroke-opacity:1;\"/>\n",
       "<path d=\"M 248.3,138.4 L 249.4,134.6 L 253.2,133.7\" style=\"fill:none;stroke:#000000;stroke-width:2.0px;stroke-linecap:butt;stroke-linejoin:miter;stroke-opacity:1;\"/>\n",
       "<path d=\"M 322.0,117.2 L 325.9,116.2 L 328.6,119.1\" style=\"fill:none;stroke:#000000;stroke-width:2.0px;stroke-linecap:butt;stroke-linejoin:miter;stroke-opacity:1;\"/>\n",
       "<path d=\"M 377.3,170.4 L 380.0,173.3 L 378.9,177.1\" style=\"fill:none;stroke:#000000;stroke-width:2.0px;stroke-linecap:butt;stroke-linejoin:miter;stroke-opacity:1;\"/>\n",
       "<path d=\"M 358.8,244.9 L 357.7,248.7 L 353.8,249.6\" style=\"fill:none;stroke:#000000;stroke-width:2.0px;stroke-linecap:butt;stroke-linejoin:miter;stroke-opacity:1;\"/>\n",
       "<path d=\"M 285.0,266.1 L 281.2,267.0 L 278.5,264.2\" style=\"fill:none;stroke:#000000;stroke-width:2.0px;stroke-linecap:butt;stroke-linejoin:miter;stroke-opacity:1;\"/>\n",
       "<path class=\"atom-2\" d=\"M 108.6 96.0 Q 108.6 90.6, 111.2 87.6 Q 113.9 84.6, 118.8 84.6 Q 123.7 84.6, 126.4 87.6 Q 129.0 90.6, 129.0 96.0 Q 129.0 101.4, 126.4 104.5 Q 123.7 107.5, 118.8 107.5 Q 113.9 107.5, 111.2 104.5 Q 108.6 101.4, 108.6 96.0 M 118.8 105.0 Q 122.2 105.0, 124.0 102.7 Q 125.9 100.4, 125.9 96.0 Q 125.9 91.6, 124.0 89.4 Q 122.2 87.2, 118.8 87.2 Q 115.4 87.2, 113.6 89.4 Q 111.7 91.6, 111.7 96.0 Q 111.7 100.5, 113.6 102.7 Q 115.4 105.0, 118.8 105.0 \" fill=\"#FF0000\"/>\n",
       "<path class=\"atom-4\" d=\"M 118.0 303.8 Q 118.0 298.5, 120.7 295.5 Q 123.3 292.5, 128.3 292.5 Q 133.2 292.5, 135.8 295.5 Q 138.5 298.5, 138.5 303.8 Q 138.5 309.2, 135.8 312.3 Q 133.1 315.4, 128.3 315.4 Q 123.4 315.4, 120.7 312.3 Q 118.0 309.3, 118.0 303.8 M 128.3 312.8 Q 131.7 312.8, 133.5 310.6 Q 135.3 308.3, 135.3 303.8 Q 135.3 299.4, 133.5 297.2 Q 131.7 295.0, 128.3 295.0 Q 124.9 295.0, 123.0 297.2 Q 121.2 299.4, 121.2 303.8 Q 121.2 308.3, 123.0 310.6 Q 124.9 312.8, 128.3 312.8 \" fill=\"#FF0000\"/>\n",
       "</svg>"
      ],
      "text/plain": [
       "<IPython.core.display.SVG object>"
      ]
     },
     "metadata": {},
     "output_type": "display_data"
    },
    {
     "name": "stdout",
     "output_type": "stream",
     "text": [
      "\n",
      "Reaction 1: Ketone reduction\n",
      "Reaction SMILES: CC(=O)C(=O)c1ccccc1>>CC(=O)[C@H](O)c1ccccc1\n"
     ]
    },
    {
     "data": {
      "image/svg+xml": [
       "<svg xmlns=\"http://www.w3.org/2000/svg\" xmlns:rdkit=\"http://www.rdkit.org/xml\" xmlns:xlink=\"http://www.w3.org/1999/xlink\" version=\"1.1\" baseProfile=\"full\" xml:space=\"preserve\" width=\"800px\" height=\"200px\" viewBox=\"0 0 800 200\">\n",
       "<!-- END OF HEADER -->\n",
       "<rect style=\"opacity:1.0;fill:#FFFFFF;stroke:none\" width=\"800.0\" height=\"200.0\" x=\"0.0\" y=\"0.0\"> </rect>\n",
       "<path class=\"bond-0 atom-0 atom-1\" d=\"M 68.4,92.3 L 125.1,78.7\" style=\"fill:none;fill-rule:evenodd;stroke:#000000;stroke-width:2.0px;stroke-linecap:butt;stroke-linejoin:miter;stroke-opacity:1\"/>\n",
       "<path class=\"bond-1 atom-1 atom-2\" d=\"M 128.6,82.4 L 135.7,58.4\" style=\"fill:none;fill-rule:evenodd;stroke:#000000;stroke-width:2.0px;stroke-linecap:butt;stroke-linejoin:miter;stroke-opacity:1\"/>\n",
       "<path class=\"bond-1 atom-1 atom-2\" d=\"M 135.7,58.4 L 142.8,34.5\" style=\"fill:none;fill-rule:evenodd;stroke:#FF0000;stroke-width:2.0px;stroke-linecap:butt;stroke-linejoin:miter;stroke-opacity:1\"/>\n",
       "<path class=\"bond-1 atom-1 atom-2\" d=\"M 120.2,79.9 L 127.3,55.9\" style=\"fill:none;fill-rule:evenodd;stroke:#000000;stroke-width:2.0px;stroke-linecap:butt;stroke-linejoin:miter;stroke-opacity:1\"/>\n",
       "<path class=\"bond-1 atom-1 atom-2\" d=\"M 127.3,55.9 L 134.4,32.0\" style=\"fill:none;fill-rule:evenodd;stroke:#FF0000;stroke-width:2.0px;stroke-linecap:butt;stroke-linejoin:miter;stroke-opacity:1\"/>\n",
       "<path class=\"bond-2 atom-1 atom-3\" d=\"M 125.1,78.7 L 165.3,121.0\" style=\"fill:none;fill-rule:evenodd;stroke:#000000;stroke-width:2.0px;stroke-linecap:butt;stroke-linejoin:miter;stroke-opacity:1\"/>\n",
       "<path class=\"bond-3 atom-3 atom-4\" d=\"M 161.8,117.4 L 154.7,141.4\" style=\"fill:none;fill-rule:evenodd;stroke:#000000;stroke-width:2.0px;stroke-linecap:butt;stroke-linejoin:miter;stroke-opacity:1\"/>\n",
       "<path class=\"bond-3 atom-3 atom-4\" d=\"M 154.7,141.4 L 147.6,165.5\" style=\"fill:none;fill-rule:evenodd;stroke:#FF0000;stroke-width:2.0px;stroke-linecap:butt;stroke-linejoin:miter;stroke-opacity:1\"/>\n",
       "<path class=\"bond-3 atom-3 atom-4\" d=\"M 170.2,119.9 L 163.1,143.9\" style=\"fill:none;fill-rule:evenodd;stroke:#000000;stroke-width:2.0px;stroke-linecap:butt;stroke-linejoin:miter;stroke-opacity:1\"/>\n",
       "<path class=\"bond-3 atom-3 atom-4\" d=\"M 163.1,143.9 L 156.0,168.0\" style=\"fill:none;fill-rule:evenodd;stroke:#FF0000;stroke-width:2.0px;stroke-linecap:butt;stroke-linejoin:miter;stroke-opacity:1\"/>\n",
       "<path class=\"bond-4 atom-3 atom-5\" d=\"M 165.3,121.0 L 222.1,107.4\" style=\"fill:none;fill-rule:evenodd;stroke:#000000;stroke-width:2.0px;stroke-linecap:butt;stroke-linejoin:miter;stroke-opacity:1\"/>\n",
       "<path class=\"bond-5 atom-5 atom-6\" d=\"M 222.1,107.4 L 238.7,51.4\" style=\"fill:none;fill-rule:evenodd;stroke:#000000;stroke-width:2.0px;stroke-linecap:butt;stroke-linejoin:miter;stroke-opacity:1\"/>\n",
       "<path class=\"bond-5 atom-5 atom-6\" d=\"M 231.9,105.1 L 245.6,58.8\" style=\"fill:none;fill-rule:evenodd;stroke:#000000;stroke-width:2.0px;stroke-linecap:butt;stroke-linejoin:miter;stroke-opacity:1\"/>\n",
       "<path class=\"bond-6 atom-6 atom-7\" d=\"M 238.7,51.4 L 295.5,37.8\" style=\"fill:none;fill-rule:evenodd;stroke:#000000;stroke-width:2.0px;stroke-linecap:butt;stroke-linejoin:miter;stroke-opacity:1\"/>\n",
       "<path class=\"bond-7 atom-7 atom-8\" d=\"M 295.5,37.8 L 335.6,80.2\" style=\"fill:none;fill-rule:evenodd;stroke:#000000;stroke-width:2.0px;stroke-linecap:butt;stroke-linejoin:miter;stroke-opacity:1\"/>\n",
       "<path class=\"bond-7 atom-7 atom-8\" d=\"M 292.6,47.5 L 325.8,82.5\" style=\"fill:none;fill-rule:evenodd;stroke:#000000;stroke-width:2.0px;stroke-linecap:butt;stroke-linejoin:miter;stroke-opacity:1\"/>\n",
       "<path class=\"bond-8 atom-8 atom-9\" d=\"M 335.6,80.2 L 319.1,136.1\" style=\"fill:none;fill-rule:evenodd;stroke:#000000;stroke-width:2.0px;stroke-linecap:butt;stroke-linejoin:miter;stroke-opacity:1\"/>\n",
       "<path class=\"bond-9 atom-9 atom-10\" d=\"M 319.1,136.1 L 262.3,149.8\" style=\"fill:none;fill-rule:evenodd;stroke:#000000;stroke-width:2.0px;stroke-linecap:butt;stroke-linejoin:miter;stroke-opacity:1\"/>\n",
       "<path class=\"bond-9 atom-9 atom-10\" d=\"M 312.1,128.8 L 265.2,140.1\" style=\"fill:none;fill-rule:evenodd;stroke:#000000;stroke-width:2.0px;stroke-linecap:butt;stroke-linejoin:miter;stroke-opacity:1\"/>\n",
       "<path class=\"bond-10 atom-10 atom-5\" d=\"M 262.3,149.8 L 222.1,107.4\" style=\"fill:none;fill-rule:evenodd;stroke:#000000;stroke-width:2.0px;stroke-linecap:butt;stroke-linejoin:miter;stroke-opacity:1\"/>\n",
       "<path d=\"M 122.3,79.4 L 125.1,78.7 L 127.1,80.8\" style=\"fill:none;stroke:#000000;stroke-width:2.0px;stroke-linecap:butt;stroke-linejoin:miter;stroke-opacity:1;\"/>\n",
       "<path d=\"M 163.3,118.9 L 165.3,121.0 L 168.2,120.4\" style=\"fill:none;stroke:#000000;stroke-width:2.0px;stroke-linecap:butt;stroke-linejoin:miter;stroke-opacity:1;\"/>\n",
       "<path d=\"M 237.9,54.2 L 238.7,51.4 L 241.5,50.8\" style=\"fill:none;stroke:#000000;stroke-width:2.0px;stroke-linecap:butt;stroke-linejoin:miter;stroke-opacity:1;\"/>\n",
       "<path d=\"M 292.6,38.5 L 295.5,37.8 L 297.5,39.9\" style=\"fill:none;stroke:#000000;stroke-width:2.0px;stroke-linecap:butt;stroke-linejoin:miter;stroke-opacity:1;\"/>\n",
       "<path d=\"M 333.6,78.0 L 335.6,80.2 L 334.8,83.0\" style=\"fill:none;stroke:#000000;stroke-width:2.0px;stroke-linecap:butt;stroke-linejoin:miter;stroke-opacity:1;\"/>\n",
       "<path d=\"M 319.9,133.3 L 319.1,136.1 L 316.2,136.8\" style=\"fill:none;stroke:#000000;stroke-width:2.0px;stroke-linecap:butt;stroke-linejoin:miter;stroke-opacity:1;\"/>\n",
       "<path d=\"M 265.1,149.1 L 262.3,149.8 L 260.3,147.7\" style=\"fill:none;stroke:#000000;stroke-width:2.0px;stroke-linecap:butt;stroke-linejoin:miter;stroke-opacity:1;\"/>\n",
       "<path class=\"atom-2\" d=\"M 134.1 22.8 Q 134.1 18.8, 136.1 16.6 Q 138.0 14.4, 141.7 14.4 Q 145.4 14.4, 147.3 16.6 Q 149.3 18.8, 149.3 22.8 Q 149.3 26.8, 147.3 29.1 Q 145.3 31.3, 141.7 31.3 Q 138.1 31.3, 136.1 29.1 Q 134.1 26.8, 134.1 22.8 M 141.7 29.5 Q 144.2 29.5, 145.6 27.8 Q 147.0 26.1, 147.0 22.8 Q 147.0 19.5, 145.6 17.9 Q 144.2 16.2, 141.7 16.2 Q 139.2 16.2, 137.8 17.9 Q 136.5 19.5, 136.5 22.8 Q 136.5 26.1, 137.8 27.8 Q 139.2 29.5, 141.7 29.5 \" fill=\"#FF0000\"/>\n",
       "<path class=\"atom-4\" d=\"M 141.1 177.1 Q 141.1 173.1, 143.1 170.9 Q 145.1 168.7, 148.7 168.7 Q 152.4 168.7, 154.4 170.9 Q 156.3 173.1, 156.3 177.1 Q 156.3 181.1, 154.3 183.4 Q 152.4 185.6, 148.7 185.6 Q 145.1 185.6, 143.1 183.4 Q 141.1 181.1, 141.1 177.1 M 148.7 183.8 Q 151.3 183.8, 152.6 182.1 Q 154.0 180.4, 154.0 177.1 Q 154.0 173.8, 152.6 172.2 Q 151.3 170.5, 148.7 170.5 Q 146.2 170.5, 144.8 172.2 Q 143.5 173.8, 143.5 177.1 Q 143.5 180.4, 144.8 182.1 Q 146.2 183.8, 148.7 183.8 \" fill=\"#FF0000\"/>\n",
       "<path class=\"bond-11 atom-11 atom-12\" d=\"M 464.4,92.3 L 521.1,78.7\" style=\"fill:none;fill-rule:evenodd;stroke:#000000;stroke-width:2.0px;stroke-linecap:butt;stroke-linejoin:miter;stroke-opacity:1\"/>\n",
       "<path class=\"bond-12 atom-12 atom-13\" d=\"M 524.6,82.4 L 531.7,58.4\" style=\"fill:none;fill-rule:evenodd;stroke:#000000;stroke-width:2.0px;stroke-linecap:butt;stroke-linejoin:miter;stroke-opacity:1\"/>\n",
       "<path class=\"bond-12 atom-12 atom-13\" d=\"M 531.7,58.4 L 538.8,34.5\" style=\"fill:none;fill-rule:evenodd;stroke:#FF0000;stroke-width:2.0px;stroke-linecap:butt;stroke-linejoin:miter;stroke-opacity:1\"/>\n",
       "<path class=\"bond-12 atom-12 atom-13\" d=\"M 516.2,79.9 L 523.3,55.9\" style=\"fill:none;fill-rule:evenodd;stroke:#000000;stroke-width:2.0px;stroke-linecap:butt;stroke-linejoin:miter;stroke-opacity:1\"/>\n",
       "<path class=\"bond-12 atom-12 atom-13\" d=\"M 523.3,55.9 L 530.4,32.0\" style=\"fill:none;fill-rule:evenodd;stroke:#FF0000;stroke-width:2.0px;stroke-linecap:butt;stroke-linejoin:miter;stroke-opacity:1\"/>\n",
       "<path class=\"bond-13 atom-12 atom-14\" d=\"M 521.1,78.7 L 561.3,121.0\" style=\"fill:none;fill-rule:evenodd;stroke:#000000;stroke-width:2.0px;stroke-linecap:butt;stroke-linejoin:miter;stroke-opacity:1\"/>\n",
       "<path class=\"bond-14 atom-14 atom-15\" d=\"M 561.3,121.0 L 556.9,143.6 L 552.7,142.3 Z\" style=\"fill:#000000;fill-rule:evenodd;fill-opacity:1;stroke:#000000;stroke-width:0.5px;stroke-linecap:butt;stroke-linejoin:miter;stroke-opacity:1;\"/>\n",
       "<path class=\"bond-14 atom-14 atom-15\" d=\"M 556.9,143.6 L 544.2,163.6 L 552.6,166.1 Z\" style=\"fill:#FF0000;fill-rule:evenodd;fill-opacity:1;stroke:#FF0000;stroke-width:0.5px;stroke-linecap:butt;stroke-linejoin:miter;stroke-opacity:1;\"/>\n",
       "<path class=\"bond-14 atom-14 atom-15\" d=\"M 556.9,143.6 L 552.7,142.3 L 544.2,163.6 Z\" style=\"fill:#FF0000;fill-rule:evenodd;fill-opacity:1;stroke:#FF0000;stroke-width:0.5px;stroke-linecap:butt;stroke-linejoin:miter;stroke-opacity:1;\"/>\n",
       "<path class=\"bond-15 atom-14 atom-16\" d=\"M 561.3,121.0 L 618.1,107.4\" style=\"fill:none;fill-rule:evenodd;stroke:#000000;stroke-width:2.0px;stroke-linecap:butt;stroke-linejoin:miter;stroke-opacity:1\"/>\n",
       "<path class=\"bond-16 atom-16 atom-17\" d=\"M 618.1,107.4 L 634.7,51.4\" style=\"fill:none;fill-rule:evenodd;stroke:#000000;stroke-width:2.0px;stroke-linecap:butt;stroke-linejoin:miter;stroke-opacity:1\"/>\n",
       "<path class=\"bond-16 atom-16 atom-17\" d=\"M 627.9,105.1 L 641.6,58.8\" style=\"fill:none;fill-rule:evenodd;stroke:#000000;stroke-width:2.0px;stroke-linecap:butt;stroke-linejoin:miter;stroke-opacity:1\"/>\n",
       "<path class=\"bond-17 atom-17 atom-18\" d=\"M 634.7,51.4 L 691.5,37.8\" style=\"fill:none;fill-rule:evenodd;stroke:#000000;stroke-width:2.0px;stroke-linecap:butt;stroke-linejoin:miter;stroke-opacity:1\"/>\n",
       "<path class=\"bond-18 atom-18 atom-19\" d=\"M 691.5,37.8 L 731.6,80.2\" style=\"fill:none;fill-rule:evenodd;stroke:#000000;stroke-width:2.0px;stroke-linecap:butt;stroke-linejoin:miter;stroke-opacity:1\"/>\n",
       "<path class=\"bond-18 atom-18 atom-19\" d=\"M 688.6,47.5 L 721.8,82.5\" style=\"fill:none;fill-rule:evenodd;stroke:#000000;stroke-width:2.0px;stroke-linecap:butt;stroke-linejoin:miter;stroke-opacity:1\"/>\n",
       "<path class=\"bond-19 atom-19 atom-20\" d=\"M 731.6,80.2 L 715.1,136.1\" style=\"fill:none;fill-rule:evenodd;stroke:#000000;stroke-width:2.0px;stroke-linecap:butt;stroke-linejoin:miter;stroke-opacity:1\"/>\n",
       "<path class=\"bond-20 atom-20 atom-21\" d=\"M 715.1,136.1 L 658.3,149.8\" style=\"fill:none;fill-rule:evenodd;stroke:#000000;stroke-width:2.0px;stroke-linecap:butt;stroke-linejoin:miter;stroke-opacity:1\"/>\n",
       "<path class=\"bond-20 atom-20 atom-21\" d=\"M 708.1,128.8 L 661.2,140.1\" style=\"fill:none;fill-rule:evenodd;stroke:#000000;stroke-width:2.0px;stroke-linecap:butt;stroke-linejoin:miter;stroke-opacity:1\"/>\n",
       "<path class=\"bond-21 atom-21 atom-16\" d=\"M 658.3,149.8 L 618.1,107.4\" style=\"fill:none;fill-rule:evenodd;stroke:#000000;stroke-width:2.0px;stroke-linecap:butt;stroke-linejoin:miter;stroke-opacity:1\"/>\n",
       "<path d=\"M 518.3,79.4 L 521.1,78.7 L 523.1,80.8\" style=\"fill:none;stroke:#000000;stroke-width:2.0px;stroke-linecap:butt;stroke-linejoin:miter;stroke-opacity:1;\"/>\n",
       "<path d=\"M 559.3,118.9 L 561.3,121.0 L 564.2,120.4\" style=\"fill:none;stroke:#000000;stroke-width:2.0px;stroke-linecap:butt;stroke-linejoin:miter;stroke-opacity:1;\"/>\n",
       "<path d=\"M 633.9,54.2 L 634.7,51.4 L 637.5,50.8\" style=\"fill:none;stroke:#000000;stroke-width:2.0px;stroke-linecap:butt;stroke-linejoin:miter;stroke-opacity:1;\"/>\n",
       "<path d=\"M 688.6,38.5 L 691.5,37.8 L 693.5,39.9\" style=\"fill:none;stroke:#000000;stroke-width:2.0px;stroke-linecap:butt;stroke-linejoin:miter;stroke-opacity:1;\"/>\n",
       "<path d=\"M 729.6,78.0 L 731.6,80.2 L 730.8,83.0\" style=\"fill:none;stroke:#000000;stroke-width:2.0px;stroke-linecap:butt;stroke-linejoin:miter;stroke-opacity:1;\"/>\n",
       "<path d=\"M 715.9,133.3 L 715.1,136.1 L 712.2,136.8\" style=\"fill:none;stroke:#000000;stroke-width:2.0px;stroke-linecap:butt;stroke-linejoin:miter;stroke-opacity:1;\"/>\n",
       "<path d=\"M 661.1,149.1 L 658.3,149.8 L 656.3,147.7\" style=\"fill:none;stroke:#000000;stroke-width:2.0px;stroke-linecap:butt;stroke-linejoin:miter;stroke-opacity:1;\"/>\n",
       "<path class=\"atom-2\" d=\"M 530.1 22.8 Q 530.1 18.8, 532.1 16.6 Q 534.0 14.4, 537.7 14.4 Q 541.4 14.4, 543.3 16.6 Q 545.3 18.8, 545.3 22.8 Q 545.3 26.8, 543.3 29.1 Q 541.3 31.3, 537.7 31.3 Q 534.1 31.3, 532.1 29.1 Q 530.1 26.8, 530.1 22.8 M 537.7 29.5 Q 540.2 29.5, 541.6 27.8 Q 543.0 26.1, 543.0 22.8 Q 543.0 19.5, 541.6 17.9 Q 540.2 16.2, 537.7 16.2 Q 535.2 16.2, 533.8 17.9 Q 532.5 19.5, 532.5 22.8 Q 532.5 26.1, 533.8 27.8 Q 535.2 29.5, 537.7 29.5 \" fill=\"#FF0000\"/>\n",
       "<path class=\"atom-4\" d=\"M 537.1 177.1 Q 537.1 173.1, 539.1 170.9 Q 541.1 168.7, 544.7 168.7 Q 548.4 168.7, 550.4 170.9 Q 552.3 173.1, 552.3 177.1 Q 552.3 181.1, 550.3 183.4 Q 548.4 185.6, 544.7 185.6 Q 541.1 185.6, 539.1 183.4 Q 537.1 181.1, 537.1 177.1 M 544.7 183.8 Q 547.3 183.8, 548.6 182.1 Q 550.0 180.4, 550.0 177.1 Q 550.0 173.8, 548.6 172.2 Q 547.3 170.5, 544.7 170.5 Q 542.2 170.5, 540.8 172.2 Q 539.5 173.8, 539.5 177.1 Q 539.5 180.4, 540.8 182.1 Q 542.2 183.8, 544.7 183.8 \" fill=\"#FF0000\"/>\n",
       "<path class=\"atom-4\" d=\"M 554.9 168.9 L 557.1 168.9 L 557.1 175.9 L 565.6 175.9 L 565.6 168.9 L 567.8 168.9 L 567.8 185.4 L 565.6 185.4 L 565.6 177.8 L 557.1 177.8 L 557.1 185.4 L 554.9 185.4 L 554.9 168.9 \" fill=\"#FF0000\"/>\n",
       "<path d=\"M 357.0,100.0 L 443.0,100.0\" style=\"fill:none;fill-rule:evenodd;stroke:#000000;stroke-width:2.0px;stroke-linecap:butt;stroke-linejoin:miter;stroke-opacity:1\"/>\n",
       "<path d=\"M 443.0,100.0 L 438.0,102.9\" style=\"fill:none;fill-rule:evenodd;stroke:#000000;stroke-width:2.0px;stroke-linecap:butt;stroke-linejoin:miter;stroke-opacity:1\"/>\n",
       "<path d=\"M 443.0,100.0 L 438.0,97.1\" style=\"fill:none;fill-rule:evenodd;stroke:#000000;stroke-width:2.0px;stroke-linecap:butt;stroke-linejoin:miter;stroke-opacity:1\"/>\n",
       "</svg>"
      ],
      "text/plain": [
       "<IPython.core.display.SVG object>"
      ]
     },
     "metadata": {},
     "output_type": "display_data"
    },
    {
     "name": "stdout",
     "output_type": "stream",
     "text": [
      "\n",
      "Reaction 2: Ketone amination\n",
      "Reaction SMILES: CC(=O)[C@H](O)c1ccccc1>>C[C@@H](N)[C@H](O)c1ccccc1\n"
     ]
    },
    {
     "data": {
      "image/svg+xml": [
       "<svg xmlns=\"http://www.w3.org/2000/svg\" xmlns:rdkit=\"http://www.rdkit.org/xml\" xmlns:xlink=\"http://www.w3.org/1999/xlink\" version=\"1.1\" baseProfile=\"full\" xml:space=\"preserve\" width=\"800px\" height=\"200px\" viewBox=\"0 0 800 200\">\n",
       "<!-- END OF HEADER -->\n",
       "<rect style=\"opacity:1.0;fill:#FFFFFF;stroke:none\" width=\"800.0\" height=\"200.0\" x=\"0.0\" y=\"0.0\"> </rect>\n",
       "<path class=\"bond-0 atom-0 atom-1\" d=\"M 68.3,92.3 L 125.1,78.7\" style=\"fill:none;fill-rule:evenodd;stroke:#000000;stroke-width:2.0px;stroke-linecap:butt;stroke-linejoin:miter;stroke-opacity:1\"/>\n",
       "<path class=\"bond-1 atom-1 atom-2\" d=\"M 128.6,82.4 L 135.7,58.4\" style=\"fill:none;fill-rule:evenodd;stroke:#000000;stroke-width:2.0px;stroke-linecap:butt;stroke-linejoin:miter;stroke-opacity:1\"/>\n",
       "<path class=\"bond-1 atom-1 atom-2\" d=\"M 135.7,58.4 L 142.8,34.5\" style=\"fill:none;fill-rule:evenodd;stroke:#FF0000;stroke-width:2.0px;stroke-linecap:butt;stroke-linejoin:miter;stroke-opacity:1\"/>\n",
       "<path class=\"bond-1 atom-1 atom-2\" d=\"M 120.2,79.9 L 127.3,55.9\" style=\"fill:none;fill-rule:evenodd;stroke:#000000;stroke-width:2.0px;stroke-linecap:butt;stroke-linejoin:miter;stroke-opacity:1\"/>\n",
       "<path class=\"bond-1 atom-1 atom-2\" d=\"M 127.3,55.9 L 134.4,32.0\" style=\"fill:none;fill-rule:evenodd;stroke:#FF0000;stroke-width:2.0px;stroke-linecap:butt;stroke-linejoin:miter;stroke-opacity:1\"/>\n",
       "<path class=\"bond-2 atom-1 atom-3\" d=\"M 125.1,78.7 L 165.3,121.1\" style=\"fill:none;fill-rule:evenodd;stroke:#000000;stroke-width:2.0px;stroke-linecap:butt;stroke-linejoin:miter;stroke-opacity:1\"/>\n",
       "<path class=\"bond-3 atom-3 atom-4\" d=\"M 165.3,121.1 L 160.9,143.6 L 156.7,142.3 Z\" style=\"fill:#000000;fill-rule:evenodd;fill-opacity:1;stroke:#000000;stroke-width:0.5px;stroke-linecap:butt;stroke-linejoin:miter;stroke-opacity:1;\"/>\n",
       "<path class=\"bond-3 atom-3 atom-4\" d=\"M 160.9,143.6 L 148.1,163.6 L 156.5,166.1 Z\" style=\"fill:#FF0000;fill-rule:evenodd;fill-opacity:1;stroke:#FF0000;stroke-width:0.5px;stroke-linecap:butt;stroke-linejoin:miter;stroke-opacity:1;\"/>\n",
       "<path class=\"bond-3 atom-3 atom-4\" d=\"M 160.9,143.6 L 156.7,142.3 L 148.1,163.6 Z\" style=\"fill:#FF0000;fill-rule:evenodd;fill-opacity:1;stroke:#FF0000;stroke-width:0.5px;stroke-linecap:butt;stroke-linejoin:miter;stroke-opacity:1;\"/>\n",
       "<path class=\"bond-4 atom-3 atom-5\" d=\"M 165.3,121.1 L 222.1,107.4\" style=\"fill:none;fill-rule:evenodd;stroke:#000000;stroke-width:2.0px;stroke-linecap:butt;stroke-linejoin:miter;stroke-opacity:1\"/>\n",
       "<path class=\"bond-5 atom-5 atom-6\" d=\"M 222.1,107.4 L 238.7,51.4\" style=\"fill:none;fill-rule:evenodd;stroke:#000000;stroke-width:2.0px;stroke-linecap:butt;stroke-linejoin:miter;stroke-opacity:1\"/>\n",
       "<path class=\"bond-5 atom-5 atom-6\" d=\"M 231.9,105.1 L 245.6,58.8\" style=\"fill:none;fill-rule:evenodd;stroke:#000000;stroke-width:2.0px;stroke-linecap:butt;stroke-linejoin:miter;stroke-opacity:1\"/>\n",
       "<path class=\"bond-6 atom-6 atom-7\" d=\"M 238.7,51.4 L 295.5,37.8\" style=\"fill:none;fill-rule:evenodd;stroke:#000000;stroke-width:2.0px;stroke-linecap:butt;stroke-linejoin:miter;stroke-opacity:1\"/>\n",
       "<path class=\"bond-7 atom-7 atom-8\" d=\"M 295.5,37.8 L 335.7,80.2\" style=\"fill:none;fill-rule:evenodd;stroke:#000000;stroke-width:2.0px;stroke-linecap:butt;stroke-linejoin:miter;stroke-opacity:1\"/>\n",
       "<path class=\"bond-7 atom-7 atom-8\" d=\"M 292.6,47.5 L 325.8,82.5\" style=\"fill:none;fill-rule:evenodd;stroke:#000000;stroke-width:2.0px;stroke-linecap:butt;stroke-linejoin:miter;stroke-opacity:1\"/>\n",
       "<path class=\"bond-8 atom-8 atom-9\" d=\"M 335.7,80.2 L 319.1,136.2\" style=\"fill:none;fill-rule:evenodd;stroke:#000000;stroke-width:2.0px;stroke-linecap:butt;stroke-linejoin:miter;stroke-opacity:1\"/>\n",
       "<path class=\"bond-9 atom-9 atom-10\" d=\"M 319.1,136.2 L 262.3,149.8\" style=\"fill:none;fill-rule:evenodd;stroke:#000000;stroke-width:2.0px;stroke-linecap:butt;stroke-linejoin:miter;stroke-opacity:1\"/>\n",
       "<path class=\"bond-9 atom-9 atom-10\" d=\"M 312.1,128.8 L 265.2,140.1\" style=\"fill:none;fill-rule:evenodd;stroke:#000000;stroke-width:2.0px;stroke-linecap:butt;stroke-linejoin:miter;stroke-opacity:1\"/>\n",
       "<path class=\"bond-10 atom-10 atom-5\" d=\"M 262.3,149.8 L 222.1,107.4\" style=\"fill:none;fill-rule:evenodd;stroke:#000000;stroke-width:2.0px;stroke-linecap:butt;stroke-linejoin:miter;stroke-opacity:1\"/>\n",
       "<path d=\"M 122.3,79.4 L 125.1,78.7 L 127.1,80.8\" style=\"fill:none;stroke:#000000;stroke-width:2.0px;stroke-linecap:butt;stroke-linejoin:miter;stroke-opacity:1;\"/>\n",
       "<path d=\"M 163.3,118.9 L 165.3,121.1 L 168.2,120.4\" style=\"fill:none;stroke:#000000;stroke-width:2.0px;stroke-linecap:butt;stroke-linejoin:miter;stroke-opacity:1;\"/>\n",
       "<path d=\"M 237.9,54.2 L 238.7,51.4 L 241.5,50.8\" style=\"fill:none;stroke:#000000;stroke-width:2.0px;stroke-linecap:butt;stroke-linejoin:miter;stroke-opacity:1;\"/>\n",
       "<path d=\"M 292.6,38.5 L 295.5,37.8 L 297.5,39.9\" style=\"fill:none;stroke:#000000;stroke-width:2.0px;stroke-linecap:butt;stroke-linejoin:miter;stroke-opacity:1;\"/>\n",
       "<path d=\"M 333.6,78.0 L 335.7,80.2 L 334.8,83.0\" style=\"fill:none;stroke:#000000;stroke-width:2.0px;stroke-linecap:butt;stroke-linejoin:miter;stroke-opacity:1;\"/>\n",
       "<path d=\"M 319.9,133.4 L 319.1,136.2 L 316.2,136.8\" style=\"fill:none;stroke:#000000;stroke-width:2.0px;stroke-linecap:butt;stroke-linejoin:miter;stroke-opacity:1;\"/>\n",
       "<path d=\"M 265.1,149.1 L 262.3,149.8 L 260.3,147.7\" style=\"fill:none;stroke:#000000;stroke-width:2.0px;stroke-linecap:butt;stroke-linejoin:miter;stroke-opacity:1;\"/>\n",
       "<path class=\"atom-2\" d=\"M 134.1 22.8 Q 134.1 18.8, 136.1 16.6 Q 138.0 14.3, 141.7 14.3 Q 145.4 14.3, 147.3 16.6 Q 149.3 18.8, 149.3 22.8 Q 149.3 26.8, 147.3 29.1 Q 145.3 31.3, 141.7 31.3 Q 138.1 31.3, 136.1 29.1 Q 134.1 26.8, 134.1 22.8 M 141.7 29.5 Q 144.2 29.5, 145.6 27.8 Q 147.0 26.1, 147.0 22.8 Q 147.0 19.5, 145.6 17.9 Q 144.2 16.2, 141.7 16.2 Q 139.2 16.2, 137.8 17.8 Q 136.5 19.5, 136.5 22.8 Q 136.5 26.1, 137.8 27.8 Q 139.2 29.5, 141.7 29.5 \" fill=\"#FF0000\"/>\n",
       "<path class=\"atom-4\" d=\"M 141.1 177.1 Q 141.1 173.1, 143.1 170.9 Q 145.1 168.7, 148.7 168.7 Q 152.4 168.7, 154.4 170.9 Q 156.3 173.1, 156.3 177.1 Q 156.3 181.1, 154.3 183.4 Q 152.4 185.7, 148.7 185.7 Q 145.1 185.7, 143.1 183.4 Q 141.1 181.1, 141.1 177.1 M 148.7 183.8 Q 151.3 183.8, 152.6 182.1 Q 154.0 180.4, 154.0 177.1 Q 154.0 173.8, 152.6 172.2 Q 151.3 170.5, 148.7 170.5 Q 146.2 170.5, 144.8 172.2 Q 143.5 173.8, 143.5 177.1 Q 143.5 180.4, 144.8 182.1 Q 146.2 183.8, 148.7 183.8 \" fill=\"#FF0000\"/>\n",
       "<path class=\"atom-4\" d=\"M 158.9 168.9 L 161.1 168.9 L 161.1 175.9 L 169.6 175.9 L 169.6 168.9 L 171.8 168.9 L 171.8 185.4 L 169.6 185.4 L 169.6 177.8 L 161.1 177.8 L 161.1 185.4 L 158.9 185.4 L 158.9 168.9 \" fill=\"#FF0000\"/>\n",
       "<path class=\"bond-11 atom-12 atom-11\" d=\"M 522.1,78.6 L 466.4,96.5 L 464.3,88.0 Z\" style=\"fill:#000000;fill-rule:evenodd;fill-opacity:1;stroke:#000000;stroke-width:0.5px;stroke-linecap:butt;stroke-linejoin:miter;stroke-opacity:1;\"/>\n",
       "<path class=\"bond-12 atom-12 atom-13\" d=\"M 522.1,78.6 L 528.9,55.7\" style=\"fill:none;fill-rule:evenodd;stroke:#000000;stroke-width:2.0px;stroke-linecap:butt;stroke-linejoin:miter;stroke-opacity:1\"/>\n",
       "<path class=\"bond-12 atom-12 atom-13\" d=\"M 528.9,55.7 L 535.7,32.9\" style=\"fill:none;fill-rule:evenodd;stroke:#0000FF;stroke-width:2.0px;stroke-linecap:butt;stroke-linejoin:miter;stroke-opacity:1\"/>\n",
       "<path class=\"bond-13 atom-12 atom-14\" d=\"M 522.1,78.6 L 562.3,121.0\" style=\"fill:none;fill-rule:evenodd;stroke:#000000;stroke-width:2.0px;stroke-linecap:butt;stroke-linejoin:miter;stroke-opacity:1\"/>\n",
       "<path class=\"bond-14 atom-14 atom-15\" d=\"M 562.3,121.0 L 557.9,143.5 L 553.7,142.3 Z\" style=\"fill:#000000;fill-rule:evenodd;fill-opacity:1;stroke:#000000;stroke-width:0.5px;stroke-linecap:butt;stroke-linejoin:miter;stroke-opacity:1;\"/>\n",
       "<path class=\"bond-14 atom-14 atom-15\" d=\"M 557.9,143.5 L 545.2,163.5 L 553.6,166.0 Z\" style=\"fill:#FF0000;fill-rule:evenodd;fill-opacity:1;stroke:#FF0000;stroke-width:0.5px;stroke-linecap:butt;stroke-linejoin:miter;stroke-opacity:1;\"/>\n",
       "<path class=\"bond-14 atom-14 atom-15\" d=\"M 557.9,143.5 L 553.7,142.3 L 545.2,163.5 Z\" style=\"fill:#FF0000;fill-rule:evenodd;fill-opacity:1;stroke:#FF0000;stroke-width:0.5px;stroke-linecap:butt;stroke-linejoin:miter;stroke-opacity:1;\"/>\n",
       "<path class=\"bond-15 atom-14 atom-16\" d=\"M 562.3,121.0 L 619.1,107.4\" style=\"fill:none;fill-rule:evenodd;stroke:#000000;stroke-width:2.0px;stroke-linecap:butt;stroke-linejoin:miter;stroke-opacity:1\"/>\n",
       "<path class=\"bond-16 atom-16 atom-17\" d=\"M 619.1,107.4 L 635.7,51.4\" style=\"fill:none;fill-rule:evenodd;stroke:#000000;stroke-width:2.0px;stroke-linecap:butt;stroke-linejoin:miter;stroke-opacity:1\"/>\n",
       "<path class=\"bond-16 atom-16 atom-17\" d=\"M 628.9,105.0 L 642.7,58.7\" style=\"fill:none;fill-rule:evenodd;stroke:#000000;stroke-width:2.0px;stroke-linecap:butt;stroke-linejoin:miter;stroke-opacity:1\"/>\n",
       "<path class=\"bond-17 atom-17 atom-18\" d=\"M 635.7,51.4 L 692.5,37.8\" style=\"fill:none;fill-rule:evenodd;stroke:#000000;stroke-width:2.0px;stroke-linecap:butt;stroke-linejoin:miter;stroke-opacity:1\"/>\n",
       "<path class=\"bond-18 atom-18 atom-19\" d=\"M 692.5,37.8 L 732.7,80.1\" style=\"fill:none;fill-rule:evenodd;stroke:#000000;stroke-width:2.0px;stroke-linecap:butt;stroke-linejoin:miter;stroke-opacity:1\"/>\n",
       "<path class=\"bond-18 atom-18 atom-19\" d=\"M 689.6,47.5 L 722.8,82.5\" style=\"fill:none;fill-rule:evenodd;stroke:#000000;stroke-width:2.0px;stroke-linecap:butt;stroke-linejoin:miter;stroke-opacity:1\"/>\n",
       "<path class=\"bond-19 atom-19 atom-20\" d=\"M 732.7,80.1 L 716.1,136.1\" style=\"fill:none;fill-rule:evenodd;stroke:#000000;stroke-width:2.0px;stroke-linecap:butt;stroke-linejoin:miter;stroke-opacity:1\"/>\n",
       "<path class=\"bond-20 atom-20 atom-21\" d=\"M 716.1,136.1 L 659.3,149.7\" style=\"fill:none;fill-rule:evenodd;stroke:#000000;stroke-width:2.0px;stroke-linecap:butt;stroke-linejoin:miter;stroke-opacity:1\"/>\n",
       "<path class=\"bond-20 atom-20 atom-21\" d=\"M 709.1,128.8 L 662.2,140.0\" style=\"fill:none;fill-rule:evenodd;stroke:#000000;stroke-width:2.0px;stroke-linecap:butt;stroke-linejoin:miter;stroke-opacity:1\"/>\n",
       "<path class=\"bond-21 atom-21 atom-16\" d=\"M 659.3,149.7 L 619.1,107.4\" style=\"fill:none;fill-rule:evenodd;stroke:#000000;stroke-width:2.0px;stroke-linecap:butt;stroke-linejoin:miter;stroke-opacity:1\"/>\n",
       "<path d=\"M 522.5,77.5 L 522.1,78.6 L 524.1,80.8\" style=\"fill:none;stroke:#000000;stroke-width:2.0px;stroke-linecap:butt;stroke-linejoin:miter;stroke-opacity:1;\"/>\n",
       "<path d=\"M 560.3,118.9 L 562.3,121.0 L 565.2,120.3\" style=\"fill:none;stroke:#000000;stroke-width:2.0px;stroke-linecap:butt;stroke-linejoin:miter;stroke-opacity:1;\"/>\n",
       "<path d=\"M 634.9,54.2 L 635.7,51.4 L 638.5,50.7\" style=\"fill:none;stroke:#000000;stroke-width:2.0px;stroke-linecap:butt;stroke-linejoin:miter;stroke-opacity:1;\"/>\n",
       "<path d=\"M 689.6,38.4 L 692.5,37.8 L 694.5,39.9\" style=\"fill:none;stroke:#000000;stroke-width:2.0px;stroke-linecap:butt;stroke-linejoin:miter;stroke-opacity:1;\"/>\n",
       "<path d=\"M 730.7,78.0 L 732.7,80.1 L 731.8,82.9\" style=\"fill:none;stroke:#000000;stroke-width:2.0px;stroke-linecap:butt;stroke-linejoin:miter;stroke-opacity:1;\"/>\n",
       "<path d=\"M 716.9,133.3 L 716.1,136.1 L 713.2,136.8\" style=\"fill:none;stroke:#000000;stroke-width:2.0px;stroke-linecap:butt;stroke-linejoin:miter;stroke-opacity:1;\"/>\n",
       "<path d=\"M 662.1,149.1 L 659.3,149.7 L 657.3,147.6\" style=\"fill:none;stroke:#000000;stroke-width:2.0px;stroke-linecap:butt;stroke-linejoin:miter;stroke-opacity:1;\"/>\n",
       "<path class=\"atom-2\" d=\"M 535.1 14.4 L 540.5 23.1 Q 541.0 24.0, 541.9 25.6 Q 542.7 27.1, 542.8 27.2 L 542.8 14.4 L 545.0 14.4 L 545.0 30.9 L 542.7 30.9 L 536.9 21.3 Q 536.2 20.2, 535.5 18.9 Q 534.8 17.7, 534.6 17.3 L 534.6 30.9 L 532.4 30.9 L 532.4 14.4 L 535.1 14.4 \" fill=\"#0000FF\"/>\n",
       "<path class=\"atom-2\" d=\"M 548.2 14.4 L 550.4 14.4 L 550.4 21.4 L 558.8 21.4 L 558.8 14.4 L 561.1 14.4 L 561.1 30.9 L 558.8 30.9 L 558.8 23.3 L 550.4 23.3 L 550.4 30.9 L 548.2 30.9 L 548.2 14.4 \" fill=\"#0000FF\"/>\n",
       "<path class=\"atom-2\" d=\"M 564.3 30.3 Q 564.7 29.3, 565.7 28.7 Q 566.6 28.2, 568.0 28.2 Q 569.6 28.2, 570.5 29.1 Q 571.5 29.9, 571.5 31.5 Q 571.5 33.2, 570.3 34.7 Q 569.1 36.2, 566.6 38.0 L 571.7 38.0 L 571.7 39.2 L 564.3 39.2 L 564.3 38.2 Q 566.3 36.7, 567.5 35.6 Q 568.8 34.6, 569.3 33.6 Q 569.9 32.6, 569.9 31.6 Q 569.9 30.6, 569.4 30.0 Q 568.9 29.4, 568.0 29.4 Q 567.1 29.4, 566.5 29.7 Q 565.9 30.1, 565.5 30.9 L 564.3 30.3 \" fill=\"#0000FF\"/>\n",
       "<path class=\"atom-4\" d=\"M 538.1 177.0 Q 538.1 173.1, 540.1 170.8 Q 542.1 168.6, 545.7 168.6 Q 549.4 168.6, 551.4 170.8 Q 553.3 173.1, 553.3 177.0 Q 553.3 181.1, 551.3 183.3 Q 549.4 185.6, 545.7 185.6 Q 542.1 185.6, 540.1 183.3 Q 538.1 181.1, 538.1 177.0 M 545.7 183.7 Q 548.3 183.7, 549.6 182.1 Q 551.0 180.4, 551.0 177.0 Q 551.0 173.8, 549.6 172.2 Q 548.3 170.5, 545.7 170.5 Q 543.2 170.5, 541.8 172.1 Q 540.5 173.8, 540.5 177.0 Q 540.5 180.4, 541.8 182.1 Q 543.2 183.7, 545.7 183.7 \" fill=\"#FF0000\"/>\n",
       "<path class=\"atom-4\" d=\"M 555.9 168.8 L 558.1 168.8 L 558.1 175.8 L 566.6 175.8 L 566.6 168.8 L 568.8 168.8 L 568.8 185.4 L 566.6 185.4 L 566.6 177.7 L 558.1 177.7 L 558.1 185.4 L 555.9 185.4 L 555.9 168.8 \" fill=\"#FF0000\"/>\n",
       "<path d=\"M 357.0,100.0 L 443.0,100.0\" style=\"fill:none;fill-rule:evenodd;stroke:#000000;stroke-width:2.0px;stroke-linecap:butt;stroke-linejoin:miter;stroke-opacity:1\"/>\n",
       "<path d=\"M 443.0,100.0 L 438.0,102.9\" style=\"fill:none;fill-rule:evenodd;stroke:#000000;stroke-width:2.0px;stroke-linecap:butt;stroke-linejoin:miter;stroke-opacity:1\"/>\n",
       "<path d=\"M 443.0,100.0 L 438.0,97.1\" style=\"fill:none;fill-rule:evenodd;stroke:#000000;stroke-width:2.0px;stroke-linecap:butt;stroke-linejoin:miter;stroke-opacity:1\"/>\n",
       "</svg>"
      ],
      "text/plain": [
       "<IPython.core.display.SVG object>"
      ]
     },
     "metadata": {},
     "output_type": "display_data"
    },
    {
     "name": "stdout",
     "output_type": "stream",
     "text": [
      "-------------------------------------------------------------------------------------------------------------------------------------------------\n"
     ]
    },
    {
     "name": "stdin",
     "output_type": "stream",
     "text": [
      "Enter a number (1-4) to explore a path or type 'exit' to quit:  3\n"
     ]
    },
    {
     "name": "stdout",
     "output_type": "stream",
     "text": [
      "\n",
      "This is path 3 of 4\n",
      "--------------------\n",
      "Target Compound: C[C@@H](N)[C@H](O)c1ccccc1\n"
     ]
    },
    {
     "data": {
      "image/svg+xml": [
       "<svg xmlns=\"http://www.w3.org/2000/svg\" xmlns:rdkit=\"http://www.rdkit.org/xml\" xmlns:xlink=\"http://www.w3.org/1999/xlink\" version=\"1.1\" baseProfile=\"full\" xml:space=\"preserve\" width=\"400px\" height=\"400px\" viewBox=\"0 0 400 400\">\n",
       "<!-- END OF HEADER -->\n",
       "<rect style=\"opacity:1.0;fill:#FFFFFF;stroke:none\" width=\"400.0\" height=\"400.0\" x=\"0.0\" y=\"0.0\"> </rect>\n",
       "<path class=\"bond-0 atom-1 atom-0\" d=\"M 97.5,171.4 L 22.7,195.3 L 20.0,183.9 Z\" style=\"fill:#000000;fill-rule:evenodd;fill-opacity:1;stroke:#000000;stroke-width:0.5px;stroke-linecap:butt;stroke-linejoin:miter;stroke-opacity:1;\"/>\n",
       "<path class=\"bond-1 atom-1 atom-2\" d=\"M 97.5,171.4 L 106.6,140.6\" style=\"fill:none;fill-rule:evenodd;stroke:#000000;stroke-width:2.0px;stroke-linecap:butt;stroke-linejoin:miter;stroke-opacity:1\"/>\n",
       "<path class=\"bond-1 atom-1 atom-2\" d=\"M 106.6,140.6 L 115.7,109.9\" style=\"fill:none;fill-rule:evenodd;stroke:#0000FF;stroke-width:2.0px;stroke-linecap:butt;stroke-linejoin:miter;stroke-opacity:1\"/>\n",
       "<path class=\"bond-2 atom-1 atom-3\" d=\"M 97.5,171.4 L 151.5,228.2\" style=\"fill:none;fill-rule:evenodd;stroke:#000000;stroke-width:2.0px;stroke-linecap:butt;stroke-linejoin:miter;stroke-opacity:1\"/>\n",
       "<path class=\"bond-3 atom-3 atom-4\" d=\"M 151.5,228.2 L 145.6,258.4 L 140.0,256.7 Z\" style=\"fill:#000000;fill-rule:evenodd;fill-opacity:1;stroke:#000000;stroke-width:0.5px;stroke-linecap:butt;stroke-linejoin:miter;stroke-opacity:1;\"/>\n",
       "<path class=\"bond-3 atom-3 atom-4\" d=\"M 145.6,258.4 L 128.4,285.2 L 139.7,288.6 Z\" style=\"fill:#FF0000;fill-rule:evenodd;fill-opacity:1;stroke:#FF0000;stroke-width:0.5px;stroke-linecap:butt;stroke-linejoin:miter;stroke-opacity:1;\"/>\n",
       "<path class=\"bond-3 atom-3 atom-4\" d=\"M 145.6,258.4 L 140.0,256.7 L 128.4,285.2 Z\" style=\"fill:#FF0000;fill-rule:evenodd;fill-opacity:1;stroke:#FF0000;stroke-width:0.5px;stroke-linecap:butt;stroke-linejoin:miter;stroke-opacity:1;\"/>\n",
       "<path class=\"bond-4 atom-3 atom-5\" d=\"M 151.5,228.2 L 227.6,209.9\" style=\"fill:none;fill-rule:evenodd;stroke:#000000;stroke-width:2.0px;stroke-linecap:butt;stroke-linejoin:miter;stroke-opacity:1\"/>\n",
       "<path class=\"bond-5 atom-5 atom-6\" d=\"M 227.6,209.9 L 249.9,134.8\" style=\"fill:none;fill-rule:evenodd;stroke:#000000;stroke-width:2.0px;stroke-linecap:butt;stroke-linejoin:miter;stroke-opacity:1\"/>\n",
       "<path class=\"bond-5 atom-5 atom-6\" d=\"M 240.8,206.7 L 259.2,144.6\" style=\"fill:none;fill-rule:evenodd;stroke:#000000;stroke-width:2.0px;stroke-linecap:butt;stroke-linejoin:miter;stroke-opacity:1\"/>\n",
       "<path class=\"bond-6 atom-6 atom-7\" d=\"M 249.9,134.8 L 326.1,116.5\" style=\"fill:none;fill-rule:evenodd;stroke:#000000;stroke-width:2.0px;stroke-linecap:butt;stroke-linejoin:miter;stroke-opacity:1\"/>\n",
       "<path class=\"bond-7 atom-7 atom-8\" d=\"M 326.1,116.5 L 380.0,173.3\" style=\"fill:none;fill-rule:evenodd;stroke:#000000;stroke-width:2.0px;stroke-linecap:butt;stroke-linejoin:miter;stroke-opacity:1\"/>\n",
       "<path class=\"bond-7 atom-7 atom-8\" d=\"M 322.2,129.5 L 366.8,176.5\" style=\"fill:none;fill-rule:evenodd;stroke:#000000;stroke-width:2.0px;stroke-linecap:butt;stroke-linejoin:miter;stroke-opacity:1\"/>\n",
       "<path class=\"bond-8 atom-8 atom-9\" d=\"M 380.0,173.3 L 357.7,248.4\" style=\"fill:none;fill-rule:evenodd;stroke:#000000;stroke-width:2.0px;stroke-linecap:butt;stroke-linejoin:miter;stroke-opacity:1\"/>\n",
       "<path class=\"bond-9 atom-9 atom-10\" d=\"M 357.7,248.4 L 281.6,266.7\" style=\"fill:none;fill-rule:evenodd;stroke:#000000;stroke-width:2.0px;stroke-linecap:butt;stroke-linejoin:miter;stroke-opacity:1\"/>\n",
       "<path class=\"bond-9 atom-9 atom-10\" d=\"M 348.4,238.6 L 285.4,253.7\" style=\"fill:none;fill-rule:evenodd;stroke:#000000;stroke-width:2.0px;stroke-linecap:butt;stroke-linejoin:miter;stroke-opacity:1\"/>\n",
       "<path class=\"bond-10 atom-10 atom-5\" d=\"M 281.6,266.7 L 227.6,209.9\" style=\"fill:none;fill-rule:evenodd;stroke:#000000;stroke-width:2.0px;stroke-linecap:butt;stroke-linejoin:miter;stroke-opacity:1\"/>\n",
       "<path d=\"M 98.0,169.8 L 97.5,171.4 L 100.2,174.2\" style=\"fill:none;stroke:#000000;stroke-width:2.0px;stroke-linecap:butt;stroke-linejoin:miter;stroke-opacity:1;\"/>\n",
       "<path d=\"M 148.8,225.3 L 151.5,228.2 L 155.3,227.3\" style=\"fill:none;stroke:#000000;stroke-width:2.0px;stroke-linecap:butt;stroke-linejoin:miter;stroke-opacity:1;\"/>\n",
       "<path d=\"M 248.8,138.5 L 249.9,134.8 L 253.7,133.9\" style=\"fill:none;stroke:#000000;stroke-width:2.0px;stroke-linecap:butt;stroke-linejoin:miter;stroke-opacity:1;\"/>\n",
       "<path d=\"M 322.3,117.4 L 326.1,116.5 L 328.8,119.3\" style=\"fill:none;stroke:#000000;stroke-width:2.0px;stroke-linecap:butt;stroke-linejoin:miter;stroke-opacity:1;\"/>\n",
       "<path d=\"M 377.3,170.5 L 380.0,173.3 L 378.9,177.1\" style=\"fill:none;stroke:#000000;stroke-width:2.0px;stroke-linecap:butt;stroke-linejoin:miter;stroke-opacity:1;\"/>\n",
       "<path d=\"M 358.9,244.7 L 357.7,248.4 L 353.9,249.4\" style=\"fill:none;stroke:#000000;stroke-width:2.0px;stroke-linecap:butt;stroke-linejoin:miter;stroke-opacity:1;\"/>\n",
       "<path d=\"M 285.4,265.8 L 281.6,266.7 L 278.9,263.9\" style=\"fill:none;stroke:#000000;stroke-width:2.0px;stroke-linecap:butt;stroke-linejoin:miter;stroke-opacity:1;\"/>\n",
       "<path class=\"atom-2\" d=\"M 114.9 85.1 L 122.2 96.9 Q 122.9 98.1, 124.0 100.2 Q 125.2 102.3, 125.3 102.4 L 125.3 85.1 L 128.2 85.1 L 128.2 107.3 L 125.2 107.3 L 117.4 94.5 Q 116.5 93.0, 115.5 91.3 Q 114.6 89.5, 114.3 89.0 L 114.3 107.3 L 111.4 107.3 L 111.4 85.1 L 114.9 85.1 \" fill=\"#0000FF\"/>\n",
       "<path class=\"atom-2\" d=\"M 132.5 85.1 L 135.5 85.1 L 135.5 94.6 L 146.8 94.6 L 146.8 85.1 L 149.8 85.1 L 149.8 107.3 L 146.8 107.3 L 146.8 97.1 L 135.5 97.1 L 135.5 107.3 L 132.5 107.3 L 132.5 85.1 \" fill=\"#0000FF\"/>\n",
       "<path class=\"atom-2\" d=\"M 154.2 106.6 Q 154.7 105.2, 156.0 104.4 Q 157.3 103.6, 159.0 103.6 Q 161.2 103.6, 162.5 104.8 Q 163.7 106.0, 163.7 108.1 Q 163.7 110.3, 162.1 112.3 Q 160.5 114.4, 157.2 116.8 L 164.0 116.8 L 164.0 118.4 L 154.1 118.4 L 154.1 117.0 Q 156.8 115.1, 158.5 113.6 Q 160.1 112.2, 160.9 110.9 Q 161.7 109.6, 161.7 108.2 Q 161.7 106.8, 161.0 106.1 Q 160.3 105.3, 159.0 105.3 Q 157.9 105.3, 157.1 105.7 Q 156.3 106.2, 155.7 107.3 L 154.2 106.6 \" fill=\"#0000FF\"/>\n",
       "<path class=\"atom-4\" d=\"M 119.0 303.4 Q 119.0 298.0, 121.7 295.1 Q 124.3 292.1, 129.2 292.1 Q 134.1 292.1, 136.8 295.1 Q 139.4 298.0, 139.4 303.4 Q 139.4 308.7, 136.7 311.8 Q 134.1 314.9, 129.2 314.9 Q 124.3 314.9, 121.7 311.8 Q 119.0 308.8, 119.0 303.4 M 129.2 312.3 Q 132.6 312.3, 134.4 310.1 Q 136.3 307.8, 136.3 303.4 Q 136.3 299.0, 134.4 296.8 Q 132.6 294.6, 129.2 294.6 Q 125.8 294.6, 124.0 296.8 Q 122.2 299.0, 122.2 303.4 Q 122.2 307.8, 124.0 310.1 Q 125.8 312.3, 129.2 312.3 \" fill=\"#FF0000\"/>\n",
       "<path class=\"atom-4\" d=\"M 142.9 292.3 L 145.9 292.3 L 145.9 301.8 L 157.2 301.8 L 157.2 292.3 L 160.2 292.3 L 160.2 314.5 L 157.2 314.5 L 157.2 304.3 L 145.9 304.3 L 145.9 314.5 L 142.9 314.5 L 142.9 292.3 \" fill=\"#FF0000\"/>\n",
       "</svg>"
      ],
      "text/plain": [
       "<IPython.core.display.SVG object>"
      ]
     },
     "metadata": {},
     "output_type": "display_data"
    },
    {
     "name": "stdout",
     "output_type": "stream",
     "text": [
      "\n",
      "These are the buyable compounds needed for this pathway:\n",
      "Buyable Compound 1: CC=O\n"
     ]
    },
    {
     "data": {
      "image/svg+xml": [
       "<svg xmlns=\"http://www.w3.org/2000/svg\" xmlns:rdkit=\"http://www.rdkit.org/xml\" xmlns:xlink=\"http://www.w3.org/1999/xlink\" version=\"1.1\" baseProfile=\"full\" xml:space=\"preserve\" width=\"400px\" height=\"400px\" viewBox=\"0 0 400 400\">\n",
       "<!-- END OF HEADER -->\n",
       "<rect style=\"opacity:1.0;fill:#FFFFFF;stroke:none\" width=\"400.0\" height=\"400.0\" x=\"0.0\" y=\"0.0\"> </rect>\n",
       "<path class=\"bond-0 atom-0 atom-1\" d=\"M 26.3,235.5 L 197.2,136.9\" style=\"fill:none;fill-rule:evenodd;stroke:#000000;stroke-width:2.0px;stroke-linecap:butt;stroke-linejoin:miter;stroke-opacity:1\"/>\n",
       "<path class=\"bond-1 atom-1 atom-2\" d=\"M 197.2,136.9 L 272.9,180.6\" style=\"fill:none;fill-rule:evenodd;stroke:#000000;stroke-width:2.0px;stroke-linecap:butt;stroke-linejoin:miter;stroke-opacity:1\"/>\n",
       "<path class=\"bond-1 atom-1 atom-2\" d=\"M 272.9,180.6 L 348.6,224.3\" style=\"fill:none;fill-rule:evenodd;stroke:#FF0000;stroke-width:2.0px;stroke-linecap:butt;stroke-linejoin:miter;stroke-opacity:1\"/>\n",
       "<path class=\"bond-1 atom-1 atom-2\" d=\"M 197.2,171.1 L 258.1,206.2\" style=\"fill:none;fill-rule:evenodd;stroke:#000000;stroke-width:2.0px;stroke-linecap:butt;stroke-linejoin:miter;stroke-opacity:1\"/>\n",
       "<path class=\"bond-1 atom-1 atom-2\" d=\"M 258.1,206.2 L 333.8,249.9\" style=\"fill:none;fill-rule:evenodd;stroke:#FF0000;stroke-width:2.0px;stroke-linecap:butt;stroke-linejoin:miter;stroke-opacity:1\"/>\n",
       "<path d=\"M 188.7,141.8 L 197.2,136.9 L 201.0,139.1\" style=\"fill:none;stroke:#000000;stroke-width:2.0px;stroke-linecap:butt;stroke-linejoin:miter;stroke-opacity:1;\"/>\n",
       "<path class=\"atom-2\" d=\"M 347.7 248.4 Q 347.7 241.6, 351.0 237.8 Q 354.4 234.0, 360.7 234.0 Q 367.0 234.0, 370.3 237.8 Q 373.7 241.6, 373.7 248.4 Q 373.7 255.3, 370.3 259.2 Q 366.9 263.1, 360.7 263.1 Q 354.4 263.1, 351.0 259.2 Q 347.7 255.4, 347.7 248.4 M 360.7 259.9 Q 365.0 259.9, 367.3 257.0 Q 369.7 254.1, 369.7 248.4 Q 369.7 242.9, 367.3 240.1 Q 365.0 237.2, 360.7 237.2 Q 356.4 237.2, 354.0 240.0 Q 351.7 242.8, 351.7 248.4 Q 351.7 254.2, 354.0 257.0 Q 356.4 259.9, 360.7 259.9 \" fill=\"#FF0000\"/>\n",
       "</svg>"
      ],
      "text/plain": [
       "<IPython.core.display.SVG object>"
      ]
     },
     "metadata": {},
     "output_type": "display_data"
    },
    {
     "name": "stdout",
     "output_type": "stream",
     "text": [
      "Buyable Compound 2: O=Cc1ccccc1\n"
     ]
    },
    {
     "data": {
      "image/svg+xml": [
       "<svg xmlns=\"http://www.w3.org/2000/svg\" xmlns:rdkit=\"http://www.rdkit.org/xml\" xmlns:xlink=\"http://www.w3.org/1999/xlink\" version=\"1.1\" baseProfile=\"full\" xml:space=\"preserve\" width=\"400px\" height=\"400px\" viewBox=\"0 0 400 400\">\n",
       "<!-- END OF HEADER -->\n",
       "<rect style=\"opacity:1.0;fill:#FFFFFF;stroke:none\" width=\"400.0\" height=\"400.0\" x=\"0.0\" y=\"0.0\"> </rect>\n",
       "<path class=\"bond-0 atom-0 atom-1\" d=\"M 43.3,188.4 L 68.5,215.7\" style=\"fill:none;fill-rule:evenodd;stroke:#FF0000;stroke-width:2.0px;stroke-linecap:butt;stroke-linejoin:miter;stroke-opacity:1\"/>\n",
       "<path class=\"bond-0 atom-0 atom-1\" d=\"M 68.5,215.7 L 93.7,243.0\" style=\"fill:none;fill-rule:evenodd;stroke:#000000;stroke-width:2.0px;stroke-linecap:butt;stroke-linejoin:miter;stroke-opacity:1\"/>\n",
       "<path class=\"bond-0 atom-0 atom-1\" d=\"M 54.1,178.5 L 79.3,205.8\" style=\"fill:none;fill-rule:evenodd;stroke:#FF0000;stroke-width:2.0px;stroke-linecap:butt;stroke-linejoin:miter;stroke-opacity:1\"/>\n",
       "<path class=\"bond-0 atom-0 atom-1\" d=\"M 79.3,205.8 L 98.7,226.9\" style=\"fill:none;fill-rule:evenodd;stroke:#000000;stroke-width:2.0px;stroke-linecap:butt;stroke-linejoin:miter;stroke-opacity:1\"/>\n",
       "<path class=\"bond-1 atom-1 atom-2\" d=\"M 93.7,243.0 L 189.1,221.5\" style=\"fill:none;fill-rule:evenodd;stroke:#000000;stroke-width:2.0px;stroke-linecap:butt;stroke-linejoin:miter;stroke-opacity:1\"/>\n",
       "<path class=\"bond-2 atom-2 atom-3\" d=\"M 189.1,221.5 L 218.2,128.1\" style=\"fill:none;fill-rule:evenodd;stroke:#000000;stroke-width:2.0px;stroke-linecap:butt;stroke-linejoin:miter;stroke-opacity:1\"/>\n",
       "<path class=\"bond-2 atom-2 atom-3\" d=\"M 205.7,217.8 L 229.7,140.6\" style=\"fill:none;fill-rule:evenodd;stroke:#000000;stroke-width:2.0px;stroke-linecap:butt;stroke-linejoin:miter;stroke-opacity:1\"/>\n",
       "<path class=\"bond-3 atom-3 atom-4\" d=\"M 218.2,128.1 L 313.6,106.6\" style=\"fill:none;fill-rule:evenodd;stroke:#000000;stroke-width:2.0px;stroke-linecap:butt;stroke-linejoin:miter;stroke-opacity:1\"/>\n",
       "<path class=\"bond-4 atom-4 atom-5\" d=\"M 313.6,106.6 L 380.0,178.5\" style=\"fill:none;fill-rule:evenodd;stroke:#000000;stroke-width:2.0px;stroke-linecap:butt;stroke-linejoin:miter;stroke-opacity:1\"/>\n",
       "<path class=\"bond-4 atom-4 atom-5\" d=\"M 308.6,122.8 L 363.5,182.2\" style=\"fill:none;fill-rule:evenodd;stroke:#000000;stroke-width:2.0px;stroke-linecap:butt;stroke-linejoin:miter;stroke-opacity:1\"/>\n",
       "<path class=\"bond-5 atom-5 atom-6\" d=\"M 380.0,178.5 L 350.9,271.9\" style=\"fill:none;fill-rule:evenodd;stroke:#000000;stroke-width:2.0px;stroke-linecap:butt;stroke-linejoin:miter;stroke-opacity:1\"/>\n",
       "<path class=\"bond-6 atom-6 atom-7\" d=\"M 350.9,271.9 L 255.5,293.4\" style=\"fill:none;fill-rule:evenodd;stroke:#000000;stroke-width:2.0px;stroke-linecap:butt;stroke-linejoin:miter;stroke-opacity:1\"/>\n",
       "<path class=\"bond-6 atom-6 atom-7\" d=\"M 339.4,259.4 L 260.5,277.2\" style=\"fill:none;fill-rule:evenodd;stroke:#000000;stroke-width:2.0px;stroke-linecap:butt;stroke-linejoin:miter;stroke-opacity:1\"/>\n",
       "<path class=\"bond-7 atom-7 atom-2\" d=\"M 255.5,293.4 L 189.1,221.5\" style=\"fill:none;fill-rule:evenodd;stroke:#000000;stroke-width:2.0px;stroke-linecap:butt;stroke-linejoin:miter;stroke-opacity:1\"/>\n",
       "<path d=\"M 92.4,241.7 L 93.7,243.0 L 98.5,242.0\" style=\"fill:none;stroke:#000000;stroke-width:2.0px;stroke-linecap:butt;stroke-linejoin:miter;stroke-opacity:1;\"/>\n",
       "<path d=\"M 216.7,132.8 L 218.2,128.1 L 223.0,127.0\" style=\"fill:none;stroke:#000000;stroke-width:2.0px;stroke-linecap:butt;stroke-linejoin:miter;stroke-opacity:1;\"/>\n",
       "<path d=\"M 308.9,107.7 L 313.6,106.6 L 317.0,110.2\" style=\"fill:none;stroke:#000000;stroke-width:2.0px;stroke-linecap:butt;stroke-linejoin:miter;stroke-opacity:1;\"/>\n",
       "<path d=\"M 376.7,174.9 L 380.0,178.5 L 378.5,183.1\" style=\"fill:none;stroke:#000000;stroke-width:2.0px;stroke-linecap:butt;stroke-linejoin:miter;stroke-opacity:1;\"/>\n",
       "<path d=\"M 352.4,267.2 L 350.9,271.9 L 346.1,273.0\" style=\"fill:none;stroke:#000000;stroke-width:2.0px;stroke-linecap:butt;stroke-linejoin:miter;stroke-opacity:1;\"/>\n",
       "<path d=\"M 260.3,292.3 L 255.5,293.4 L 252.2,289.8\" style=\"fill:none;stroke:#000000;stroke-width:2.0px;stroke-linecap:butt;stroke-linejoin:miter;stroke-opacity:1;\"/>\n",
       "<path class=\"atom-0\" d=\"M 20.0 166.3 Q 20.0 159.6, 23.3 155.9 Q 26.6 152.2, 32.7 152.2 Q 38.9 152.2, 42.1 155.9 Q 45.4 159.6, 45.4 166.3 Q 45.4 173.0, 42.1 176.8 Q 38.8 180.6, 32.7 180.6 Q 26.6 180.6, 23.3 176.8 Q 20.0 173.0, 20.0 166.3 M 32.7 177.5 Q 36.9 177.5, 39.2 174.7 Q 41.5 171.8, 41.5 166.3 Q 41.5 160.8, 39.2 158.1 Q 36.9 155.3, 32.7 155.3 Q 28.5 155.3, 26.2 158.0 Q 23.9 160.8, 23.9 166.3 Q 23.9 171.8, 26.2 174.7 Q 28.5 177.5, 32.7 177.5 \" fill=\"#FF0000\"/>\n",
       "</svg>"
      ],
      "text/plain": [
       "<IPython.core.display.SVG object>"
      ]
     },
     "metadata": {},
     "output_type": "display_data"
    },
    {
     "name": "stdout",
     "output_type": "stream",
     "text": [
      "\n",
      "Reaction 1: Thiamine-dependent lyase (Ar Acceptor)\n",
      "Reaction SMILES: CC=O.O=Cc1ccccc1>>CC(=O)[C@H](O)c1ccccc1\n"
     ]
    },
    {
     "data": {
      "image/svg+xml": [
       "<svg xmlns=\"http://www.w3.org/2000/svg\" xmlns:rdkit=\"http://www.rdkit.org/xml\" xmlns:xlink=\"http://www.w3.org/1999/xlink\" version=\"1.1\" baseProfile=\"full\" xml:space=\"preserve\" width=\"800px\" height=\"200px\" viewBox=\"0 0 800 200\">\n",
       "<!-- END OF HEADER -->\n",
       "<rect style=\"opacity:1.0;fill:#FFFFFF;stroke:none\" width=\"800.0\" height=\"200.0\" x=\"0.0\" y=\"0.0\"> </rect>\n",
       "<path class=\"bond-0 atom-0 atom-1\" d=\"M 79.2,107.1 L 121.7,82.5\" style=\"fill:none;fill-rule:evenodd;stroke:#000000;stroke-width:2.0px;stroke-linecap:butt;stroke-linejoin:miter;stroke-opacity:1\"/>\n",
       "<path class=\"bond-1 atom-1 atom-2\" d=\"M 121.7,82.5 L 139.0,92.5\" style=\"fill:none;fill-rule:evenodd;stroke:#000000;stroke-width:2.0px;stroke-linecap:butt;stroke-linejoin:miter;stroke-opacity:1\"/>\n",
       "<path class=\"bond-1 atom-1 atom-2\" d=\"M 139.0,92.5 L 156.2,102.4\" style=\"fill:none;fill-rule:evenodd;stroke:#FF0000;stroke-width:2.0px;stroke-linecap:butt;stroke-linejoin:miter;stroke-opacity:1\"/>\n",
       "<path class=\"bond-1 atom-1 atom-2\" d=\"M 121.7,91.0 L 135.3,98.8\" style=\"fill:none;fill-rule:evenodd;stroke:#000000;stroke-width:2.0px;stroke-linecap:butt;stroke-linejoin:miter;stroke-opacity:1\"/>\n",
       "<path class=\"bond-1 atom-1 atom-2\" d=\"M 135.3,98.8 L 152.6,108.8\" style=\"fill:none;fill-rule:evenodd;stroke:#FF0000;stroke-width:2.0px;stroke-linecap:butt;stroke-linejoin:miter;stroke-opacity:1\"/>\n",
       "<path d=\"M 119.6,83.7 L 121.7,82.5 L 122.6,83.0\" style=\"fill:none;stroke:#000000;stroke-width:2.0px;stroke-linecap:butt;stroke-linejoin:miter;stroke-opacity:1;\"/>\n",
       "<path class=\"atom-2\" d=\"M 156.0 110.3 Q 156.0 106.9, 157.7 105.1 Q 159.3 103.2, 162.4 103.2 Q 165.5 103.2, 167.1 105.1 Q 168.8 106.9, 168.8 110.3 Q 168.8 113.7, 167.1 115.6 Q 165.5 117.5, 162.4 117.5 Q 159.3 117.5, 157.7 115.6 Q 156.0 113.7, 156.0 110.3 M 162.4 115.9 Q 164.5 115.9, 165.7 114.5 Q 166.8 113.1, 166.8 110.3 Q 166.8 107.6, 165.7 106.2 Q 164.5 104.8, 162.4 104.8 Q 160.3 104.8, 159.1 106.2 Q 158.0 107.5, 158.0 110.3 Q 158.0 113.1, 159.1 114.5 Q 160.3 115.9, 162.4 115.9 \" fill=\"#FF0000\"/>\n",
       "<path d=\"M 187.5,90.0 L 187.5,110.0\" style=\"fill:none;fill-rule:evenodd;stroke:#000000;stroke-width:2.0px;stroke-linecap:butt;stroke-linejoin:miter;stroke-opacity:1\"/>\n",
       "<path d=\"M 177.5,100.0 L 197.5,100.0\" style=\"fill:none;fill-rule:evenodd;stroke:#000000;stroke-width:2.0px;stroke-linecap:butt;stroke-linejoin:miter;stroke-opacity:1\"/>\n",
       "<path class=\"bond-2 atom-3 atom-4\" d=\"M 217.8,94.2 L 230.5,107.9\" style=\"fill:none;fill-rule:evenodd;stroke:#FF0000;stroke-width:2.0px;stroke-linecap:butt;stroke-linejoin:miter;stroke-opacity:1\"/>\n",
       "<path class=\"bond-2 atom-3 atom-4\" d=\"M 230.5,107.9 L 243.1,121.6\" style=\"fill:none;fill-rule:evenodd;stroke:#000000;stroke-width:2.0px;stroke-linecap:butt;stroke-linejoin:miter;stroke-opacity:1\"/>\n",
       "<path class=\"bond-2 atom-3 atom-4\" d=\"M 223.3,89.2 L 235.9,102.9\" style=\"fill:none;fill-rule:evenodd;stroke:#FF0000;stroke-width:2.0px;stroke-linecap:butt;stroke-linejoin:miter;stroke-opacity:1\"/>\n",
       "<path class=\"bond-2 atom-3 atom-4\" d=\"M 235.9,102.9 L 245.7,113.5\" style=\"fill:none;fill-rule:evenodd;stroke:#000000;stroke-width:2.0px;stroke-linecap:butt;stroke-linejoin:miter;stroke-opacity:1\"/>\n",
       "<path class=\"bond-3 atom-4 atom-5\" d=\"M 243.1,121.6 L 291.0,110.8\" style=\"fill:none;fill-rule:evenodd;stroke:#000000;stroke-width:2.0px;stroke-linecap:butt;stroke-linejoin:miter;stroke-opacity:1\"/>\n",
       "<path class=\"bond-4 atom-5 atom-6\" d=\"M 291.0,110.8 L 305.6,63.9\" style=\"fill:none;fill-rule:evenodd;stroke:#000000;stroke-width:2.0px;stroke-linecap:butt;stroke-linejoin:miter;stroke-opacity:1\"/>\n",
       "<path class=\"bond-4 atom-5 atom-6\" d=\"M 299.3,108.9 L 311.4,70.2\" style=\"fill:none;fill-rule:evenodd;stroke:#000000;stroke-width:2.0px;stroke-linecap:butt;stroke-linejoin:miter;stroke-opacity:1\"/>\n",
       "<path class=\"bond-5 atom-6 atom-7\" d=\"M 305.6,63.9 L 353.5,53.1\" style=\"fill:none;fill-rule:evenodd;stroke:#000000;stroke-width:2.0px;stroke-linecap:butt;stroke-linejoin:miter;stroke-opacity:1\"/>\n",
       "<path class=\"bond-6 atom-7 atom-8\" d=\"M 353.5,53.1 L 386.8,89.2\" style=\"fill:none;fill-rule:evenodd;stroke:#000000;stroke-width:2.0px;stroke-linecap:butt;stroke-linejoin:miter;stroke-opacity:1\"/>\n",
       "<path class=\"bond-6 atom-7 atom-8\" d=\"M 351.0,61.2 L 378.5,91.1\" style=\"fill:none;fill-rule:evenodd;stroke:#000000;stroke-width:2.0px;stroke-linecap:butt;stroke-linejoin:miter;stroke-opacity:1\"/>\n",
       "<path class=\"bond-7 atom-8 atom-9\" d=\"M 386.8,89.2 L 372.2,136.1\" style=\"fill:none;fill-rule:evenodd;stroke:#000000;stroke-width:2.0px;stroke-linecap:butt;stroke-linejoin:miter;stroke-opacity:1\"/>\n",
       "<path class=\"bond-8 atom-9 atom-10\" d=\"M 372.2,136.1 L 324.3,146.9\" style=\"fill:none;fill-rule:evenodd;stroke:#000000;stroke-width:2.0px;stroke-linecap:butt;stroke-linejoin:miter;stroke-opacity:1\"/>\n",
       "<path class=\"bond-8 atom-9 atom-10\" d=\"M 366.5,129.8 L 326.9,138.8\" style=\"fill:none;fill-rule:evenodd;stroke:#000000;stroke-width:2.0px;stroke-linecap:butt;stroke-linejoin:miter;stroke-opacity:1\"/>\n",
       "<path class=\"bond-9 atom-10 atom-5\" d=\"M 324.3,146.9 L 291.0,110.8\" style=\"fill:none;fill-rule:evenodd;stroke:#000000;stroke-width:2.0px;stroke-linecap:butt;stroke-linejoin:miter;stroke-opacity:1\"/>\n",
       "<path d=\"M 242.5,120.9 L 243.1,121.6 L 245.5,121.1\" style=\"fill:none;stroke:#000000;stroke-width:2.0px;stroke-linecap:butt;stroke-linejoin:miter;stroke-opacity:1;\"/>\n",
       "<path d=\"M 304.9,66.3 L 305.6,63.9 L 308.0,63.4\" style=\"fill:none;stroke:#000000;stroke-width:2.0px;stroke-linecap:butt;stroke-linejoin:miter;stroke-opacity:1;\"/>\n",
       "<path d=\"M 351.1,53.7 L 353.5,53.1 L 355.2,54.9\" style=\"fill:none;stroke:#000000;stroke-width:2.0px;stroke-linecap:butt;stroke-linejoin:miter;stroke-opacity:1;\"/>\n",
       "<path d=\"M 385.2,87.4 L 386.8,89.2 L 386.1,91.5\" style=\"fill:none;stroke:#000000;stroke-width:2.0px;stroke-linecap:butt;stroke-linejoin:miter;stroke-opacity:1;\"/>\n",
       "<path d=\"M 373.0,133.7 L 372.2,136.1 L 369.8,136.6\" style=\"fill:none;stroke:#000000;stroke-width:2.0px;stroke-linecap:butt;stroke-linejoin:miter;stroke-opacity:1;\"/>\n",
       "<path d=\"M 326.7,146.3 L 324.3,146.9 L 322.7,145.1\" style=\"fill:none;stroke:#000000;stroke-width:2.0px;stroke-linecap:butt;stroke-linejoin:miter;stroke-opacity:1;\"/>\n",
       "<path class=\"atom-0\" d=\"M 206.2 83.1 Q 206.2 79.7, 207.8 77.9 Q 209.5 76.0, 212.5 76.0 Q 215.6 76.0, 217.3 77.9 Q 218.9 79.7, 218.9 83.1 Q 218.9 86.4, 217.3 88.4 Q 215.6 90.3, 212.5 90.3 Q 209.5 90.3, 207.8 88.4 Q 206.2 86.5, 206.2 83.1 M 212.5 88.7 Q 214.7 88.7, 215.8 87.3 Q 217.0 85.9, 217.0 83.1 Q 217.0 80.3, 215.8 79.0 Q 214.7 77.6, 212.5 77.6 Q 210.4 77.6, 209.3 78.9 Q 208.1 80.3, 208.1 83.1 Q 208.1 85.9, 209.3 87.3 Q 210.4 88.7, 212.5 88.7 \" fill=\"#FF0000\"/>\n",
       "<path class=\"bond-10 atom-11 atom-12\" d=\"M 497.1,93.5 L 544.9,82.1\" style=\"fill:none;fill-rule:evenodd;stroke:#000000;stroke-width:2.0px;stroke-linecap:butt;stroke-linejoin:miter;stroke-opacity:1\"/>\n",
       "<path class=\"bond-11 atom-12 atom-13\" d=\"M 547.8,85.2 L 553.7,65.0\" style=\"fill:none;fill-rule:evenodd;stroke:#000000;stroke-width:2.0px;stroke-linecap:butt;stroke-linejoin:miter;stroke-opacity:1\"/>\n",
       "<path class=\"bond-11 atom-12 atom-13\" d=\"M 553.7,65.0 L 559.7,44.9\" style=\"fill:none;fill-rule:evenodd;stroke:#FF0000;stroke-width:2.0px;stroke-linecap:butt;stroke-linejoin:miter;stroke-opacity:1\"/>\n",
       "<path class=\"bond-11 atom-12 atom-13\" d=\"M 540.7,83.1 L 546.7,63.0\" style=\"fill:none;fill-rule:evenodd;stroke:#000000;stroke-width:2.0px;stroke-linecap:butt;stroke-linejoin:miter;stroke-opacity:1\"/>\n",
       "<path class=\"bond-11 atom-12 atom-13\" d=\"M 546.7,63.0 L 552.6,42.8\" style=\"fill:none;fill-rule:evenodd;stroke:#FF0000;stroke-width:2.0px;stroke-linecap:butt;stroke-linejoin:miter;stroke-opacity:1\"/>\n",
       "<path class=\"bond-12 atom-12 atom-14\" d=\"M 544.9,82.1 L 578.7,117.7\" style=\"fill:none;fill-rule:evenodd;stroke:#000000;stroke-width:2.0px;stroke-linecap:butt;stroke-linejoin:miter;stroke-opacity:1\"/>\n",
       "<path class=\"bond-13 atom-14 atom-15\" d=\"M 578.7,117.7 L 575.0,136.6 L 571.4,135.6 Z\" style=\"fill:#000000;fill-rule:evenodd;fill-opacity:1;stroke:#000000;stroke-width:0.5px;stroke-linecap:butt;stroke-linejoin:miter;stroke-opacity:1;\"/>\n",
       "<path class=\"bond-13 atom-14 atom-15\" d=\"M 575.0,136.6 L 564.2,153.5 L 571.3,155.6 Z\" style=\"fill:#FF0000;fill-rule:evenodd;fill-opacity:1;stroke:#FF0000;stroke-width:0.5px;stroke-linecap:butt;stroke-linejoin:miter;stroke-opacity:1;\"/>\n",
       "<path class=\"bond-13 atom-14 atom-15\" d=\"M 575.0,136.6 L 571.4,135.6 L 564.2,153.5 Z\" style=\"fill:#FF0000;fill-rule:evenodd;fill-opacity:1;stroke:#FF0000;stroke-width:0.5px;stroke-linecap:butt;stroke-linejoin:miter;stroke-opacity:1;\"/>\n",
       "<path class=\"bond-14 atom-14 atom-16\" d=\"M 578.7,117.7 L 626.4,106.2\" style=\"fill:none;fill-rule:evenodd;stroke:#000000;stroke-width:2.0px;stroke-linecap:butt;stroke-linejoin:miter;stroke-opacity:1\"/>\n",
       "<path class=\"bond-15 atom-16 atom-17\" d=\"M 626.4,106.2 L 640.3,59.2\" style=\"fill:none;fill-rule:evenodd;stroke:#000000;stroke-width:2.0px;stroke-linecap:butt;stroke-linejoin:miter;stroke-opacity:1\"/>\n",
       "<path class=\"bond-15 atom-16 atom-17\" d=\"M 634.7,104.3 L 646.2,65.3\" style=\"fill:none;fill-rule:evenodd;stroke:#000000;stroke-width:2.0px;stroke-linecap:butt;stroke-linejoin:miter;stroke-opacity:1\"/>\n",
       "<path class=\"bond-16 atom-17 atom-18\" d=\"M 640.3,59.2 L 688.1,47.7\" style=\"fill:none;fill-rule:evenodd;stroke:#000000;stroke-width:2.0px;stroke-linecap:butt;stroke-linejoin:miter;stroke-opacity:1\"/>\n",
       "<path class=\"bond-17 atom-18 atom-19\" d=\"M 688.1,47.7 L 721.9,83.3\" style=\"fill:none;fill-rule:evenodd;stroke:#000000;stroke-width:2.0px;stroke-linecap:butt;stroke-linejoin:miter;stroke-opacity:1\"/>\n",
       "<path class=\"bond-17 atom-18 atom-19\" d=\"M 685.7,55.9 L 713.6,85.3\" style=\"fill:none;fill-rule:evenodd;stroke:#000000;stroke-width:2.0px;stroke-linecap:butt;stroke-linejoin:miter;stroke-opacity:1\"/>\n",
       "<path class=\"bond-18 atom-19 atom-20\" d=\"M 721.9,83.3 L 707.9,130.4\" style=\"fill:none;fill-rule:evenodd;stroke:#000000;stroke-width:2.0px;stroke-linecap:butt;stroke-linejoin:miter;stroke-opacity:1\"/>\n",
       "<path class=\"bond-19 atom-20 atom-21\" d=\"M 707.9,130.4 L 660.2,141.9\" style=\"fill:none;fill-rule:evenodd;stroke:#000000;stroke-width:2.0px;stroke-linecap:butt;stroke-linejoin:miter;stroke-opacity:1\"/>\n",
       "<path class=\"bond-19 atom-20 atom-21\" d=\"M 702.1,124.2 L 662.6,133.7\" style=\"fill:none;fill-rule:evenodd;stroke:#000000;stroke-width:2.0px;stroke-linecap:butt;stroke-linejoin:miter;stroke-opacity:1\"/>\n",
       "<path class=\"bond-20 atom-21 atom-16\" d=\"M 660.2,141.9 L 626.4,106.2\" style=\"fill:none;fill-rule:evenodd;stroke:#000000;stroke-width:2.0px;stroke-linecap:butt;stroke-linejoin:miter;stroke-opacity:1\"/>\n",
       "<path d=\"M 542.5,82.7 L 544.9,82.1 L 546.5,83.9\" style=\"fill:none;stroke:#000000;stroke-width:2.0px;stroke-linecap:butt;stroke-linejoin:miter;stroke-opacity:1;\"/>\n",
       "<path d=\"M 577.0,115.9 L 578.7,117.7 L 581.0,117.1\" style=\"fill:none;stroke:#000000;stroke-width:2.0px;stroke-linecap:butt;stroke-linejoin:miter;stroke-opacity:1;\"/>\n",
       "<path d=\"M 639.6,61.5 L 640.3,59.2 L 642.7,58.6\" style=\"fill:none;stroke:#000000;stroke-width:2.0px;stroke-linecap:butt;stroke-linejoin:miter;stroke-opacity:1;\"/>\n",
       "<path d=\"M 685.7,48.3 L 688.1,47.7 L 689.8,49.5\" style=\"fill:none;stroke:#000000;stroke-width:2.0px;stroke-linecap:butt;stroke-linejoin:miter;stroke-opacity:1;\"/>\n",
       "<path d=\"M 720.2,81.5 L 721.9,83.3 L 721.2,85.7\" style=\"fill:none;stroke:#000000;stroke-width:2.0px;stroke-linecap:butt;stroke-linejoin:miter;stroke-opacity:1;\"/>\n",
       "<path d=\"M 708.6,128.0 L 707.9,130.4 L 705.6,131.0\" style=\"fill:none;stroke:#000000;stroke-width:2.0px;stroke-linecap:butt;stroke-linejoin:miter;stroke-opacity:1;\"/>\n",
       "<path d=\"M 662.6,141.3 L 660.2,141.9 L 658.5,140.1\" style=\"fill:none;stroke:#000000;stroke-width:2.0px;stroke-linecap:butt;stroke-linejoin:miter;stroke-opacity:1;\"/>\n",
       "<path class=\"atom-2\" d=\"M 552.4 35.0 Q 552.4 31.7, 554.1 29.8 Q 555.7 28.0, 558.8 28.0 Q 561.9 28.0, 563.5 29.8 Q 565.2 31.7, 565.2 35.0 Q 565.2 38.4, 563.5 40.3 Q 561.8 42.3, 558.8 42.3 Q 555.7 42.3, 554.1 40.3 Q 552.4 38.4, 552.4 35.0 M 558.8 40.7 Q 560.9 40.7, 562.1 39.3 Q 563.2 37.8, 563.2 35.0 Q 563.2 32.3, 562.1 30.9 Q 560.9 29.5, 558.8 29.5 Q 556.7 29.5, 555.5 30.9 Q 554.4 32.3, 554.4 35.0 Q 554.4 37.9, 555.5 39.3 Q 556.7 40.7, 558.8 40.7 \" fill=\"#FF0000\"/>\n",
       "<path class=\"atom-4\" d=\"M 558.3 164.8 Q 558.3 161.5, 560.0 159.6 Q 561.6 157.7, 564.7 157.7 Q 567.8 157.7, 569.4 159.6 Q 571.1 161.5, 571.1 164.8 Q 571.1 168.2, 569.4 170.1 Q 567.8 172.0, 564.7 172.0 Q 561.6 172.0, 560.0 170.1 Q 558.3 168.2, 558.3 164.8 M 564.7 170.5 Q 566.8 170.5, 568.0 169.0 Q 569.1 167.6, 569.1 164.8 Q 569.1 162.1, 568.0 160.7 Q 566.8 159.3, 564.7 159.3 Q 562.6 159.3, 561.4 160.7 Q 560.3 162.1, 560.3 164.8 Q 560.3 167.6, 561.4 169.0 Q 562.6 170.5, 564.7 170.5 \" fill=\"#FF0000\"/>\n",
       "<path class=\"atom-4\" d=\"M 573.3 157.9 L 575.1 157.9 L 575.1 163.8 L 582.2 163.8 L 582.2 157.9 L 584.1 157.9 L 584.1 171.8 L 582.2 171.8 L 582.2 165.4 L 575.1 165.4 L 575.1 171.8 L 573.3 171.8 L 573.3 157.9 \" fill=\"#FF0000\"/>\n",
       "<path d=\"M 405.0,100.0 L 479.0,100.0\" style=\"fill:none;fill-rule:evenodd;stroke:#000000;stroke-width:2.0px;stroke-linecap:butt;stroke-linejoin:miter;stroke-opacity:1\"/>\n",
       "<path d=\"M 479.0,100.0 L 474.0,102.9\" style=\"fill:none;fill-rule:evenodd;stroke:#000000;stroke-width:2.0px;stroke-linecap:butt;stroke-linejoin:miter;stroke-opacity:1\"/>\n",
       "<path d=\"M 479.0,100.0 L 474.0,97.1\" style=\"fill:none;fill-rule:evenodd;stroke:#000000;stroke-width:2.0px;stroke-linecap:butt;stroke-linejoin:miter;stroke-opacity:1\"/>\n",
       "</svg>"
      ],
      "text/plain": [
       "<IPython.core.display.SVG object>"
      ]
     },
     "metadata": {},
     "output_type": "display_data"
    },
    {
     "name": "stdout",
     "output_type": "stream",
     "text": [
      "\n",
      "Reaction 2: Ketone amination\n",
      "Reaction SMILES: CC(=O)[C@H](O)c1ccccc1>>C[C@@H](N)[C@H](O)c1ccccc1\n"
     ]
    },
    {
     "data": {
      "image/svg+xml": [
       "<svg xmlns=\"http://www.w3.org/2000/svg\" xmlns:rdkit=\"http://www.rdkit.org/xml\" xmlns:xlink=\"http://www.w3.org/1999/xlink\" version=\"1.1\" baseProfile=\"full\" xml:space=\"preserve\" width=\"800px\" height=\"200px\" viewBox=\"0 0 800 200\">\n",
       "<!-- END OF HEADER -->\n",
       "<rect style=\"opacity:1.0;fill:#FFFFFF;stroke:none\" width=\"800.0\" height=\"200.0\" x=\"0.0\" y=\"0.0\"> </rect>\n",
       "<path class=\"bond-0 atom-0 atom-1\" d=\"M 68.3,92.3 L 125.1,78.7\" style=\"fill:none;fill-rule:evenodd;stroke:#000000;stroke-width:2.0px;stroke-linecap:butt;stroke-linejoin:miter;stroke-opacity:1\"/>\n",
       "<path class=\"bond-1 atom-1 atom-2\" d=\"M 128.6,82.4 L 135.7,58.4\" style=\"fill:none;fill-rule:evenodd;stroke:#000000;stroke-width:2.0px;stroke-linecap:butt;stroke-linejoin:miter;stroke-opacity:1\"/>\n",
       "<path class=\"bond-1 atom-1 atom-2\" d=\"M 135.7,58.4 L 142.8,34.5\" style=\"fill:none;fill-rule:evenodd;stroke:#FF0000;stroke-width:2.0px;stroke-linecap:butt;stroke-linejoin:miter;stroke-opacity:1\"/>\n",
       "<path class=\"bond-1 atom-1 atom-2\" d=\"M 120.2,79.9 L 127.3,55.9\" style=\"fill:none;fill-rule:evenodd;stroke:#000000;stroke-width:2.0px;stroke-linecap:butt;stroke-linejoin:miter;stroke-opacity:1\"/>\n",
       "<path class=\"bond-1 atom-1 atom-2\" d=\"M 127.3,55.9 L 134.4,32.0\" style=\"fill:none;fill-rule:evenodd;stroke:#FF0000;stroke-width:2.0px;stroke-linecap:butt;stroke-linejoin:miter;stroke-opacity:1\"/>\n",
       "<path class=\"bond-2 atom-1 atom-3\" d=\"M 125.1,78.7 L 165.3,121.1\" style=\"fill:none;fill-rule:evenodd;stroke:#000000;stroke-width:2.0px;stroke-linecap:butt;stroke-linejoin:miter;stroke-opacity:1\"/>\n",
       "<path class=\"bond-3 atom-3 atom-4\" d=\"M 165.3,121.1 L 160.9,143.6 L 156.7,142.3 Z\" style=\"fill:#000000;fill-rule:evenodd;fill-opacity:1;stroke:#000000;stroke-width:0.5px;stroke-linecap:butt;stroke-linejoin:miter;stroke-opacity:1;\"/>\n",
       "<path class=\"bond-3 atom-3 atom-4\" d=\"M 160.9,143.6 L 148.1,163.6 L 156.5,166.1 Z\" style=\"fill:#FF0000;fill-rule:evenodd;fill-opacity:1;stroke:#FF0000;stroke-width:0.5px;stroke-linecap:butt;stroke-linejoin:miter;stroke-opacity:1;\"/>\n",
       "<path class=\"bond-3 atom-3 atom-4\" d=\"M 160.9,143.6 L 156.7,142.3 L 148.1,163.6 Z\" style=\"fill:#FF0000;fill-rule:evenodd;fill-opacity:1;stroke:#FF0000;stroke-width:0.5px;stroke-linecap:butt;stroke-linejoin:miter;stroke-opacity:1;\"/>\n",
       "<path class=\"bond-4 atom-3 atom-5\" d=\"M 165.3,121.1 L 222.1,107.4\" style=\"fill:none;fill-rule:evenodd;stroke:#000000;stroke-width:2.0px;stroke-linecap:butt;stroke-linejoin:miter;stroke-opacity:1\"/>\n",
       "<path class=\"bond-5 atom-5 atom-6\" d=\"M 222.1,107.4 L 238.7,51.4\" style=\"fill:none;fill-rule:evenodd;stroke:#000000;stroke-width:2.0px;stroke-linecap:butt;stroke-linejoin:miter;stroke-opacity:1\"/>\n",
       "<path class=\"bond-5 atom-5 atom-6\" d=\"M 231.9,105.1 L 245.6,58.8\" style=\"fill:none;fill-rule:evenodd;stroke:#000000;stroke-width:2.0px;stroke-linecap:butt;stroke-linejoin:miter;stroke-opacity:1\"/>\n",
       "<path class=\"bond-6 atom-6 atom-7\" d=\"M 238.7,51.4 L 295.5,37.8\" style=\"fill:none;fill-rule:evenodd;stroke:#000000;stroke-width:2.0px;stroke-linecap:butt;stroke-linejoin:miter;stroke-opacity:1\"/>\n",
       "<path class=\"bond-7 atom-7 atom-8\" d=\"M 295.5,37.8 L 335.7,80.2\" style=\"fill:none;fill-rule:evenodd;stroke:#000000;stroke-width:2.0px;stroke-linecap:butt;stroke-linejoin:miter;stroke-opacity:1\"/>\n",
       "<path class=\"bond-7 atom-7 atom-8\" d=\"M 292.6,47.5 L 325.8,82.5\" style=\"fill:none;fill-rule:evenodd;stroke:#000000;stroke-width:2.0px;stroke-linecap:butt;stroke-linejoin:miter;stroke-opacity:1\"/>\n",
       "<path class=\"bond-8 atom-8 atom-9\" d=\"M 335.7,80.2 L 319.1,136.2\" style=\"fill:none;fill-rule:evenodd;stroke:#000000;stroke-width:2.0px;stroke-linecap:butt;stroke-linejoin:miter;stroke-opacity:1\"/>\n",
       "<path class=\"bond-9 atom-9 atom-10\" d=\"M 319.1,136.2 L 262.3,149.8\" style=\"fill:none;fill-rule:evenodd;stroke:#000000;stroke-width:2.0px;stroke-linecap:butt;stroke-linejoin:miter;stroke-opacity:1\"/>\n",
       "<path class=\"bond-9 atom-9 atom-10\" d=\"M 312.1,128.8 L 265.2,140.1\" style=\"fill:none;fill-rule:evenodd;stroke:#000000;stroke-width:2.0px;stroke-linecap:butt;stroke-linejoin:miter;stroke-opacity:1\"/>\n",
       "<path class=\"bond-10 atom-10 atom-5\" d=\"M 262.3,149.8 L 222.1,107.4\" style=\"fill:none;fill-rule:evenodd;stroke:#000000;stroke-width:2.0px;stroke-linecap:butt;stroke-linejoin:miter;stroke-opacity:1\"/>\n",
       "<path d=\"M 122.3,79.4 L 125.1,78.7 L 127.1,80.8\" style=\"fill:none;stroke:#000000;stroke-width:2.0px;stroke-linecap:butt;stroke-linejoin:miter;stroke-opacity:1;\"/>\n",
       "<path d=\"M 163.3,118.9 L 165.3,121.1 L 168.2,120.4\" style=\"fill:none;stroke:#000000;stroke-width:2.0px;stroke-linecap:butt;stroke-linejoin:miter;stroke-opacity:1;\"/>\n",
       "<path d=\"M 237.9,54.2 L 238.7,51.4 L 241.5,50.8\" style=\"fill:none;stroke:#000000;stroke-width:2.0px;stroke-linecap:butt;stroke-linejoin:miter;stroke-opacity:1;\"/>\n",
       "<path d=\"M 292.6,38.5 L 295.5,37.8 L 297.5,39.9\" style=\"fill:none;stroke:#000000;stroke-width:2.0px;stroke-linecap:butt;stroke-linejoin:miter;stroke-opacity:1;\"/>\n",
       "<path d=\"M 333.6,78.0 L 335.7,80.2 L 334.8,83.0\" style=\"fill:none;stroke:#000000;stroke-width:2.0px;stroke-linecap:butt;stroke-linejoin:miter;stroke-opacity:1;\"/>\n",
       "<path d=\"M 319.9,133.4 L 319.1,136.2 L 316.2,136.8\" style=\"fill:none;stroke:#000000;stroke-width:2.0px;stroke-linecap:butt;stroke-linejoin:miter;stroke-opacity:1;\"/>\n",
       "<path d=\"M 265.1,149.1 L 262.3,149.8 L 260.3,147.7\" style=\"fill:none;stroke:#000000;stroke-width:2.0px;stroke-linecap:butt;stroke-linejoin:miter;stroke-opacity:1;\"/>\n",
       "<path class=\"atom-2\" d=\"M 134.1 22.8 Q 134.1 18.8, 136.1 16.6 Q 138.0 14.3, 141.7 14.3 Q 145.4 14.3, 147.3 16.6 Q 149.3 18.8, 149.3 22.8 Q 149.3 26.8, 147.3 29.1 Q 145.3 31.3, 141.7 31.3 Q 138.1 31.3, 136.1 29.1 Q 134.1 26.8, 134.1 22.8 M 141.7 29.5 Q 144.2 29.5, 145.6 27.8 Q 147.0 26.1, 147.0 22.8 Q 147.0 19.5, 145.6 17.9 Q 144.2 16.2, 141.7 16.2 Q 139.2 16.2, 137.8 17.8 Q 136.5 19.5, 136.5 22.8 Q 136.5 26.1, 137.8 27.8 Q 139.2 29.5, 141.7 29.5 \" fill=\"#FF0000\"/>\n",
       "<path class=\"atom-4\" d=\"M 141.1 177.1 Q 141.1 173.1, 143.1 170.9 Q 145.1 168.7, 148.7 168.7 Q 152.4 168.7, 154.4 170.9 Q 156.3 173.1, 156.3 177.1 Q 156.3 181.1, 154.3 183.4 Q 152.4 185.7, 148.7 185.7 Q 145.1 185.7, 143.1 183.4 Q 141.1 181.1, 141.1 177.1 M 148.7 183.8 Q 151.3 183.8, 152.6 182.1 Q 154.0 180.4, 154.0 177.1 Q 154.0 173.8, 152.6 172.2 Q 151.3 170.5, 148.7 170.5 Q 146.2 170.5, 144.8 172.2 Q 143.5 173.8, 143.5 177.1 Q 143.5 180.4, 144.8 182.1 Q 146.2 183.8, 148.7 183.8 \" fill=\"#FF0000\"/>\n",
       "<path class=\"atom-4\" d=\"M 158.9 168.9 L 161.1 168.9 L 161.1 175.9 L 169.6 175.9 L 169.6 168.9 L 171.8 168.9 L 171.8 185.4 L 169.6 185.4 L 169.6 177.8 L 161.1 177.8 L 161.1 185.4 L 158.9 185.4 L 158.9 168.9 \" fill=\"#FF0000\"/>\n",
       "<path class=\"bond-11 atom-12 atom-11\" d=\"M 522.1,78.6 L 466.4,96.5 L 464.3,88.0 Z\" style=\"fill:#000000;fill-rule:evenodd;fill-opacity:1;stroke:#000000;stroke-width:0.5px;stroke-linecap:butt;stroke-linejoin:miter;stroke-opacity:1;\"/>\n",
       "<path class=\"bond-12 atom-12 atom-13\" d=\"M 522.1,78.6 L 528.9,55.7\" style=\"fill:none;fill-rule:evenodd;stroke:#000000;stroke-width:2.0px;stroke-linecap:butt;stroke-linejoin:miter;stroke-opacity:1\"/>\n",
       "<path class=\"bond-12 atom-12 atom-13\" d=\"M 528.9,55.7 L 535.7,32.9\" style=\"fill:none;fill-rule:evenodd;stroke:#0000FF;stroke-width:2.0px;stroke-linecap:butt;stroke-linejoin:miter;stroke-opacity:1\"/>\n",
       "<path class=\"bond-13 atom-12 atom-14\" d=\"M 522.1,78.6 L 562.3,121.0\" style=\"fill:none;fill-rule:evenodd;stroke:#000000;stroke-width:2.0px;stroke-linecap:butt;stroke-linejoin:miter;stroke-opacity:1\"/>\n",
       "<path class=\"bond-14 atom-14 atom-15\" d=\"M 562.3,121.0 L 557.9,143.5 L 553.7,142.3 Z\" style=\"fill:#000000;fill-rule:evenodd;fill-opacity:1;stroke:#000000;stroke-width:0.5px;stroke-linecap:butt;stroke-linejoin:miter;stroke-opacity:1;\"/>\n",
       "<path class=\"bond-14 atom-14 atom-15\" d=\"M 557.9,143.5 L 545.2,163.5 L 553.6,166.0 Z\" style=\"fill:#FF0000;fill-rule:evenodd;fill-opacity:1;stroke:#FF0000;stroke-width:0.5px;stroke-linecap:butt;stroke-linejoin:miter;stroke-opacity:1;\"/>\n",
       "<path class=\"bond-14 atom-14 atom-15\" d=\"M 557.9,143.5 L 553.7,142.3 L 545.2,163.5 Z\" style=\"fill:#FF0000;fill-rule:evenodd;fill-opacity:1;stroke:#FF0000;stroke-width:0.5px;stroke-linecap:butt;stroke-linejoin:miter;stroke-opacity:1;\"/>\n",
       "<path class=\"bond-15 atom-14 atom-16\" d=\"M 562.3,121.0 L 619.1,107.4\" style=\"fill:none;fill-rule:evenodd;stroke:#000000;stroke-width:2.0px;stroke-linecap:butt;stroke-linejoin:miter;stroke-opacity:1\"/>\n",
       "<path class=\"bond-16 atom-16 atom-17\" d=\"M 619.1,107.4 L 635.7,51.4\" style=\"fill:none;fill-rule:evenodd;stroke:#000000;stroke-width:2.0px;stroke-linecap:butt;stroke-linejoin:miter;stroke-opacity:1\"/>\n",
       "<path class=\"bond-16 atom-16 atom-17\" d=\"M 628.9,105.0 L 642.7,58.7\" style=\"fill:none;fill-rule:evenodd;stroke:#000000;stroke-width:2.0px;stroke-linecap:butt;stroke-linejoin:miter;stroke-opacity:1\"/>\n",
       "<path class=\"bond-17 atom-17 atom-18\" d=\"M 635.7,51.4 L 692.5,37.8\" style=\"fill:none;fill-rule:evenodd;stroke:#000000;stroke-width:2.0px;stroke-linecap:butt;stroke-linejoin:miter;stroke-opacity:1\"/>\n",
       "<path class=\"bond-18 atom-18 atom-19\" d=\"M 692.5,37.8 L 732.7,80.1\" style=\"fill:none;fill-rule:evenodd;stroke:#000000;stroke-width:2.0px;stroke-linecap:butt;stroke-linejoin:miter;stroke-opacity:1\"/>\n",
       "<path class=\"bond-18 atom-18 atom-19\" d=\"M 689.6,47.5 L 722.8,82.5\" style=\"fill:none;fill-rule:evenodd;stroke:#000000;stroke-width:2.0px;stroke-linecap:butt;stroke-linejoin:miter;stroke-opacity:1\"/>\n",
       "<path class=\"bond-19 atom-19 atom-20\" d=\"M 732.7,80.1 L 716.1,136.1\" style=\"fill:none;fill-rule:evenodd;stroke:#000000;stroke-width:2.0px;stroke-linecap:butt;stroke-linejoin:miter;stroke-opacity:1\"/>\n",
       "<path class=\"bond-20 atom-20 atom-21\" d=\"M 716.1,136.1 L 659.3,149.7\" style=\"fill:none;fill-rule:evenodd;stroke:#000000;stroke-width:2.0px;stroke-linecap:butt;stroke-linejoin:miter;stroke-opacity:1\"/>\n",
       "<path class=\"bond-20 atom-20 atom-21\" d=\"M 709.1,128.8 L 662.2,140.0\" style=\"fill:none;fill-rule:evenodd;stroke:#000000;stroke-width:2.0px;stroke-linecap:butt;stroke-linejoin:miter;stroke-opacity:1\"/>\n",
       "<path class=\"bond-21 atom-21 atom-16\" d=\"M 659.3,149.7 L 619.1,107.4\" style=\"fill:none;fill-rule:evenodd;stroke:#000000;stroke-width:2.0px;stroke-linecap:butt;stroke-linejoin:miter;stroke-opacity:1\"/>\n",
       "<path d=\"M 522.5,77.5 L 522.1,78.6 L 524.1,80.8\" style=\"fill:none;stroke:#000000;stroke-width:2.0px;stroke-linecap:butt;stroke-linejoin:miter;stroke-opacity:1;\"/>\n",
       "<path d=\"M 560.3,118.9 L 562.3,121.0 L 565.2,120.3\" style=\"fill:none;stroke:#000000;stroke-width:2.0px;stroke-linecap:butt;stroke-linejoin:miter;stroke-opacity:1;\"/>\n",
       "<path d=\"M 634.9,54.2 L 635.7,51.4 L 638.5,50.7\" style=\"fill:none;stroke:#000000;stroke-width:2.0px;stroke-linecap:butt;stroke-linejoin:miter;stroke-opacity:1;\"/>\n",
       "<path d=\"M 689.6,38.4 L 692.5,37.8 L 694.5,39.9\" style=\"fill:none;stroke:#000000;stroke-width:2.0px;stroke-linecap:butt;stroke-linejoin:miter;stroke-opacity:1;\"/>\n",
       "<path d=\"M 730.7,78.0 L 732.7,80.1 L 731.8,82.9\" style=\"fill:none;stroke:#000000;stroke-width:2.0px;stroke-linecap:butt;stroke-linejoin:miter;stroke-opacity:1;\"/>\n",
       "<path d=\"M 716.9,133.3 L 716.1,136.1 L 713.2,136.8\" style=\"fill:none;stroke:#000000;stroke-width:2.0px;stroke-linecap:butt;stroke-linejoin:miter;stroke-opacity:1;\"/>\n",
       "<path d=\"M 662.1,149.1 L 659.3,149.7 L 657.3,147.6\" style=\"fill:none;stroke:#000000;stroke-width:2.0px;stroke-linecap:butt;stroke-linejoin:miter;stroke-opacity:1;\"/>\n",
       "<path class=\"atom-2\" d=\"M 535.1 14.4 L 540.5 23.1 Q 541.0 24.0, 541.9 25.6 Q 542.7 27.1, 542.8 27.2 L 542.8 14.4 L 545.0 14.4 L 545.0 30.9 L 542.7 30.9 L 536.9 21.3 Q 536.2 20.2, 535.5 18.9 Q 534.8 17.7, 534.6 17.3 L 534.6 30.9 L 532.4 30.9 L 532.4 14.4 L 535.1 14.4 \" fill=\"#0000FF\"/>\n",
       "<path class=\"atom-2\" d=\"M 548.2 14.4 L 550.4 14.4 L 550.4 21.4 L 558.8 21.4 L 558.8 14.4 L 561.1 14.4 L 561.1 30.9 L 558.8 30.9 L 558.8 23.3 L 550.4 23.3 L 550.4 30.9 L 548.2 30.9 L 548.2 14.4 \" fill=\"#0000FF\"/>\n",
       "<path class=\"atom-2\" d=\"M 564.3 30.3 Q 564.7 29.3, 565.7 28.7 Q 566.6 28.2, 568.0 28.2 Q 569.6 28.2, 570.5 29.1 Q 571.5 29.9, 571.5 31.5 Q 571.5 33.2, 570.3 34.7 Q 569.1 36.2, 566.6 38.0 L 571.7 38.0 L 571.7 39.2 L 564.3 39.2 L 564.3 38.2 Q 566.3 36.7, 567.5 35.6 Q 568.8 34.6, 569.3 33.6 Q 569.9 32.6, 569.9 31.6 Q 569.9 30.6, 569.4 30.0 Q 568.9 29.4, 568.0 29.4 Q 567.1 29.4, 566.5 29.7 Q 565.9 30.1, 565.5 30.9 L 564.3 30.3 \" fill=\"#0000FF\"/>\n",
       "<path class=\"atom-4\" d=\"M 538.1 177.0 Q 538.1 173.1, 540.1 170.8 Q 542.1 168.6, 545.7 168.6 Q 549.4 168.6, 551.4 170.8 Q 553.3 173.1, 553.3 177.0 Q 553.3 181.1, 551.3 183.3 Q 549.4 185.6, 545.7 185.6 Q 542.1 185.6, 540.1 183.3 Q 538.1 181.1, 538.1 177.0 M 545.7 183.7 Q 548.3 183.7, 549.6 182.1 Q 551.0 180.4, 551.0 177.0 Q 551.0 173.8, 549.6 172.2 Q 548.3 170.5, 545.7 170.5 Q 543.2 170.5, 541.8 172.1 Q 540.5 173.8, 540.5 177.0 Q 540.5 180.4, 541.8 182.1 Q 543.2 183.7, 545.7 183.7 \" fill=\"#FF0000\"/>\n",
       "<path class=\"atom-4\" d=\"M 555.9 168.8 L 558.1 168.8 L 558.1 175.8 L 566.6 175.8 L 566.6 168.8 L 568.8 168.8 L 568.8 185.4 L 566.6 185.4 L 566.6 177.7 L 558.1 177.7 L 558.1 185.4 L 555.9 185.4 L 555.9 168.8 \" fill=\"#FF0000\"/>\n",
       "<path d=\"M 357.0,100.0 L 443.0,100.0\" style=\"fill:none;fill-rule:evenodd;stroke:#000000;stroke-width:2.0px;stroke-linecap:butt;stroke-linejoin:miter;stroke-opacity:1\"/>\n",
       "<path d=\"M 443.0,100.0 L 438.0,102.9\" style=\"fill:none;fill-rule:evenodd;stroke:#000000;stroke-width:2.0px;stroke-linecap:butt;stroke-linejoin:miter;stroke-opacity:1\"/>\n",
       "<path d=\"M 443.0,100.0 L 438.0,97.1\" style=\"fill:none;fill-rule:evenodd;stroke:#000000;stroke-width:2.0px;stroke-linecap:butt;stroke-linejoin:miter;stroke-opacity:1\"/>\n",
       "</svg>"
      ],
      "text/plain": [
       "<IPython.core.display.SVG object>"
      ]
     },
     "metadata": {},
     "output_type": "display_data"
    },
    {
     "name": "stdout",
     "output_type": "stream",
     "text": [
      "-------------------------------------------------------------------------------------------------------------------------------------------------\n"
     ]
    },
    {
     "name": "stdin",
     "output_type": "stream",
     "text": [
      "Enter a number (1-4) to explore a path or type 'exit' to quit:  4\n"
     ]
    },
    {
     "name": "stdout",
     "output_type": "stream",
     "text": [
      "\n",
      "This is path 4 of 4\n",
      "--------------------\n",
      "Target Compound: C[C@@H](N)[C@H](O)c1ccccc1\n"
     ]
    },
    {
     "data": {
      "image/svg+xml": [
       "<svg xmlns=\"http://www.w3.org/2000/svg\" xmlns:rdkit=\"http://www.rdkit.org/xml\" xmlns:xlink=\"http://www.w3.org/1999/xlink\" version=\"1.1\" baseProfile=\"full\" xml:space=\"preserve\" width=\"400px\" height=\"400px\" viewBox=\"0 0 400 400\">\n",
       "<!-- END OF HEADER -->\n",
       "<rect style=\"opacity:1.0;fill:#FFFFFF;stroke:none\" width=\"400.0\" height=\"400.0\" x=\"0.0\" y=\"0.0\"> </rect>\n",
       "<path class=\"bond-0 atom-1 atom-0\" d=\"M 97.5,171.4 L 22.7,195.3 L 20.0,183.9 Z\" style=\"fill:#000000;fill-rule:evenodd;fill-opacity:1;stroke:#000000;stroke-width:0.5px;stroke-linecap:butt;stroke-linejoin:miter;stroke-opacity:1;\"/>\n",
       "<path class=\"bond-1 atom-1 atom-2\" d=\"M 97.5,171.4 L 106.6,140.6\" style=\"fill:none;fill-rule:evenodd;stroke:#000000;stroke-width:2.0px;stroke-linecap:butt;stroke-linejoin:miter;stroke-opacity:1\"/>\n",
       "<path class=\"bond-1 atom-1 atom-2\" d=\"M 106.6,140.6 L 115.7,109.9\" style=\"fill:none;fill-rule:evenodd;stroke:#0000FF;stroke-width:2.0px;stroke-linecap:butt;stroke-linejoin:miter;stroke-opacity:1\"/>\n",
       "<path class=\"bond-2 atom-1 atom-3\" d=\"M 97.5,171.4 L 151.5,228.2\" style=\"fill:none;fill-rule:evenodd;stroke:#000000;stroke-width:2.0px;stroke-linecap:butt;stroke-linejoin:miter;stroke-opacity:1\"/>\n",
       "<path class=\"bond-3 atom-3 atom-4\" d=\"M 151.5,228.2 L 145.6,258.4 L 140.0,256.7 Z\" style=\"fill:#000000;fill-rule:evenodd;fill-opacity:1;stroke:#000000;stroke-width:0.5px;stroke-linecap:butt;stroke-linejoin:miter;stroke-opacity:1;\"/>\n",
       "<path class=\"bond-3 atom-3 atom-4\" d=\"M 145.6,258.4 L 128.4,285.2 L 139.7,288.6 Z\" style=\"fill:#FF0000;fill-rule:evenodd;fill-opacity:1;stroke:#FF0000;stroke-width:0.5px;stroke-linecap:butt;stroke-linejoin:miter;stroke-opacity:1;\"/>\n",
       "<path class=\"bond-3 atom-3 atom-4\" d=\"M 145.6,258.4 L 140.0,256.7 L 128.4,285.2 Z\" style=\"fill:#FF0000;fill-rule:evenodd;fill-opacity:1;stroke:#FF0000;stroke-width:0.5px;stroke-linecap:butt;stroke-linejoin:miter;stroke-opacity:1;\"/>\n",
       "<path class=\"bond-4 atom-3 atom-5\" d=\"M 151.5,228.2 L 227.6,209.9\" style=\"fill:none;fill-rule:evenodd;stroke:#000000;stroke-width:2.0px;stroke-linecap:butt;stroke-linejoin:miter;stroke-opacity:1\"/>\n",
       "<path class=\"bond-5 atom-5 atom-6\" d=\"M 227.6,209.9 L 249.9,134.8\" style=\"fill:none;fill-rule:evenodd;stroke:#000000;stroke-width:2.0px;stroke-linecap:butt;stroke-linejoin:miter;stroke-opacity:1\"/>\n",
       "<path class=\"bond-5 atom-5 atom-6\" d=\"M 240.8,206.7 L 259.2,144.6\" style=\"fill:none;fill-rule:evenodd;stroke:#000000;stroke-width:2.0px;stroke-linecap:butt;stroke-linejoin:miter;stroke-opacity:1\"/>\n",
       "<path class=\"bond-6 atom-6 atom-7\" d=\"M 249.9,134.8 L 326.1,116.5\" style=\"fill:none;fill-rule:evenodd;stroke:#000000;stroke-width:2.0px;stroke-linecap:butt;stroke-linejoin:miter;stroke-opacity:1\"/>\n",
       "<path class=\"bond-7 atom-7 atom-8\" d=\"M 326.1,116.5 L 380.0,173.3\" style=\"fill:none;fill-rule:evenodd;stroke:#000000;stroke-width:2.0px;stroke-linecap:butt;stroke-linejoin:miter;stroke-opacity:1\"/>\n",
       "<path class=\"bond-7 atom-7 atom-8\" d=\"M 322.2,129.5 L 366.8,176.5\" style=\"fill:none;fill-rule:evenodd;stroke:#000000;stroke-width:2.0px;stroke-linecap:butt;stroke-linejoin:miter;stroke-opacity:1\"/>\n",
       "<path class=\"bond-8 atom-8 atom-9\" d=\"M 380.0,173.3 L 357.7,248.4\" style=\"fill:none;fill-rule:evenodd;stroke:#000000;stroke-width:2.0px;stroke-linecap:butt;stroke-linejoin:miter;stroke-opacity:1\"/>\n",
       "<path class=\"bond-9 atom-9 atom-10\" d=\"M 357.7,248.4 L 281.6,266.7\" style=\"fill:none;fill-rule:evenodd;stroke:#000000;stroke-width:2.0px;stroke-linecap:butt;stroke-linejoin:miter;stroke-opacity:1\"/>\n",
       "<path class=\"bond-9 atom-9 atom-10\" d=\"M 348.4,238.6 L 285.4,253.7\" style=\"fill:none;fill-rule:evenodd;stroke:#000000;stroke-width:2.0px;stroke-linecap:butt;stroke-linejoin:miter;stroke-opacity:1\"/>\n",
       "<path class=\"bond-10 atom-10 atom-5\" d=\"M 281.6,266.7 L 227.6,209.9\" style=\"fill:none;fill-rule:evenodd;stroke:#000000;stroke-width:2.0px;stroke-linecap:butt;stroke-linejoin:miter;stroke-opacity:1\"/>\n",
       "<path d=\"M 98.0,169.8 L 97.5,171.4 L 100.2,174.2\" style=\"fill:none;stroke:#000000;stroke-width:2.0px;stroke-linecap:butt;stroke-linejoin:miter;stroke-opacity:1;\"/>\n",
       "<path d=\"M 148.8,225.3 L 151.5,228.2 L 155.3,227.3\" style=\"fill:none;stroke:#000000;stroke-width:2.0px;stroke-linecap:butt;stroke-linejoin:miter;stroke-opacity:1;\"/>\n",
       "<path d=\"M 248.8,138.5 L 249.9,134.8 L 253.7,133.9\" style=\"fill:none;stroke:#000000;stroke-width:2.0px;stroke-linecap:butt;stroke-linejoin:miter;stroke-opacity:1;\"/>\n",
       "<path d=\"M 322.3,117.4 L 326.1,116.5 L 328.8,119.3\" style=\"fill:none;stroke:#000000;stroke-width:2.0px;stroke-linecap:butt;stroke-linejoin:miter;stroke-opacity:1;\"/>\n",
       "<path d=\"M 377.3,170.5 L 380.0,173.3 L 378.9,177.1\" style=\"fill:none;stroke:#000000;stroke-width:2.0px;stroke-linecap:butt;stroke-linejoin:miter;stroke-opacity:1;\"/>\n",
       "<path d=\"M 358.9,244.7 L 357.7,248.4 L 353.9,249.4\" style=\"fill:none;stroke:#000000;stroke-width:2.0px;stroke-linecap:butt;stroke-linejoin:miter;stroke-opacity:1;\"/>\n",
       "<path d=\"M 285.4,265.8 L 281.6,266.7 L 278.9,263.9\" style=\"fill:none;stroke:#000000;stroke-width:2.0px;stroke-linecap:butt;stroke-linejoin:miter;stroke-opacity:1;\"/>\n",
       "<path class=\"atom-2\" d=\"M 114.9 85.1 L 122.2 96.9 Q 122.9 98.1, 124.0 100.2 Q 125.2 102.3, 125.3 102.4 L 125.3 85.1 L 128.2 85.1 L 128.2 107.3 L 125.2 107.3 L 117.4 94.5 Q 116.5 93.0, 115.5 91.3 Q 114.6 89.5, 114.3 89.0 L 114.3 107.3 L 111.4 107.3 L 111.4 85.1 L 114.9 85.1 \" fill=\"#0000FF\"/>\n",
       "<path class=\"atom-2\" d=\"M 132.5 85.1 L 135.5 85.1 L 135.5 94.6 L 146.8 94.6 L 146.8 85.1 L 149.8 85.1 L 149.8 107.3 L 146.8 107.3 L 146.8 97.1 L 135.5 97.1 L 135.5 107.3 L 132.5 107.3 L 132.5 85.1 \" fill=\"#0000FF\"/>\n",
       "<path class=\"atom-2\" d=\"M 154.2 106.6 Q 154.7 105.2, 156.0 104.4 Q 157.3 103.6, 159.0 103.6 Q 161.2 103.6, 162.5 104.8 Q 163.7 106.0, 163.7 108.1 Q 163.7 110.3, 162.1 112.3 Q 160.5 114.4, 157.2 116.8 L 164.0 116.8 L 164.0 118.4 L 154.1 118.4 L 154.1 117.0 Q 156.8 115.1, 158.5 113.6 Q 160.1 112.2, 160.9 110.9 Q 161.7 109.6, 161.7 108.2 Q 161.7 106.8, 161.0 106.1 Q 160.3 105.3, 159.0 105.3 Q 157.9 105.3, 157.1 105.7 Q 156.3 106.2, 155.7 107.3 L 154.2 106.6 \" fill=\"#0000FF\"/>\n",
       "<path class=\"atom-4\" d=\"M 119.0 303.4 Q 119.0 298.0, 121.7 295.1 Q 124.3 292.1, 129.2 292.1 Q 134.1 292.1, 136.8 295.1 Q 139.4 298.0, 139.4 303.4 Q 139.4 308.7, 136.7 311.8 Q 134.1 314.9, 129.2 314.9 Q 124.3 314.9, 121.7 311.8 Q 119.0 308.8, 119.0 303.4 M 129.2 312.3 Q 132.6 312.3, 134.4 310.1 Q 136.3 307.8, 136.3 303.4 Q 136.3 299.0, 134.4 296.8 Q 132.6 294.6, 129.2 294.6 Q 125.8 294.6, 124.0 296.8 Q 122.2 299.0, 122.2 303.4 Q 122.2 307.8, 124.0 310.1 Q 125.8 312.3, 129.2 312.3 \" fill=\"#FF0000\"/>\n",
       "<path class=\"atom-4\" d=\"M 142.9 292.3 L 145.9 292.3 L 145.9 301.8 L 157.2 301.8 L 157.2 292.3 L 160.2 292.3 L 160.2 314.5 L 157.2 314.5 L 157.2 304.3 L 145.9 304.3 L 145.9 314.5 L 142.9 314.5 L 142.9 292.3 \" fill=\"#FF0000\"/>\n",
       "</svg>"
      ],
      "text/plain": [
       "<IPython.core.display.SVG object>"
      ]
     },
     "metadata": {},
     "output_type": "display_data"
    },
    {
     "name": "stdout",
     "output_type": "stream",
     "text": [
      "\n",
      "These are the buyable compounds needed for this pathway:\n",
      "Buyable Compound 1: CC(=O)C(=O)O\n"
     ]
    },
    {
     "data": {
      "image/svg+xml": [
       "<svg xmlns=\"http://www.w3.org/2000/svg\" xmlns:rdkit=\"http://www.rdkit.org/xml\" xmlns:xlink=\"http://www.w3.org/1999/xlink\" version=\"1.1\" baseProfile=\"full\" xml:space=\"preserve\" width=\"400px\" height=\"400px\" viewBox=\"0 0 400 400\">\n",
       "<!-- END OF HEADER -->\n",
       "<rect style=\"opacity:1.0;fill:#FFFFFF;stroke:none\" width=\"400.0\" height=\"400.0\" x=\"0.0\" y=\"0.0\"> </rect>\n",
       "<path class=\"bond-0 atom-0 atom-1\" d=\"M 355.7,77.0 L 284.9,199.8\" style=\"fill:none;fill-rule:evenodd;stroke:#000000;stroke-width:2.0px;stroke-linecap:butt;stroke-linejoin:miter;stroke-opacity:1\"/>\n",
       "<path class=\"bond-1 atom-1 atom-2\" d=\"M 272.6,199.8 L 304.1,254.3\" style=\"fill:none;fill-rule:evenodd;stroke:#000000;stroke-width:2.0px;stroke-linecap:butt;stroke-linejoin:miter;stroke-opacity:1\"/>\n",
       "<path class=\"bond-1 atom-1 atom-2\" d=\"M 304.1,254.3 L 335.6,308.9\" style=\"fill:none;fill-rule:evenodd;stroke:#FF0000;stroke-width:2.0px;stroke-linecap:butt;stroke-linejoin:miter;stroke-opacity:1\"/>\n",
       "<path class=\"bond-1 atom-1 atom-2\" d=\"M 291.0,189.1 L 322.5,243.7\" style=\"fill:none;fill-rule:evenodd;stroke:#000000;stroke-width:2.0px;stroke-linecap:butt;stroke-linejoin:miter;stroke-opacity:1\"/>\n",
       "<path class=\"bond-1 atom-1 atom-2\" d=\"M 322.5,243.7 L 354.0,298.2\" style=\"fill:none;fill-rule:evenodd;stroke:#FF0000;stroke-width:2.0px;stroke-linecap:butt;stroke-linejoin:miter;stroke-opacity:1\"/>\n",
       "<path class=\"bond-2 atom-1 atom-3\" d=\"M 284.9,199.8 L 143.1,199.8\" style=\"fill:none;fill-rule:evenodd;stroke:#000000;stroke-width:2.0px;stroke-linecap:butt;stroke-linejoin:miter;stroke-opacity:1\"/>\n",
       "<path class=\"bond-3 atom-3 atom-4\" d=\"M 155.4,199.8 L 124.0,145.5\" style=\"fill:none;fill-rule:evenodd;stroke:#000000;stroke-width:2.0px;stroke-linecap:butt;stroke-linejoin:miter;stroke-opacity:1\"/>\n",
       "<path class=\"bond-3 atom-3 atom-4\" d=\"M 124.0,145.5 L 92.7,91.1\" style=\"fill:none;fill-rule:evenodd;stroke:#FF0000;stroke-width:2.0px;stroke-linecap:butt;stroke-linejoin:miter;stroke-opacity:1\"/>\n",
       "<path class=\"bond-3 atom-3 atom-4\" d=\"M 137.0,210.4 L 105.6,156.1\" style=\"fill:none;fill-rule:evenodd;stroke:#000000;stroke-width:2.0px;stroke-linecap:butt;stroke-linejoin:miter;stroke-opacity:1\"/>\n",
       "<path class=\"bond-3 atom-3 atom-4\" d=\"M 105.6,156.1 L 74.2,101.8\" style=\"fill:none;fill-rule:evenodd;stroke:#FF0000;stroke-width:2.0px;stroke-linecap:butt;stroke-linejoin:miter;stroke-opacity:1\"/>\n",
       "<path class=\"bond-4 atom-3 atom-5\" d=\"M 143.1,199.8 L 113.2,251.7\" style=\"fill:none;fill-rule:evenodd;stroke:#000000;stroke-width:2.0px;stroke-linecap:butt;stroke-linejoin:miter;stroke-opacity:1\"/>\n",
       "<path class=\"bond-4 atom-3 atom-5\" d=\"M 113.2,251.7 L 83.2,303.5\" style=\"fill:none;fill-rule:evenodd;stroke:#FF0000;stroke-width:2.0px;stroke-linecap:butt;stroke-linejoin:miter;stroke-opacity:1\"/>\n",
       "<path d=\"M 288.4,193.6 L 284.9,199.8 L 277.8,199.8\" style=\"fill:none;stroke:#000000;stroke-width:2.0px;stroke-linecap:butt;stroke-linejoin:miter;stroke-opacity:1;\"/>\n",
       "<path d=\"M 150.2,199.8 L 143.1,199.8 L 141.6,202.4\" style=\"fill:none;stroke:#000000;stroke-width:2.0px;stroke-linecap:butt;stroke-linejoin:miter;stroke-opacity:1;\"/>\n",
       "<path class=\"atom-2\" d=\"M 342.7 322.6 Q 342.7 315.8, 346.1 312.0 Q 349.5 308.2, 355.7 308.2 Q 362.0 308.2, 365.4 312.0 Q 368.7 315.8, 368.7 322.6 Q 368.7 329.5, 365.3 333.4 Q 361.9 337.3, 355.7 337.3 Q 349.5 337.3, 346.1 333.4 Q 342.7 329.5, 342.7 322.6 M 355.7 334.1 Q 360.1 334.1, 362.4 331.2 Q 364.7 328.3, 364.7 322.6 Q 364.7 317.1, 362.4 314.3 Q 360.1 311.4, 355.7 311.4 Q 351.4 311.4, 349.1 314.2 Q 346.7 317.0, 346.7 322.6 Q 346.7 328.3, 349.1 331.2 Q 351.4 334.1, 355.7 334.1 \" fill=\"#FF0000\"/>\n",
       "<path class=\"atom-4\" d=\"M 59.2 77.1 Q 59.2 70.3, 62.6 66.5 Q 66.0 62.7, 72.2 62.7 Q 78.5 62.7, 81.9 66.5 Q 85.2 70.3, 85.2 77.1 Q 85.2 84.0, 81.8 87.9 Q 78.4 91.8, 72.2 91.8 Q 66.0 91.8, 62.6 87.9 Q 59.2 84.0, 59.2 77.1 M 72.2 88.6 Q 76.6 88.6, 78.9 85.7 Q 81.2 82.8, 81.2 77.1 Q 81.2 71.5, 78.9 68.7 Q 76.6 65.9, 72.2 65.9 Q 67.9 65.9, 65.6 68.7 Q 63.2 71.5, 63.2 77.1 Q 63.2 82.8, 65.6 85.7 Q 67.9 88.6, 72.2 88.6 \" fill=\"#FF0000\"/>\n",
       "<path class=\"atom-5\" d=\"M 31.3 308.5 L 35.1 308.5 L 35.1 320.6 L 49.6 320.6 L 49.6 308.5 L 53.4 308.5 L 53.4 336.9 L 49.6 336.9 L 49.6 323.8 L 35.1 323.8 L 35.1 336.9 L 31.3 336.9 L 31.3 308.5 \" fill=\"#FF0000\"/>\n",
       "<path class=\"atom-5\" d=\"M 59.2 322.6 Q 59.2 315.8, 62.6 312.0 Q 66.0 308.2, 72.2 308.2 Q 78.5 308.2, 81.9 312.0 Q 85.2 315.8, 85.2 322.6 Q 85.2 329.5, 81.8 333.4 Q 78.4 337.3, 72.2 337.3 Q 66.0 337.3, 62.6 333.4 Q 59.2 329.5, 59.2 322.6 M 72.2 334.1 Q 76.6 334.1, 78.9 331.2 Q 81.2 328.3, 81.2 322.6 Q 81.2 317.1, 78.9 314.3 Q 76.6 311.4, 72.2 311.4 Q 67.9 311.4, 65.6 314.2 Q 63.2 317.0, 63.2 322.6 Q 63.2 328.3, 65.6 331.2 Q 67.9 334.1, 72.2 334.1 \" fill=\"#FF0000\"/>\n",
       "</svg>"
      ],
      "text/plain": [
       "<IPython.core.display.SVG object>"
      ]
     },
     "metadata": {},
     "output_type": "display_data"
    },
    {
     "name": "stdout",
     "output_type": "stream",
     "text": [
      "Buyable Compound 2: O=Cc1ccccc1\n"
     ]
    },
    {
     "data": {
      "image/svg+xml": [
       "<svg xmlns=\"http://www.w3.org/2000/svg\" xmlns:rdkit=\"http://www.rdkit.org/xml\" xmlns:xlink=\"http://www.w3.org/1999/xlink\" version=\"1.1\" baseProfile=\"full\" xml:space=\"preserve\" width=\"400px\" height=\"400px\" viewBox=\"0 0 400 400\">\n",
       "<!-- END OF HEADER -->\n",
       "<rect style=\"opacity:1.0;fill:#FFFFFF;stroke:none\" width=\"400.0\" height=\"400.0\" x=\"0.0\" y=\"0.0\"> </rect>\n",
       "<path class=\"bond-0 atom-0 atom-1\" d=\"M 43.3,188.4 L 68.5,215.7\" style=\"fill:none;fill-rule:evenodd;stroke:#FF0000;stroke-width:2.0px;stroke-linecap:butt;stroke-linejoin:miter;stroke-opacity:1\"/>\n",
       "<path class=\"bond-0 atom-0 atom-1\" d=\"M 68.5,215.7 L 93.7,243.0\" style=\"fill:none;fill-rule:evenodd;stroke:#000000;stroke-width:2.0px;stroke-linecap:butt;stroke-linejoin:miter;stroke-opacity:1\"/>\n",
       "<path class=\"bond-0 atom-0 atom-1\" d=\"M 54.1,178.5 L 79.3,205.8\" style=\"fill:none;fill-rule:evenodd;stroke:#FF0000;stroke-width:2.0px;stroke-linecap:butt;stroke-linejoin:miter;stroke-opacity:1\"/>\n",
       "<path class=\"bond-0 atom-0 atom-1\" d=\"M 79.3,205.8 L 98.7,226.9\" style=\"fill:none;fill-rule:evenodd;stroke:#000000;stroke-width:2.0px;stroke-linecap:butt;stroke-linejoin:miter;stroke-opacity:1\"/>\n",
       "<path class=\"bond-1 atom-1 atom-2\" d=\"M 93.7,243.0 L 189.1,221.5\" style=\"fill:none;fill-rule:evenodd;stroke:#000000;stroke-width:2.0px;stroke-linecap:butt;stroke-linejoin:miter;stroke-opacity:1\"/>\n",
       "<path class=\"bond-2 atom-2 atom-3\" d=\"M 189.1,221.5 L 218.2,128.1\" style=\"fill:none;fill-rule:evenodd;stroke:#000000;stroke-width:2.0px;stroke-linecap:butt;stroke-linejoin:miter;stroke-opacity:1\"/>\n",
       "<path class=\"bond-2 atom-2 atom-3\" d=\"M 205.7,217.8 L 229.7,140.6\" style=\"fill:none;fill-rule:evenodd;stroke:#000000;stroke-width:2.0px;stroke-linecap:butt;stroke-linejoin:miter;stroke-opacity:1\"/>\n",
       "<path class=\"bond-3 atom-3 atom-4\" d=\"M 218.2,128.1 L 313.6,106.6\" style=\"fill:none;fill-rule:evenodd;stroke:#000000;stroke-width:2.0px;stroke-linecap:butt;stroke-linejoin:miter;stroke-opacity:1\"/>\n",
       "<path class=\"bond-4 atom-4 atom-5\" d=\"M 313.6,106.6 L 380.0,178.5\" style=\"fill:none;fill-rule:evenodd;stroke:#000000;stroke-width:2.0px;stroke-linecap:butt;stroke-linejoin:miter;stroke-opacity:1\"/>\n",
       "<path class=\"bond-4 atom-4 atom-5\" d=\"M 308.6,122.8 L 363.5,182.2\" style=\"fill:none;fill-rule:evenodd;stroke:#000000;stroke-width:2.0px;stroke-linecap:butt;stroke-linejoin:miter;stroke-opacity:1\"/>\n",
       "<path class=\"bond-5 atom-5 atom-6\" d=\"M 380.0,178.5 L 350.9,271.9\" style=\"fill:none;fill-rule:evenodd;stroke:#000000;stroke-width:2.0px;stroke-linecap:butt;stroke-linejoin:miter;stroke-opacity:1\"/>\n",
       "<path class=\"bond-6 atom-6 atom-7\" d=\"M 350.9,271.9 L 255.5,293.4\" style=\"fill:none;fill-rule:evenodd;stroke:#000000;stroke-width:2.0px;stroke-linecap:butt;stroke-linejoin:miter;stroke-opacity:1\"/>\n",
       "<path class=\"bond-6 atom-6 atom-7\" d=\"M 339.4,259.4 L 260.5,277.2\" style=\"fill:none;fill-rule:evenodd;stroke:#000000;stroke-width:2.0px;stroke-linecap:butt;stroke-linejoin:miter;stroke-opacity:1\"/>\n",
       "<path class=\"bond-7 atom-7 atom-2\" d=\"M 255.5,293.4 L 189.1,221.5\" style=\"fill:none;fill-rule:evenodd;stroke:#000000;stroke-width:2.0px;stroke-linecap:butt;stroke-linejoin:miter;stroke-opacity:1\"/>\n",
       "<path d=\"M 92.4,241.7 L 93.7,243.0 L 98.5,242.0\" style=\"fill:none;stroke:#000000;stroke-width:2.0px;stroke-linecap:butt;stroke-linejoin:miter;stroke-opacity:1;\"/>\n",
       "<path d=\"M 216.7,132.8 L 218.2,128.1 L 223.0,127.0\" style=\"fill:none;stroke:#000000;stroke-width:2.0px;stroke-linecap:butt;stroke-linejoin:miter;stroke-opacity:1;\"/>\n",
       "<path d=\"M 308.9,107.7 L 313.6,106.6 L 317.0,110.2\" style=\"fill:none;stroke:#000000;stroke-width:2.0px;stroke-linecap:butt;stroke-linejoin:miter;stroke-opacity:1;\"/>\n",
       "<path d=\"M 376.7,174.9 L 380.0,178.5 L 378.5,183.1\" style=\"fill:none;stroke:#000000;stroke-width:2.0px;stroke-linecap:butt;stroke-linejoin:miter;stroke-opacity:1;\"/>\n",
       "<path d=\"M 352.4,267.2 L 350.9,271.9 L 346.1,273.0\" style=\"fill:none;stroke:#000000;stroke-width:2.0px;stroke-linecap:butt;stroke-linejoin:miter;stroke-opacity:1;\"/>\n",
       "<path d=\"M 260.3,292.3 L 255.5,293.4 L 252.2,289.8\" style=\"fill:none;stroke:#000000;stroke-width:2.0px;stroke-linecap:butt;stroke-linejoin:miter;stroke-opacity:1;\"/>\n",
       "<path class=\"atom-0\" d=\"M 20.0 166.3 Q 20.0 159.6, 23.3 155.9 Q 26.6 152.2, 32.7 152.2 Q 38.9 152.2, 42.1 155.9 Q 45.4 159.6, 45.4 166.3 Q 45.4 173.0, 42.1 176.8 Q 38.8 180.6, 32.7 180.6 Q 26.6 180.6, 23.3 176.8 Q 20.0 173.0, 20.0 166.3 M 32.7 177.5 Q 36.9 177.5, 39.2 174.7 Q 41.5 171.8, 41.5 166.3 Q 41.5 160.8, 39.2 158.1 Q 36.9 155.3, 32.7 155.3 Q 28.5 155.3, 26.2 158.0 Q 23.9 160.8, 23.9 166.3 Q 23.9 171.8, 26.2 174.7 Q 28.5 177.5, 32.7 177.5 \" fill=\"#FF0000\"/>\n",
       "</svg>"
      ],
      "text/plain": [
       "<IPython.core.display.SVG object>"
      ]
     },
     "metadata": {},
     "output_type": "display_data"
    },
    {
     "name": "stdout",
     "output_type": "stream",
     "text": [
      "\n",
      "Reaction 1: Thiamine-dependent Lyase (Ar Acceptor) CO2\n",
      "Reaction SMILES: CC(=O)C(=O)O.O=Cc1ccccc1>>CC(=O)[C@H](O)c1ccccc1\n"
     ]
    },
    {
     "data": {
      "image/svg+xml": [
       "<svg xmlns=\"http://www.w3.org/2000/svg\" xmlns:rdkit=\"http://www.rdkit.org/xml\" xmlns:xlink=\"http://www.w3.org/1999/xlink\" version=\"1.1\" baseProfile=\"full\" xml:space=\"preserve\" width=\"800px\" height=\"200px\" viewBox=\"0 0 800 200\">\n",
       "<!-- END OF HEADER -->\n",
       "<rect style=\"opacity:1.0;fill:#FFFFFF;stroke:none\" width=\"800.0\" height=\"200.0\" x=\"0.0\" y=\"0.0\"> </rect>\n",
       "<path class=\"bond-0 atom-0 atom-1\" d=\"M 192.8,60.2 L 169.9,99.9\" style=\"fill:none;fill-rule:evenodd;stroke:#000000;stroke-width:2.0px;stroke-linecap:butt;stroke-linejoin:miter;stroke-opacity:1\"/>\n",
       "<path class=\"bond-1 atom-1 atom-2\" d=\"M 165.9,99.9 L 175.5,116.6\" style=\"fill:none;fill-rule:evenodd;stroke:#000000;stroke-width:2.0px;stroke-linecap:butt;stroke-linejoin:miter;stroke-opacity:1\"/>\n",
       "<path class=\"bond-1 atom-1 atom-2\" d=\"M 175.5,116.6 L 185.2,133.3\" style=\"fill:none;fill-rule:evenodd;stroke:#FF0000;stroke-width:2.0px;stroke-linecap:butt;stroke-linejoin:miter;stroke-opacity:1\"/>\n",
       "<path class=\"bond-1 atom-1 atom-2\" d=\"M 171.8,96.5 L 181.5,113.1\" style=\"fill:none;fill-rule:evenodd;stroke:#000000;stroke-width:2.0px;stroke-linecap:butt;stroke-linejoin:miter;stroke-opacity:1\"/>\n",
       "<path class=\"bond-1 atom-1 atom-2\" d=\"M 181.5,113.1 L 191.1,129.8\" style=\"fill:none;fill-rule:evenodd;stroke:#FF0000;stroke-width:2.0px;stroke-linecap:butt;stroke-linejoin:miter;stroke-opacity:1\"/>\n",
       "<path class=\"bond-2 atom-1 atom-3\" d=\"M 169.9,99.9 L 124.0,99.9\" style=\"fill:none;fill-rule:evenodd;stroke:#000000;stroke-width:2.0px;stroke-linecap:butt;stroke-linejoin:miter;stroke-opacity:1\"/>\n",
       "<path class=\"bond-3 atom-3 atom-4\" d=\"M 122.0,96.5 L 112.4,113.1\" style=\"fill:none;fill-rule:evenodd;stroke:#000000;stroke-width:2.0px;stroke-linecap:butt;stroke-linejoin:miter;stroke-opacity:1\"/>\n",
       "<path class=\"bond-3 atom-3 atom-4\" d=\"M 112.4,113.1 L 102.7,129.8\" style=\"fill:none;fill-rule:evenodd;stroke:#FF0000;stroke-width:2.0px;stroke-linecap:butt;stroke-linejoin:miter;stroke-opacity:1\"/>\n",
       "<path class=\"bond-3 atom-3 atom-4\" d=\"M 127.9,99.9 L 118.3,116.6\" style=\"fill:none;fill-rule:evenodd;stroke:#000000;stroke-width:2.0px;stroke-linecap:butt;stroke-linejoin:miter;stroke-opacity:1\"/>\n",
       "<path class=\"bond-3 atom-3 atom-4\" d=\"M 118.3,116.6 L 108.7,133.3\" style=\"fill:none;fill-rule:evenodd;stroke:#FF0000;stroke-width:2.0px;stroke-linecap:butt;stroke-linejoin:miter;stroke-opacity:1\"/>\n",
       "<path class=\"bond-4 atom-3 atom-5\" d=\"M 124.0,99.9 L 114.9,84.2\" style=\"fill:none;fill-rule:evenodd;stroke:#000000;stroke-width:2.0px;stroke-linecap:butt;stroke-linejoin:miter;stroke-opacity:1\"/>\n",
       "<path class=\"bond-4 atom-3 atom-5\" d=\"M 114.9,84.2 L 105.8,68.4\" style=\"fill:none;fill-rule:evenodd;stroke:#FF0000;stroke-width:2.0px;stroke-linecap:butt;stroke-linejoin:miter;stroke-opacity:1\"/>\n",
       "<path d=\"M 171.0,97.9 L 169.9,99.9 L 167.6,99.9\" style=\"fill:none;stroke:#000000;stroke-width:2.0px;stroke-linecap:butt;stroke-linejoin:miter;stroke-opacity:1;\"/>\n",
       "<path d=\"M 126.3,99.9 L 124.0,99.9 L 123.5,99.1\" style=\"fill:none;stroke:#000000;stroke-width:2.0px;stroke-linecap:butt;stroke-linejoin:miter;stroke-opacity:1;\"/>\n",
       "<path class=\"atom-2\" d=\"M 186.8 139.7 Q 186.8 136.6, 188.4 134.8 Q 189.9 133.1, 192.8 133.1 Q 195.7 133.1, 197.2 134.8 Q 198.8 136.6, 198.8 139.7 Q 198.8 142.8, 197.2 144.6 Q 195.6 146.4, 192.8 146.4 Q 189.9 146.4, 188.4 144.6 Q 186.8 142.8, 186.8 139.7 M 192.8 144.9 Q 194.8 144.9, 195.8 143.6 Q 196.9 142.3, 196.9 139.7 Q 196.9 137.1, 195.8 135.8 Q 194.8 134.5, 192.8 134.5 Q 190.8 134.5, 189.7 135.8 Q 188.7 137.1, 188.7 139.7 Q 188.7 142.3, 189.7 143.6 Q 190.8 144.9, 192.8 144.9 \" fill=\"#FF0000\"/>\n",
       "<path class=\"atom-4\" d=\"M 95.1 139.7 Q 95.1 136.6, 96.6 134.8 Q 98.1 133.1, 101.0 133.1 Q 103.9 133.1, 105.5 134.8 Q 107.0 136.6, 107.0 139.7 Q 107.0 142.8, 105.4 144.6 Q 103.9 146.4, 101.0 146.4 Q 98.2 146.4, 96.6 144.6 Q 95.1 142.8, 95.1 139.7 M 101.0 144.9 Q 103.0 144.9, 104.1 143.6 Q 105.2 142.3, 105.2 139.7 Q 105.2 137.1, 104.1 135.8 Q 103.0 134.5, 101.0 134.5 Q 99.0 134.5, 98.0 135.8 Q 96.9 137.1, 96.9 139.7 Q 96.9 142.3, 98.0 143.6 Q 99.0 144.9, 101.0 144.9 \" fill=\"#FF0000\"/>\n",
       "<path class=\"atom-5\" d=\"M 82.2 53.7 L 84.0 53.7 L 84.0 59.3 L 90.6 59.3 L 90.6 53.7 L 92.4 53.7 L 92.4 66.7 L 90.6 66.7 L 90.6 60.7 L 84.0 60.7 L 84.0 66.7 L 82.2 66.7 L 82.2 53.7 \" fill=\"#FF0000\"/>\n",
       "<path class=\"atom-5\" d=\"M 95.1 60.2 Q 95.1 57.1, 96.6 55.3 Q 98.1 53.6, 101.0 53.6 Q 103.9 53.6, 105.5 55.3 Q 107.0 57.1, 107.0 60.2 Q 107.0 63.4, 105.4 65.2 Q 103.9 66.9, 101.0 66.9 Q 98.2 66.9, 96.6 65.2 Q 95.1 63.4, 95.1 60.2 M 101.0 65.5 Q 103.0 65.5, 104.1 64.1 Q 105.2 62.8, 105.2 60.2 Q 105.2 57.6, 104.1 56.4 Q 103.0 55.1, 101.0 55.1 Q 99.0 55.1, 98.0 56.3 Q 96.9 57.6, 96.9 60.2 Q 96.9 62.8, 98.0 64.1 Q 99.0 65.5, 101.0 65.5 \" fill=\"#FF0000\"/>\n",
       "<path d=\"M 216.5,90.0 L 216.5,110.0\" style=\"fill:none;fill-rule:evenodd;stroke:#000000;stroke-width:2.0px;stroke-linecap:butt;stroke-linejoin:miter;stroke-opacity:1\"/>\n",
       "<path d=\"M 206.5,100.0 L 226.5,100.0\" style=\"fill:none;fill-rule:evenodd;stroke:#000000;stroke-width:2.0px;stroke-linecap:butt;stroke-linejoin:miter;stroke-opacity:1\"/>\n",
       "<path class=\"bond-5 atom-6 atom-7\" d=\"M 245.0,94.6 L 256.8,107.4\" style=\"fill:none;fill-rule:evenodd;stroke:#FF0000;stroke-width:2.0px;stroke-linecap:butt;stroke-linejoin:miter;stroke-opacity:1\"/>\n",
       "<path class=\"bond-5 atom-6 atom-7\" d=\"M 256.8,107.4 L 268.6,120.2\" style=\"fill:none;fill-rule:evenodd;stroke:#000000;stroke-width:2.0px;stroke-linecap:butt;stroke-linejoin:miter;stroke-opacity:1\"/>\n",
       "<path class=\"bond-5 atom-6 atom-7\" d=\"M 250.1,89.9 L 261.9,102.7\" style=\"fill:none;fill-rule:evenodd;stroke:#FF0000;stroke-width:2.0px;stroke-linecap:butt;stroke-linejoin:miter;stroke-opacity:1\"/>\n",
       "<path class=\"bond-5 atom-6 atom-7\" d=\"M 261.9,102.7 L 271.0,112.6\" style=\"fill:none;fill-rule:evenodd;stroke:#000000;stroke-width:2.0px;stroke-linecap:butt;stroke-linejoin:miter;stroke-opacity:1\"/>\n",
       "<path class=\"bond-6 atom-7 atom-8\" d=\"M 268.6,120.2 L 313.4,110.1\" style=\"fill:none;fill-rule:evenodd;stroke:#000000;stroke-width:2.0px;stroke-linecap:butt;stroke-linejoin:miter;stroke-opacity:1\"/>\n",
       "<path class=\"bond-7 atom-8 atom-9\" d=\"M 313.4,110.1 L 327.0,66.3\" style=\"fill:none;fill-rule:evenodd;stroke:#000000;stroke-width:2.0px;stroke-linecap:butt;stroke-linejoin:miter;stroke-opacity:1\"/>\n",
       "<path class=\"bond-7 atom-8 atom-9\" d=\"M 321.2,108.3 L 332.4,72.1\" style=\"fill:none;fill-rule:evenodd;stroke:#000000;stroke-width:2.0px;stroke-linecap:butt;stroke-linejoin:miter;stroke-opacity:1\"/>\n",
       "<path class=\"bond-8 atom-9 atom-10\" d=\"M 327.0,66.3 L 371.8,56.2\" style=\"fill:none;fill-rule:evenodd;stroke:#000000;stroke-width:2.0px;stroke-linecap:butt;stroke-linejoin:miter;stroke-opacity:1\"/>\n",
       "<path class=\"bond-9 atom-10 atom-11\" d=\"M 371.8,56.2 L 402.9,89.9\" style=\"fill:none;fill-rule:evenodd;stroke:#000000;stroke-width:2.0px;stroke-linecap:butt;stroke-linejoin:miter;stroke-opacity:1\"/>\n",
       "<path class=\"bond-9 atom-10 atom-11\" d=\"M 369.4,63.8 L 395.2,91.7\" style=\"fill:none;fill-rule:evenodd;stroke:#000000;stroke-width:2.0px;stroke-linecap:butt;stroke-linejoin:miter;stroke-opacity:1\"/>\n",
       "<path class=\"bond-10 atom-11 atom-12\" d=\"M 402.9,89.9 L 389.3,133.7\" style=\"fill:none;fill-rule:evenodd;stroke:#000000;stroke-width:2.0px;stroke-linecap:butt;stroke-linejoin:miter;stroke-opacity:1\"/>\n",
       "<path class=\"bond-11 atom-12 atom-13\" d=\"M 389.3,133.7 L 344.5,143.8\" style=\"fill:none;fill-rule:evenodd;stroke:#000000;stroke-width:2.0px;stroke-linecap:butt;stroke-linejoin:miter;stroke-opacity:1\"/>\n",
       "<path class=\"bond-11 atom-12 atom-13\" d=\"M 383.9,127.9 L 346.9,136.2\" style=\"fill:none;fill-rule:evenodd;stroke:#000000;stroke-width:2.0px;stroke-linecap:butt;stroke-linejoin:miter;stroke-opacity:1\"/>\n",
       "<path class=\"bond-12 atom-13 atom-8\" d=\"M 344.5,143.8 L 313.4,110.1\" style=\"fill:none;fill-rule:evenodd;stroke:#000000;stroke-width:2.0px;stroke-linecap:butt;stroke-linejoin:miter;stroke-opacity:1\"/>\n",
       "<path d=\"M 268.0,119.5 L 268.6,120.2 L 270.9,119.7\" style=\"fill:none;stroke:#000000;stroke-width:2.0px;stroke-linecap:butt;stroke-linejoin:miter;stroke-opacity:1;\"/>\n",
       "<path d=\"M 326.4,68.5 L 327.0,66.3 L 329.3,65.8\" style=\"fill:none;stroke:#000000;stroke-width:2.0px;stroke-linecap:butt;stroke-linejoin:miter;stroke-opacity:1;\"/>\n",
       "<path d=\"M 369.6,56.7 L 371.8,56.2 L 373.4,57.9\" style=\"fill:none;stroke:#000000;stroke-width:2.0px;stroke-linecap:butt;stroke-linejoin:miter;stroke-opacity:1;\"/>\n",
       "<path d=\"M 401.4,88.2 L 402.9,89.9 L 402.2,92.1\" style=\"fill:none;stroke:#000000;stroke-width:2.0px;stroke-linecap:butt;stroke-linejoin:miter;stroke-opacity:1;\"/>\n",
       "<path d=\"M 390.0,131.5 L 389.3,133.7 L 387.0,134.2\" style=\"fill:none;stroke:#000000;stroke-width:2.0px;stroke-linecap:butt;stroke-linejoin:miter;stroke-opacity:1;\"/>\n",
       "<path d=\"M 346.8,143.3 L 344.5,143.8 L 343.0,142.1\" style=\"fill:none;stroke:#000000;stroke-width:2.0px;stroke-linecap:butt;stroke-linejoin:miter;stroke-opacity:1;\"/>\n",
       "<path class=\"atom-0\" d=\"M 234.1 84.2 Q 234.1 81.1, 235.6 79.3 Q 237.2 77.6, 240.0 77.6 Q 242.9 77.6, 244.5 79.3 Q 246.0 81.1, 246.0 84.2 Q 246.0 87.3, 244.4 89.1 Q 242.9 90.9, 240.0 90.9 Q 237.2 90.9, 235.6 89.1 Q 234.1 87.3, 234.1 84.2 M 240.0 89.4 Q 242.0 89.4, 243.1 88.1 Q 244.2 86.8, 244.2 84.2 Q 244.2 81.6, 243.1 80.3 Q 242.0 79.0, 240.0 79.0 Q 238.1 79.0, 237.0 80.3 Q 235.9 81.6, 235.9 84.2 Q 235.9 86.8, 237.0 88.1 Q 238.1 89.4, 240.0 89.4 \" fill=\"#FF0000\"/>\n",
       "<path class=\"bond-13 atom-14 atom-15\" d=\"M 507.5,94.0 L 552.1,83.3\" style=\"fill:none;fill-rule:evenodd;stroke:#000000;stroke-width:2.0px;stroke-linecap:butt;stroke-linejoin:miter;stroke-opacity:1\"/>\n",
       "<path class=\"bond-14 atom-15 atom-16\" d=\"M 554.8,86.1 L 560.4,67.3\" style=\"fill:none;fill-rule:evenodd;stroke:#000000;stroke-width:2.0px;stroke-linecap:butt;stroke-linejoin:miter;stroke-opacity:1\"/>\n",
       "<path class=\"bond-14 atom-15 atom-16\" d=\"M 560.4,67.3 L 566.0,48.5\" style=\"fill:none;fill-rule:evenodd;stroke:#FF0000;stroke-width:2.0px;stroke-linecap:butt;stroke-linejoin:miter;stroke-opacity:1\"/>\n",
       "<path class=\"bond-14 atom-15 atom-16\" d=\"M 548.2,84.2 L 553.8,65.4\" style=\"fill:none;fill-rule:evenodd;stroke:#000000;stroke-width:2.0px;stroke-linecap:butt;stroke-linejoin:miter;stroke-opacity:1\"/>\n",
       "<path class=\"bond-14 atom-15 atom-16\" d=\"M 553.8,65.4 L 559.4,46.6\" style=\"fill:none;fill-rule:evenodd;stroke:#FF0000;stroke-width:2.0px;stroke-linecap:butt;stroke-linejoin:miter;stroke-opacity:1\"/>\n",
       "<path class=\"bond-15 atom-15 atom-17\" d=\"M 552.1,83.3 L 583.7,116.5\" style=\"fill:none;fill-rule:evenodd;stroke:#000000;stroke-width:2.0px;stroke-linecap:butt;stroke-linejoin:miter;stroke-opacity:1\"/>\n",
       "<path class=\"bond-16 atom-17 atom-18\" d=\"M 583.7,116.5 L 580.2,134.2 L 576.9,133.3 Z\" style=\"fill:#000000;fill-rule:evenodd;fill-opacity:1;stroke:#000000;stroke-width:0.5px;stroke-linecap:butt;stroke-linejoin:miter;stroke-opacity:1;\"/>\n",
       "<path class=\"bond-16 atom-17 atom-18\" d=\"M 580.2,134.2 L 570.2,150.0 L 576.8,151.9 Z\" style=\"fill:#FF0000;fill-rule:evenodd;fill-opacity:1;stroke:#FF0000;stroke-width:0.5px;stroke-linecap:butt;stroke-linejoin:miter;stroke-opacity:1;\"/>\n",
       "<path class=\"bond-16 atom-17 atom-18\" d=\"M 580.2,134.2 L 576.9,133.3 L 570.2,150.0 Z\" style=\"fill:#FF0000;fill-rule:evenodd;fill-opacity:1;stroke:#FF0000;stroke-width:0.5px;stroke-linecap:butt;stroke-linejoin:miter;stroke-opacity:1;\"/>\n",
       "<path class=\"bond-17 atom-17 atom-19\" d=\"M 583.7,116.5 L 628.3,105.8\" style=\"fill:none;fill-rule:evenodd;stroke:#000000;stroke-width:2.0px;stroke-linecap:butt;stroke-linejoin:miter;stroke-opacity:1\"/>\n",
       "<path class=\"bond-18 atom-19 atom-20\" d=\"M 628.3,105.8 L 641.3,61.8\" style=\"fill:none;fill-rule:evenodd;stroke:#000000;stroke-width:2.0px;stroke-linecap:butt;stroke-linejoin:miter;stroke-opacity:1\"/>\n",
       "<path class=\"bond-18 atom-19 atom-20\" d=\"M 636.0,104.0 L 646.8,67.6\" style=\"fill:none;fill-rule:evenodd;stroke:#000000;stroke-width:2.0px;stroke-linecap:butt;stroke-linejoin:miter;stroke-opacity:1\"/>\n",
       "<path class=\"bond-19 atom-20 atom-21\" d=\"M 641.3,61.8 L 685.9,51.1\" style=\"fill:none;fill-rule:evenodd;stroke:#000000;stroke-width:2.0px;stroke-linecap:butt;stroke-linejoin:miter;stroke-opacity:1\"/>\n",
       "<path class=\"bond-20 atom-21 atom-22\" d=\"M 685.9,51.1 L 717.5,84.4\" style=\"fill:none;fill-rule:evenodd;stroke:#000000;stroke-width:2.0px;stroke-linecap:butt;stroke-linejoin:miter;stroke-opacity:1\"/>\n",
       "<path class=\"bond-20 atom-21 atom-22\" d=\"M 683.7,58.7 L 709.8,86.3\" style=\"fill:none;fill-rule:evenodd;stroke:#000000;stroke-width:2.0px;stroke-linecap:butt;stroke-linejoin:miter;stroke-opacity:1\"/>\n",
       "<path class=\"bond-21 atom-22 atom-23\" d=\"M 717.5,84.4 L 704.5,128.4\" style=\"fill:none;fill-rule:evenodd;stroke:#000000;stroke-width:2.0px;stroke-linecap:butt;stroke-linejoin:miter;stroke-opacity:1\"/>\n",
       "<path class=\"bond-22 atom-23 atom-24\" d=\"M 704.5,128.4 L 659.9,139.1\" style=\"fill:none;fill-rule:evenodd;stroke:#000000;stroke-width:2.0px;stroke-linecap:butt;stroke-linejoin:miter;stroke-opacity:1\"/>\n",
       "<path class=\"bond-22 atom-23 atom-24\" d=\"M 699.0,122.6 L 662.1,131.5\" style=\"fill:none;fill-rule:evenodd;stroke:#000000;stroke-width:2.0px;stroke-linecap:butt;stroke-linejoin:miter;stroke-opacity:1\"/>\n",
       "<path class=\"bond-23 atom-24 atom-19\" d=\"M 659.9,139.1 L 628.3,105.8\" style=\"fill:none;fill-rule:evenodd;stroke:#000000;stroke-width:2.0px;stroke-linecap:butt;stroke-linejoin:miter;stroke-opacity:1\"/>\n",
       "<path d=\"M 549.9,83.8 L 552.1,83.3 L 553.7,84.9\" style=\"fill:none;stroke:#000000;stroke-width:2.0px;stroke-linecap:butt;stroke-linejoin:miter;stroke-opacity:1;\"/>\n",
       "<path d=\"M 582.1,114.9 L 583.7,116.5 L 585.9,116.0\" style=\"fill:none;stroke:#000000;stroke-width:2.0px;stroke-linecap:butt;stroke-linejoin:miter;stroke-opacity:1;\"/>\n",
       "<path d=\"M 640.7,64.0 L 641.3,61.8 L 643.6,61.3\" style=\"fill:none;stroke:#000000;stroke-width:2.0px;stroke-linecap:butt;stroke-linejoin:miter;stroke-opacity:1;\"/>\n",
       "<path d=\"M 683.7,51.7 L 685.9,51.1 L 687.5,52.8\" style=\"fill:none;stroke:#000000;stroke-width:2.0px;stroke-linecap:butt;stroke-linejoin:miter;stroke-opacity:1;\"/>\n",
       "<path d=\"M 715.9,82.7 L 717.5,84.4 L 716.9,86.6\" style=\"fill:none;stroke:#000000;stroke-width:2.0px;stroke-linecap:butt;stroke-linejoin:miter;stroke-opacity:1;\"/>\n",
       "<path d=\"M 705.1,126.2 L 704.5,128.4 L 702.3,128.9\" style=\"fill:none;stroke:#000000;stroke-width:2.0px;stroke-linecap:butt;stroke-linejoin:miter;stroke-opacity:1;\"/>\n",
       "<path d=\"M 662.1,138.6 L 659.9,139.1 L 658.3,137.5\" style=\"fill:none;stroke:#000000;stroke-width:2.0px;stroke-linecap:butt;stroke-linejoin:miter;stroke-opacity:1;\"/>\n",
       "<path class=\"atom-2\" d=\"M 559.2 39.3 Q 559.2 36.2, 560.7 34.4 Q 562.2 32.7, 565.1 32.7 Q 568.0 32.7, 569.5 34.4 Q 571.1 36.2, 571.1 39.3 Q 571.1 42.5, 569.5 44.3 Q 568.0 46.0, 565.1 46.0 Q 562.3 46.0, 560.7 44.3 Q 559.2 42.5, 559.2 39.3 M 565.1 44.6 Q 567.1 44.6, 568.2 43.2 Q 569.3 41.9, 569.3 39.3 Q 569.3 36.7, 568.2 35.5 Q 567.1 34.2, 565.1 34.2 Q 563.1 34.2, 562.1 35.4 Q 561.0 36.7, 561.0 39.3 Q 561.0 41.9, 562.1 43.2 Q 563.1 44.6, 565.1 44.6 \" fill=\"#FF0000\"/>\n",
       "<path class=\"atom-4\" d=\"M 564.7 160.6 Q 564.7 157.5, 566.2 155.7 Q 567.8 154.0, 570.6 154.0 Q 573.5 154.0, 575.1 155.7 Q 576.6 157.5, 576.6 160.6 Q 576.6 163.7, 575.0 165.5 Q 573.5 167.3, 570.6 167.3 Q 567.8 167.3, 566.2 165.5 Q 564.7 163.7, 564.7 160.6 M 570.6 165.8 Q 572.6 165.8, 573.7 164.5 Q 574.8 163.2, 574.8 160.6 Q 574.8 158.0, 573.7 156.7 Q 572.6 155.4, 570.6 155.4 Q 568.7 155.4, 567.6 156.7 Q 566.5 158.0, 566.5 160.6 Q 566.5 163.2, 567.6 164.5 Q 568.7 165.8, 570.6 165.8 \" fill=\"#FF0000\"/>\n",
       "<path class=\"atom-4\" d=\"M 578.6 154.1 L 580.4 154.1 L 580.4 159.6 L 587.0 159.6 L 587.0 154.1 L 588.8 154.1 L 588.8 167.1 L 587.0 167.1 L 587.0 161.1 L 580.4 161.1 L 580.4 167.1 L 578.6 167.1 L 578.6 154.1 \" fill=\"#FF0000\"/>\n",
       "<path d=\"M 420.0,100.0 L 490.0,100.0\" style=\"fill:none;fill-rule:evenodd;stroke:#000000;stroke-width:2.0px;stroke-linecap:butt;stroke-linejoin:miter;stroke-opacity:1\"/>\n",
       "<path d=\"M 490.0,100.0 L 485.0,102.9\" style=\"fill:none;fill-rule:evenodd;stroke:#000000;stroke-width:2.0px;stroke-linecap:butt;stroke-linejoin:miter;stroke-opacity:1\"/>\n",
       "<path d=\"M 490.0,100.0 L 485.0,97.1\" style=\"fill:none;fill-rule:evenodd;stroke:#000000;stroke-width:2.0px;stroke-linecap:butt;stroke-linejoin:miter;stroke-opacity:1\"/>\n",
       "</svg>"
      ],
      "text/plain": [
       "<IPython.core.display.SVG object>"
      ]
     },
     "metadata": {},
     "output_type": "display_data"
    },
    {
     "name": "stdout",
     "output_type": "stream",
     "text": [
      "\n",
      "Reaction 2: Ketone amination\n",
      "Reaction SMILES: CC(=O)[C@H](O)c1ccccc1>>C[C@@H](N)[C@H](O)c1ccccc1\n"
     ]
    },
    {
     "data": {
      "image/svg+xml": [
       "<svg xmlns=\"http://www.w3.org/2000/svg\" xmlns:rdkit=\"http://www.rdkit.org/xml\" xmlns:xlink=\"http://www.w3.org/1999/xlink\" version=\"1.1\" baseProfile=\"full\" xml:space=\"preserve\" width=\"800px\" height=\"200px\" viewBox=\"0 0 800 200\">\n",
       "<!-- END OF HEADER -->\n",
       "<rect style=\"opacity:1.0;fill:#FFFFFF;stroke:none\" width=\"800.0\" height=\"200.0\" x=\"0.0\" y=\"0.0\"> </rect>\n",
       "<path class=\"bond-0 atom-0 atom-1\" d=\"M 68.3,92.3 L 125.1,78.7\" style=\"fill:none;fill-rule:evenodd;stroke:#000000;stroke-width:2.0px;stroke-linecap:butt;stroke-linejoin:miter;stroke-opacity:1\"/>\n",
       "<path class=\"bond-1 atom-1 atom-2\" d=\"M 128.6,82.4 L 135.7,58.4\" style=\"fill:none;fill-rule:evenodd;stroke:#000000;stroke-width:2.0px;stroke-linecap:butt;stroke-linejoin:miter;stroke-opacity:1\"/>\n",
       "<path class=\"bond-1 atom-1 atom-2\" d=\"M 135.7,58.4 L 142.8,34.5\" style=\"fill:none;fill-rule:evenodd;stroke:#FF0000;stroke-width:2.0px;stroke-linecap:butt;stroke-linejoin:miter;stroke-opacity:1\"/>\n",
       "<path class=\"bond-1 atom-1 atom-2\" d=\"M 120.2,79.9 L 127.3,55.9\" style=\"fill:none;fill-rule:evenodd;stroke:#000000;stroke-width:2.0px;stroke-linecap:butt;stroke-linejoin:miter;stroke-opacity:1\"/>\n",
       "<path class=\"bond-1 atom-1 atom-2\" d=\"M 127.3,55.9 L 134.4,32.0\" style=\"fill:none;fill-rule:evenodd;stroke:#FF0000;stroke-width:2.0px;stroke-linecap:butt;stroke-linejoin:miter;stroke-opacity:1\"/>\n",
       "<path class=\"bond-2 atom-1 atom-3\" d=\"M 125.1,78.7 L 165.3,121.1\" style=\"fill:none;fill-rule:evenodd;stroke:#000000;stroke-width:2.0px;stroke-linecap:butt;stroke-linejoin:miter;stroke-opacity:1\"/>\n",
       "<path class=\"bond-3 atom-3 atom-4\" d=\"M 165.3,121.1 L 160.9,143.6 L 156.7,142.3 Z\" style=\"fill:#000000;fill-rule:evenodd;fill-opacity:1;stroke:#000000;stroke-width:0.5px;stroke-linecap:butt;stroke-linejoin:miter;stroke-opacity:1;\"/>\n",
       "<path class=\"bond-3 atom-3 atom-4\" d=\"M 160.9,143.6 L 148.1,163.6 L 156.5,166.1 Z\" style=\"fill:#FF0000;fill-rule:evenodd;fill-opacity:1;stroke:#FF0000;stroke-width:0.5px;stroke-linecap:butt;stroke-linejoin:miter;stroke-opacity:1;\"/>\n",
       "<path class=\"bond-3 atom-3 atom-4\" d=\"M 160.9,143.6 L 156.7,142.3 L 148.1,163.6 Z\" style=\"fill:#FF0000;fill-rule:evenodd;fill-opacity:1;stroke:#FF0000;stroke-width:0.5px;stroke-linecap:butt;stroke-linejoin:miter;stroke-opacity:1;\"/>\n",
       "<path class=\"bond-4 atom-3 atom-5\" d=\"M 165.3,121.1 L 222.1,107.4\" style=\"fill:none;fill-rule:evenodd;stroke:#000000;stroke-width:2.0px;stroke-linecap:butt;stroke-linejoin:miter;stroke-opacity:1\"/>\n",
       "<path class=\"bond-5 atom-5 atom-6\" d=\"M 222.1,107.4 L 238.7,51.4\" style=\"fill:none;fill-rule:evenodd;stroke:#000000;stroke-width:2.0px;stroke-linecap:butt;stroke-linejoin:miter;stroke-opacity:1\"/>\n",
       "<path class=\"bond-5 atom-5 atom-6\" d=\"M 231.9,105.1 L 245.6,58.8\" style=\"fill:none;fill-rule:evenodd;stroke:#000000;stroke-width:2.0px;stroke-linecap:butt;stroke-linejoin:miter;stroke-opacity:1\"/>\n",
       "<path class=\"bond-6 atom-6 atom-7\" d=\"M 238.7,51.4 L 295.5,37.8\" style=\"fill:none;fill-rule:evenodd;stroke:#000000;stroke-width:2.0px;stroke-linecap:butt;stroke-linejoin:miter;stroke-opacity:1\"/>\n",
       "<path class=\"bond-7 atom-7 atom-8\" d=\"M 295.5,37.8 L 335.7,80.2\" style=\"fill:none;fill-rule:evenodd;stroke:#000000;stroke-width:2.0px;stroke-linecap:butt;stroke-linejoin:miter;stroke-opacity:1\"/>\n",
       "<path class=\"bond-7 atom-7 atom-8\" d=\"M 292.6,47.5 L 325.8,82.5\" style=\"fill:none;fill-rule:evenodd;stroke:#000000;stroke-width:2.0px;stroke-linecap:butt;stroke-linejoin:miter;stroke-opacity:1\"/>\n",
       "<path class=\"bond-8 atom-8 atom-9\" d=\"M 335.7,80.2 L 319.1,136.2\" style=\"fill:none;fill-rule:evenodd;stroke:#000000;stroke-width:2.0px;stroke-linecap:butt;stroke-linejoin:miter;stroke-opacity:1\"/>\n",
       "<path class=\"bond-9 atom-9 atom-10\" d=\"M 319.1,136.2 L 262.3,149.8\" style=\"fill:none;fill-rule:evenodd;stroke:#000000;stroke-width:2.0px;stroke-linecap:butt;stroke-linejoin:miter;stroke-opacity:1\"/>\n",
       "<path class=\"bond-9 atom-9 atom-10\" d=\"M 312.1,128.8 L 265.2,140.1\" style=\"fill:none;fill-rule:evenodd;stroke:#000000;stroke-width:2.0px;stroke-linecap:butt;stroke-linejoin:miter;stroke-opacity:1\"/>\n",
       "<path class=\"bond-10 atom-10 atom-5\" d=\"M 262.3,149.8 L 222.1,107.4\" style=\"fill:none;fill-rule:evenodd;stroke:#000000;stroke-width:2.0px;stroke-linecap:butt;stroke-linejoin:miter;stroke-opacity:1\"/>\n",
       "<path d=\"M 122.3,79.4 L 125.1,78.7 L 127.1,80.8\" style=\"fill:none;stroke:#000000;stroke-width:2.0px;stroke-linecap:butt;stroke-linejoin:miter;stroke-opacity:1;\"/>\n",
       "<path d=\"M 163.3,118.9 L 165.3,121.1 L 168.2,120.4\" style=\"fill:none;stroke:#000000;stroke-width:2.0px;stroke-linecap:butt;stroke-linejoin:miter;stroke-opacity:1;\"/>\n",
       "<path d=\"M 237.9,54.2 L 238.7,51.4 L 241.5,50.8\" style=\"fill:none;stroke:#000000;stroke-width:2.0px;stroke-linecap:butt;stroke-linejoin:miter;stroke-opacity:1;\"/>\n",
       "<path d=\"M 292.6,38.5 L 295.5,37.8 L 297.5,39.9\" style=\"fill:none;stroke:#000000;stroke-width:2.0px;stroke-linecap:butt;stroke-linejoin:miter;stroke-opacity:1;\"/>\n",
       "<path d=\"M 333.6,78.0 L 335.7,80.2 L 334.8,83.0\" style=\"fill:none;stroke:#000000;stroke-width:2.0px;stroke-linecap:butt;stroke-linejoin:miter;stroke-opacity:1;\"/>\n",
       "<path d=\"M 319.9,133.4 L 319.1,136.2 L 316.2,136.8\" style=\"fill:none;stroke:#000000;stroke-width:2.0px;stroke-linecap:butt;stroke-linejoin:miter;stroke-opacity:1;\"/>\n",
       "<path d=\"M 265.1,149.1 L 262.3,149.8 L 260.3,147.7\" style=\"fill:none;stroke:#000000;stroke-width:2.0px;stroke-linecap:butt;stroke-linejoin:miter;stroke-opacity:1;\"/>\n",
       "<path class=\"atom-2\" d=\"M 134.1 22.8 Q 134.1 18.8, 136.1 16.6 Q 138.0 14.3, 141.7 14.3 Q 145.4 14.3, 147.3 16.6 Q 149.3 18.8, 149.3 22.8 Q 149.3 26.8, 147.3 29.1 Q 145.3 31.3, 141.7 31.3 Q 138.1 31.3, 136.1 29.1 Q 134.1 26.8, 134.1 22.8 M 141.7 29.5 Q 144.2 29.5, 145.6 27.8 Q 147.0 26.1, 147.0 22.8 Q 147.0 19.5, 145.6 17.9 Q 144.2 16.2, 141.7 16.2 Q 139.2 16.2, 137.8 17.8 Q 136.5 19.5, 136.5 22.8 Q 136.5 26.1, 137.8 27.8 Q 139.2 29.5, 141.7 29.5 \" fill=\"#FF0000\"/>\n",
       "<path class=\"atom-4\" d=\"M 141.1 177.1 Q 141.1 173.1, 143.1 170.9 Q 145.1 168.7, 148.7 168.7 Q 152.4 168.7, 154.4 170.9 Q 156.3 173.1, 156.3 177.1 Q 156.3 181.1, 154.3 183.4 Q 152.4 185.7, 148.7 185.7 Q 145.1 185.7, 143.1 183.4 Q 141.1 181.1, 141.1 177.1 M 148.7 183.8 Q 151.3 183.8, 152.6 182.1 Q 154.0 180.4, 154.0 177.1 Q 154.0 173.8, 152.6 172.2 Q 151.3 170.5, 148.7 170.5 Q 146.2 170.5, 144.8 172.2 Q 143.5 173.8, 143.5 177.1 Q 143.5 180.4, 144.8 182.1 Q 146.2 183.8, 148.7 183.8 \" fill=\"#FF0000\"/>\n",
       "<path class=\"atom-4\" d=\"M 158.9 168.9 L 161.1 168.9 L 161.1 175.9 L 169.6 175.9 L 169.6 168.9 L 171.8 168.9 L 171.8 185.4 L 169.6 185.4 L 169.6 177.8 L 161.1 177.8 L 161.1 185.4 L 158.9 185.4 L 158.9 168.9 \" fill=\"#FF0000\"/>\n",
       "<path class=\"bond-11 atom-12 atom-11\" d=\"M 522.1,78.6 L 466.4,96.5 L 464.3,88.0 Z\" style=\"fill:#000000;fill-rule:evenodd;fill-opacity:1;stroke:#000000;stroke-width:0.5px;stroke-linecap:butt;stroke-linejoin:miter;stroke-opacity:1;\"/>\n",
       "<path class=\"bond-12 atom-12 atom-13\" d=\"M 522.1,78.6 L 528.9,55.7\" style=\"fill:none;fill-rule:evenodd;stroke:#000000;stroke-width:2.0px;stroke-linecap:butt;stroke-linejoin:miter;stroke-opacity:1\"/>\n",
       "<path class=\"bond-12 atom-12 atom-13\" d=\"M 528.9,55.7 L 535.7,32.9\" style=\"fill:none;fill-rule:evenodd;stroke:#0000FF;stroke-width:2.0px;stroke-linecap:butt;stroke-linejoin:miter;stroke-opacity:1\"/>\n",
       "<path class=\"bond-13 atom-12 atom-14\" d=\"M 522.1,78.6 L 562.3,121.0\" style=\"fill:none;fill-rule:evenodd;stroke:#000000;stroke-width:2.0px;stroke-linecap:butt;stroke-linejoin:miter;stroke-opacity:1\"/>\n",
       "<path class=\"bond-14 atom-14 atom-15\" d=\"M 562.3,121.0 L 557.9,143.5 L 553.7,142.3 Z\" style=\"fill:#000000;fill-rule:evenodd;fill-opacity:1;stroke:#000000;stroke-width:0.5px;stroke-linecap:butt;stroke-linejoin:miter;stroke-opacity:1;\"/>\n",
       "<path class=\"bond-14 atom-14 atom-15\" d=\"M 557.9,143.5 L 545.2,163.5 L 553.6,166.0 Z\" style=\"fill:#FF0000;fill-rule:evenodd;fill-opacity:1;stroke:#FF0000;stroke-width:0.5px;stroke-linecap:butt;stroke-linejoin:miter;stroke-opacity:1;\"/>\n",
       "<path class=\"bond-14 atom-14 atom-15\" d=\"M 557.9,143.5 L 553.7,142.3 L 545.2,163.5 Z\" style=\"fill:#FF0000;fill-rule:evenodd;fill-opacity:1;stroke:#FF0000;stroke-width:0.5px;stroke-linecap:butt;stroke-linejoin:miter;stroke-opacity:1;\"/>\n",
       "<path class=\"bond-15 atom-14 atom-16\" d=\"M 562.3,121.0 L 619.1,107.4\" style=\"fill:none;fill-rule:evenodd;stroke:#000000;stroke-width:2.0px;stroke-linecap:butt;stroke-linejoin:miter;stroke-opacity:1\"/>\n",
       "<path class=\"bond-16 atom-16 atom-17\" d=\"M 619.1,107.4 L 635.7,51.4\" style=\"fill:none;fill-rule:evenodd;stroke:#000000;stroke-width:2.0px;stroke-linecap:butt;stroke-linejoin:miter;stroke-opacity:1\"/>\n",
       "<path class=\"bond-16 atom-16 atom-17\" d=\"M 628.9,105.0 L 642.7,58.7\" style=\"fill:none;fill-rule:evenodd;stroke:#000000;stroke-width:2.0px;stroke-linecap:butt;stroke-linejoin:miter;stroke-opacity:1\"/>\n",
       "<path class=\"bond-17 atom-17 atom-18\" d=\"M 635.7,51.4 L 692.5,37.8\" style=\"fill:none;fill-rule:evenodd;stroke:#000000;stroke-width:2.0px;stroke-linecap:butt;stroke-linejoin:miter;stroke-opacity:1\"/>\n",
       "<path class=\"bond-18 atom-18 atom-19\" d=\"M 692.5,37.8 L 732.7,80.1\" style=\"fill:none;fill-rule:evenodd;stroke:#000000;stroke-width:2.0px;stroke-linecap:butt;stroke-linejoin:miter;stroke-opacity:1\"/>\n",
       "<path class=\"bond-18 atom-18 atom-19\" d=\"M 689.6,47.5 L 722.8,82.5\" style=\"fill:none;fill-rule:evenodd;stroke:#000000;stroke-width:2.0px;stroke-linecap:butt;stroke-linejoin:miter;stroke-opacity:1\"/>\n",
       "<path class=\"bond-19 atom-19 atom-20\" d=\"M 732.7,80.1 L 716.1,136.1\" style=\"fill:none;fill-rule:evenodd;stroke:#000000;stroke-width:2.0px;stroke-linecap:butt;stroke-linejoin:miter;stroke-opacity:1\"/>\n",
       "<path class=\"bond-20 atom-20 atom-21\" d=\"M 716.1,136.1 L 659.3,149.7\" style=\"fill:none;fill-rule:evenodd;stroke:#000000;stroke-width:2.0px;stroke-linecap:butt;stroke-linejoin:miter;stroke-opacity:1\"/>\n",
       "<path class=\"bond-20 atom-20 atom-21\" d=\"M 709.1,128.8 L 662.2,140.0\" style=\"fill:none;fill-rule:evenodd;stroke:#000000;stroke-width:2.0px;stroke-linecap:butt;stroke-linejoin:miter;stroke-opacity:1\"/>\n",
       "<path class=\"bond-21 atom-21 atom-16\" d=\"M 659.3,149.7 L 619.1,107.4\" style=\"fill:none;fill-rule:evenodd;stroke:#000000;stroke-width:2.0px;stroke-linecap:butt;stroke-linejoin:miter;stroke-opacity:1\"/>\n",
       "<path d=\"M 522.5,77.5 L 522.1,78.6 L 524.1,80.8\" style=\"fill:none;stroke:#000000;stroke-width:2.0px;stroke-linecap:butt;stroke-linejoin:miter;stroke-opacity:1;\"/>\n",
       "<path d=\"M 560.3,118.9 L 562.3,121.0 L 565.2,120.3\" style=\"fill:none;stroke:#000000;stroke-width:2.0px;stroke-linecap:butt;stroke-linejoin:miter;stroke-opacity:1;\"/>\n",
       "<path d=\"M 634.9,54.2 L 635.7,51.4 L 638.5,50.7\" style=\"fill:none;stroke:#000000;stroke-width:2.0px;stroke-linecap:butt;stroke-linejoin:miter;stroke-opacity:1;\"/>\n",
       "<path d=\"M 689.6,38.4 L 692.5,37.8 L 694.5,39.9\" style=\"fill:none;stroke:#000000;stroke-width:2.0px;stroke-linecap:butt;stroke-linejoin:miter;stroke-opacity:1;\"/>\n",
       "<path d=\"M 730.7,78.0 L 732.7,80.1 L 731.8,82.9\" style=\"fill:none;stroke:#000000;stroke-width:2.0px;stroke-linecap:butt;stroke-linejoin:miter;stroke-opacity:1;\"/>\n",
       "<path d=\"M 716.9,133.3 L 716.1,136.1 L 713.2,136.8\" style=\"fill:none;stroke:#000000;stroke-width:2.0px;stroke-linecap:butt;stroke-linejoin:miter;stroke-opacity:1;\"/>\n",
       "<path d=\"M 662.1,149.1 L 659.3,149.7 L 657.3,147.6\" style=\"fill:none;stroke:#000000;stroke-width:2.0px;stroke-linecap:butt;stroke-linejoin:miter;stroke-opacity:1;\"/>\n",
       "<path class=\"atom-2\" d=\"M 535.1 14.4 L 540.5 23.1 Q 541.0 24.0, 541.9 25.6 Q 542.7 27.1, 542.8 27.2 L 542.8 14.4 L 545.0 14.4 L 545.0 30.9 L 542.7 30.9 L 536.9 21.3 Q 536.2 20.2, 535.5 18.9 Q 534.8 17.7, 534.6 17.3 L 534.6 30.9 L 532.4 30.9 L 532.4 14.4 L 535.1 14.4 \" fill=\"#0000FF\"/>\n",
       "<path class=\"atom-2\" d=\"M 548.2 14.4 L 550.4 14.4 L 550.4 21.4 L 558.8 21.4 L 558.8 14.4 L 561.1 14.4 L 561.1 30.9 L 558.8 30.9 L 558.8 23.3 L 550.4 23.3 L 550.4 30.9 L 548.2 30.9 L 548.2 14.4 \" fill=\"#0000FF\"/>\n",
       "<path class=\"atom-2\" d=\"M 564.3 30.3 Q 564.7 29.3, 565.7 28.7 Q 566.6 28.2, 568.0 28.2 Q 569.6 28.2, 570.5 29.1 Q 571.5 29.9, 571.5 31.5 Q 571.5 33.2, 570.3 34.7 Q 569.1 36.2, 566.6 38.0 L 571.7 38.0 L 571.7 39.2 L 564.3 39.2 L 564.3 38.2 Q 566.3 36.7, 567.5 35.6 Q 568.8 34.6, 569.3 33.6 Q 569.9 32.6, 569.9 31.6 Q 569.9 30.6, 569.4 30.0 Q 568.9 29.4, 568.0 29.4 Q 567.1 29.4, 566.5 29.7 Q 565.9 30.1, 565.5 30.9 L 564.3 30.3 \" fill=\"#0000FF\"/>\n",
       "<path class=\"atom-4\" d=\"M 538.1 177.0 Q 538.1 173.1, 540.1 170.8 Q 542.1 168.6, 545.7 168.6 Q 549.4 168.6, 551.4 170.8 Q 553.3 173.1, 553.3 177.0 Q 553.3 181.1, 551.3 183.3 Q 549.4 185.6, 545.7 185.6 Q 542.1 185.6, 540.1 183.3 Q 538.1 181.1, 538.1 177.0 M 545.7 183.7 Q 548.3 183.7, 549.6 182.1 Q 551.0 180.4, 551.0 177.0 Q 551.0 173.8, 549.6 172.2 Q 548.3 170.5, 545.7 170.5 Q 543.2 170.5, 541.8 172.1 Q 540.5 173.8, 540.5 177.0 Q 540.5 180.4, 541.8 182.1 Q 543.2 183.7, 545.7 183.7 \" fill=\"#FF0000\"/>\n",
       "<path class=\"atom-4\" d=\"M 555.9 168.8 L 558.1 168.8 L 558.1 175.8 L 566.6 175.8 L 566.6 168.8 L 568.8 168.8 L 568.8 185.4 L 566.6 185.4 L 566.6 177.7 L 558.1 177.7 L 558.1 185.4 L 555.9 185.4 L 555.9 168.8 \" fill=\"#FF0000\"/>\n",
       "<path d=\"M 357.0,100.0 L 443.0,100.0\" style=\"fill:none;fill-rule:evenodd;stroke:#000000;stroke-width:2.0px;stroke-linecap:butt;stroke-linejoin:miter;stroke-opacity:1\"/>\n",
       "<path d=\"M 443.0,100.0 L 438.0,102.9\" style=\"fill:none;fill-rule:evenodd;stroke:#000000;stroke-width:2.0px;stroke-linecap:butt;stroke-linejoin:miter;stroke-opacity:1\"/>\n",
       "<path d=\"M 443.0,100.0 L 438.0,97.1\" style=\"fill:none;fill-rule:evenodd;stroke:#000000;stroke-width:2.0px;stroke-linecap:butt;stroke-linejoin:miter;stroke-opacity:1\"/>\n",
       "</svg>"
      ],
      "text/plain": [
       "<IPython.core.display.SVG object>"
      ]
     },
     "metadata": {},
     "output_type": "display_data"
    },
    {
     "name": "stdout",
     "output_type": "stream",
     "text": [
      "-------------------------------------------------------------------------------------------------------------------------------------------------\n"
     ]
    },
    {
     "name": "stdin",
     "output_type": "stream",
     "text": [
      "Enter a number (1-4) to explore a path or type 'exit' to quit:  exit\n"
     ]
    },
    {
     "name": "stdout",
     "output_type": "stream",
     "text": [
      "Program has been terminated.\n"
     ]
    }
   ],
   "source": [
    "print(\"There are \" + str(len(paths)) + \" paths found.\")\n",
    "while True:\n",
    "    user_input = input(f\"Enter a number (1-{len(paths)}) to explore a path or type 'exit' to quit: \")\n",
    "\n",
    "    if user_input.lower() == \"exit\":\n",
    "        print(\"Program has been terminated.\")\n",
    "        break\n",
    "\n",
    "    try:\n",
    "        num = int(user_input)\n",
    "        if 1 <= num <= len(paths):\n",
    "            path_explorer2(paths[num - 1], num, len(paths))\n",
    "        else:\n",
    "            print(f\"Invalid input. Please enter a number between 1 and {len(paths)}.\")\n",
    "    except ValueError:\n",
    "        print(\"Invalid input. Please enter a valid integer or type 'exit' to quit.\")\n",
    "    print(\"-------------------------------------------------------------------------------------------------------------------------------------------------\")"
   ]
  },
  {
   "cell_type": "code",
   "execution_count": null,
   "metadata": {},
   "outputs": [],
   "source": []
  }
 ],
 "metadata": {
  "kernelspec": {
   "display_name": "Python 3.9 (Default)",
   "language": "python",
   "name": "python3"
  },
  "language_info": {
   "codemirror_mode": {
    "name": "ipython",
    "version": 3
   },
   "file_extension": ".py",
   "mimetype": "text/x-python",
   "name": "python",
   "nbconvert_exporter": "python",
   "pygments_lexer": "ipython3",
   "version": "3.9.13"
  }
 },
 "nbformat": 4,
 "nbformat_minor": 4
}
